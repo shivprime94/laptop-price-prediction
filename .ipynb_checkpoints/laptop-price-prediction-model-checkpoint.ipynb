{
 "cells": [
  {
   "cell_type": "markdown",
   "id": "a1f0adaa",
   "metadata": {},
   "source": [
    "# Model Testing."
   ]
  },
  {
   "cell_type": "raw",
   "id": "ea3f2c33",
   "metadata": {},
   "source": [
    "# in the last file, we processed our data and saved the file with 'laptop_eda_final'.\n",
    "# now we will import it to check how different perform on our datase, and which model is best for us for price prediciton."
   ]
  },
  {
   "cell_type": "code",
   "execution_count": 1,
   "id": "3915c69d",
   "metadata": {},
   "outputs": [],
   "source": [
    "import numpy as np\n",
    "import pandas as pd\n",
    "import matplotlib.pyplot as plt\n",
    "import seaborn as sn\n",
    "%matplotlib inline"
   ]
  },
  {
   "cell_type": "raw",
   "id": "ad0f562c",
   "metadata": {},
   "source": [
    "# from last file(eda)\n",
    "If we get any distribution which are not skewed centreally, we need to apply various \n",
    "distribution transformation to make it gaussian distributed.\n",
    "# model performance is better on gaussian or any centrally distributed distribution.\n"
   ]
  },
  {
   "cell_type": "markdown",
   "id": "6bc0ab65",
   "metadata": {},
   "source": [
    "# model building"
   ]
  },
  {
   "cell_type": "code",
   "execution_count": 2,
   "id": "60c33cc4",
   "metadata": {},
   "outputs": [],
   "source": [
    "#importing dataset.\n",
    "df = pd.read_csv('laptop_eda_final.csv')"
   ]
  },
  {
   "cell_type": "code",
   "execution_count": 3,
   "id": "f0b5bae9",
   "metadata": {},
   "outputs": [
    {
     "data": {
      "text/html": [
       "<div>\n",
       "<style scoped>\n",
       "    .dataframe tbody tr th:only-of-type {\n",
       "        vertical-align: middle;\n",
       "    }\n",
       "\n",
       "    .dataframe tbody tr th {\n",
       "        vertical-align: top;\n",
       "    }\n",
       "\n",
       "    .dataframe thead th {\n",
       "        text-align: right;\n",
       "    }\n",
       "</style>\n",
       "<table border=\"1\" class=\"dataframe\">\n",
       "  <thead>\n",
       "    <tr style=\"text-align: right;\">\n",
       "      <th></th>\n",
       "      <th>Company</th>\n",
       "      <th>TypeName</th>\n",
       "      <th>Ram</th>\n",
       "      <th>OpSys</th>\n",
       "      <th>Weight</th>\n",
       "      <th>Price</th>\n",
       "      <th>TouchScreen</th>\n",
       "      <th>IPS</th>\n",
       "      <th>PPI</th>\n",
       "      <th>CpuName</th>\n",
       "      <th>HDD</th>\n",
       "      <th>SSD</th>\n",
       "      <th>Gpu_brand</th>\n",
       "    </tr>\n",
       "  </thead>\n",
       "  <tbody>\n",
       "    <tr>\n",
       "      <th>0</th>\n",
       "      <td>Apple</td>\n",
       "      <td>Ultrabook</td>\n",
       "      <td>8</td>\n",
       "      <td>Mac</td>\n",
       "      <td>1.37</td>\n",
       "      <td>71378.6832</td>\n",
       "      <td>0</td>\n",
       "      <td>1</td>\n",
       "      <td>226.983005</td>\n",
       "      <td>Intel Core i5</td>\n",
       "      <td>0</td>\n",
       "      <td>128</td>\n",
       "      <td>Intel</td>\n",
       "    </tr>\n",
       "    <tr>\n",
       "      <th>1</th>\n",
       "      <td>Apple</td>\n",
       "      <td>Ultrabook</td>\n",
       "      <td>8</td>\n",
       "      <td>Mac</td>\n",
       "      <td>1.34</td>\n",
       "      <td>47895.5232</td>\n",
       "      <td>0</td>\n",
       "      <td>0</td>\n",
       "      <td>127.677940</td>\n",
       "      <td>Intel Core i5</td>\n",
       "      <td>0</td>\n",
       "      <td>0</td>\n",
       "      <td>Intel</td>\n",
       "    </tr>\n",
       "    <tr>\n",
       "      <th>2</th>\n",
       "      <td>HP</td>\n",
       "      <td>Notebook</td>\n",
       "      <td>8</td>\n",
       "      <td>Others</td>\n",
       "      <td>1.86</td>\n",
       "      <td>30636.0000</td>\n",
       "      <td>0</td>\n",
       "      <td>0</td>\n",
       "      <td>141.211998</td>\n",
       "      <td>Intel Core i5</td>\n",
       "      <td>0</td>\n",
       "      <td>256</td>\n",
       "      <td>Intel</td>\n",
       "    </tr>\n",
       "  </tbody>\n",
       "</table>\n",
       "</div>"
      ],
      "text/plain": [
       "  Company   TypeName  Ram   OpSys  Weight       Price  TouchScreen  IPS  \\\n",
       "0   Apple  Ultrabook    8     Mac    1.37  71378.6832            0    1   \n",
       "1   Apple  Ultrabook    8     Mac    1.34  47895.5232            0    0   \n",
       "2      HP   Notebook    8  Others    1.86  30636.0000            0    0   \n",
       "\n",
       "          PPI        CpuName  HDD  SSD Gpu_brand  \n",
       "0  226.983005  Intel Core i5    0  128     Intel  \n",
       "1  127.677940  Intel Core i5    0    0     Intel  \n",
       "2  141.211998  Intel Core i5    0  256     Intel  "
      ]
     },
     "execution_count": 3,
     "metadata": {},
     "output_type": "execute_result"
    }
   ],
   "source": [
    "df.head(3)"
   ]
  },
  {
   "cell_type": "code",
   "execution_count": 4,
   "id": "1b4d3599",
   "metadata": {},
   "outputs": [],
   "source": [
    "y = np.log(df['Price'])\n",
    "x = df.drop(['Price'],axis=1)"
   ]
  },
  {
   "cell_type": "code",
   "execution_count": 5,
   "id": "e2b6b5bc",
   "metadata": {},
   "outputs": [
    {
     "data": {
      "text/html": [
       "<div>\n",
       "<style scoped>\n",
       "    .dataframe tbody tr th:only-of-type {\n",
       "        vertical-align: middle;\n",
       "    }\n",
       "\n",
       "    .dataframe tbody tr th {\n",
       "        vertical-align: top;\n",
       "    }\n",
       "\n",
       "    .dataframe thead th {\n",
       "        text-align: right;\n",
       "    }\n",
       "</style>\n",
       "<table border=\"1\" class=\"dataframe\">\n",
       "  <thead>\n",
       "    <tr style=\"text-align: right;\">\n",
       "      <th></th>\n",
       "      <th>Company</th>\n",
       "      <th>TypeName</th>\n",
       "      <th>Ram</th>\n",
       "      <th>OpSys</th>\n",
       "      <th>Weight</th>\n",
       "      <th>TouchScreen</th>\n",
       "      <th>IPS</th>\n",
       "      <th>PPI</th>\n",
       "      <th>CpuName</th>\n",
       "      <th>HDD</th>\n",
       "      <th>SSD</th>\n",
       "      <th>Gpu_brand</th>\n",
       "    </tr>\n",
       "  </thead>\n",
       "  <tbody>\n",
       "    <tr>\n",
       "      <th>0</th>\n",
       "      <td>Apple</td>\n",
       "      <td>Ultrabook</td>\n",
       "      <td>8</td>\n",
       "      <td>Mac</td>\n",
       "      <td>1.37</td>\n",
       "      <td>0</td>\n",
       "      <td>1</td>\n",
       "      <td>226.983005</td>\n",
       "      <td>Intel Core i5</td>\n",
       "      <td>0</td>\n",
       "      <td>128</td>\n",
       "      <td>Intel</td>\n",
       "    </tr>\n",
       "    <tr>\n",
       "      <th>1</th>\n",
       "      <td>Apple</td>\n",
       "      <td>Ultrabook</td>\n",
       "      <td>8</td>\n",
       "      <td>Mac</td>\n",
       "      <td>1.34</td>\n",
       "      <td>0</td>\n",
       "      <td>0</td>\n",
       "      <td>127.677940</td>\n",
       "      <td>Intel Core i5</td>\n",
       "      <td>0</td>\n",
       "      <td>0</td>\n",
       "      <td>Intel</td>\n",
       "    </tr>\n",
       "  </tbody>\n",
       "</table>\n",
       "</div>"
      ],
      "text/plain": [
       "  Company   TypeName  Ram OpSys  Weight  TouchScreen  IPS         PPI  \\\n",
       "0   Apple  Ultrabook    8   Mac    1.37            0    1  226.983005   \n",
       "1   Apple  Ultrabook    8   Mac    1.34            0    0  127.677940   \n",
       "\n",
       "         CpuName  HDD  SSD Gpu_brand  \n",
       "0  Intel Core i5    0  128     Intel  \n",
       "1  Intel Core i5    0    0     Intel  "
      ]
     },
     "execution_count": 5,
     "metadata": {},
     "output_type": "execute_result"
    }
   ],
   "source": [
    "x.head(2)"
   ]
  },
  {
   "cell_type": "markdown",
   "id": "6d587f2e",
   "metadata": {},
   "source": [
    "# importing all the necessary libraries for model building."
   ]
  },
  {
   "cell_type": "code",
   "execution_count": null,
   "id": "1aa588c4",
   "metadata": {},
   "outputs": [],
   "source": []
  },
  {
   "cell_type": "code",
   "execution_count": 6,
   "id": "76b0fce3",
   "metadata": {},
   "outputs": [],
   "source": [
    "from sklearn.model_selection import train_test_split\n",
    "from sklearn.preprocessing import MinMaxScaler,StandardScaler\n",
    "from sklearn.pipeline import Pipeline\n",
    "from sklearn.compose import ColumnTransformer\n",
    "from sklearn.preprocessing import LabelEncoder,OneHotEncoder\n",
    "from sklearn import metrics\n",
    "from sklearn.model_selection import RandomizedSearchCV\n",
    "from sklearn.linear_model import LinearRegression,Lasso,Ridge\n",
    "from sklearn.tree import DecisionTreeRegressor\n",
    "from sklearn.ensemble import RandomForestRegressor,GradientBoostingRegressor\n",
    "from xgboost import XGBRegressor\n",
    "from sklearn.svm import SVR\n",
    "from sklearn.neighbors import KNeighborsRegressor\n",
    "from sklearn import tree"
   ]
  },
  {
   "cell_type": "markdown",
   "id": "dd6c7c0b",
   "metadata": {},
   "source": [
    "# train test split"
   ]
  },
  {
   "cell_type": "code",
   "execution_count": 7,
   "id": "865dea59",
   "metadata": {},
   "outputs": [],
   "source": [
    "x_train,x_test,y_train,y_test = train_test_split(x,y,test_size=0.15,random_state=2)"
   ]
  },
  {
   "cell_type": "code",
   "execution_count": 8,
   "id": "76998042",
   "metadata": {},
   "outputs": [
    {
     "data": {
      "text/plain": [
       "((1106, 12), (196, 12))"
      ]
     },
     "execution_count": 8,
     "metadata": {},
     "output_type": "execute_result"
    }
   ],
   "source": [
    "x_train.shape,x_test.shape"
   ]
  },
  {
   "cell_type": "code",
   "execution_count": 9,
   "id": "f97bae95",
   "metadata": {},
   "outputs": [],
   "source": [
    "# so 1106 are used for training, and 196 for validation."
   ]
  },
  {
   "cell_type": "raw",
   "id": "87bfa11a",
   "metadata": {},
   "source": [
    "We will be using Pipelines,the class column Tansformer will help us in this."
   ]
  },
  {
   "cell_type": "raw",
   "id": "d474d333",
   "metadata": {},
   "source": [
    "Pipeline allows us to chain multiple steps together, such as data preprocessing, feature selection, and model training, and treat them as a single entity."
   ]
  },
  {
   "cell_type": "code",
   "execution_count": 10,
   "id": "790ba752",
   "metadata": {},
   "outputs": [
    {
     "name": "stdout",
     "output_type": "stream",
     "text": [
      "0 Company\n",
      "1 TypeName\n",
      "2 Ram\n",
      "3 OpSys\n",
      "4 Weight\n",
      "5 Price\n",
      "6 TouchScreen\n",
      "7 IPS\n",
      "8 PPI\n",
      "9 CpuName\n",
      "10 HDD\n",
      "11 SSD\n",
      "12 Gpu_brand\n"
     ]
    }
   ],
   "source": [
    "# Print features and their indices\n",
    "for index, feature in enumerate(df.columns):\n",
    "    print(index,feature)"
   ]
  },
  {
   "cell_type": "code",
   "execution_count": 11,
   "id": "41160d60",
   "metadata": {},
   "outputs": [],
   "source": [
    "# or using mapping function: better method.\n",
    "mapper = {i:value for i,value in enumerate(x_train.columns)}\n"
   ]
  },
  {
   "cell_type": "code",
   "execution_count": 12,
   "id": "a1af0f06",
   "metadata": {},
   "outputs": [
    {
     "data": {
      "text/plain": [
       "{0: 'Company',\n",
       " 1: 'TypeName',\n",
       " 2: 'Ram',\n",
       " 3: 'OpSys',\n",
       " 4: 'Weight',\n",
       " 5: 'TouchScreen',\n",
       " 6: 'IPS',\n",
       " 7: 'PPI',\n",
       " 8: 'CpuName',\n",
       " 9: 'HDD',\n",
       " 10: 'SSD',\n",
       " 11: 'Gpu_brand'}"
      ]
     },
     "execution_count": 12,
     "metadata": {},
     "output_type": "execute_result"
    }
   ],
   "source": [
    "mapper"
   ]
  },
  {
   "cell_type": "code",
   "execution_count": 13,
   "id": "2d6fac90",
   "metadata": {},
   "outputs": [],
   "source": [
    "# categorical features are at [0,1,3,8,11]- onehotEncoding.\n"
   ]
  },
  {
   "cell_type": "markdown",
   "id": "c094ddd7",
   "metadata": {},
   "source": [
    "# Use of pipeline to execute multiple steps."
   ]
  },
  {
   "cell_type": "markdown",
   "id": "749a79ad",
   "metadata": {},
   "source": [
    "# Linear Regresssion"
   ]
  },
  {
   "cell_type": "code",
   "execution_count": 14,
   "id": "bf5cb84f",
   "metadata": {},
   "outputs": [
    {
     "name": "stdout",
     "output_type": "stream",
     "text": [
      "R2 score 0.8074747228002342\n",
      "MAE 0.20953298581189553\n"
     ]
    }
   ],
   "source": [
    "#--creating an object-- stpe1 of columntransformer class\n",
    "#-- using onehotencoding to transform the columns mentioned.\n",
    "#-- sparse = False will return a dense matrix (not that identity n*n type of sparse matrix)\n",
    "#-- drop = first, will drop the first column to get rid of redundancy.\n",
    "#-- remainder = passthrough, will pass other columns as it is, without disturbing.\n",
    "\n",
    "#--- created 2 steps : feature engg, model fitting:\n",
    "#--- passed it to our pipeline.)\n",
    "step1 = ColumnTransformer(transformers=[\n",
    "    ('col_tnf',OneHotEncoder(sparse=False,drop='first'),[0,1,3,8,11])\n",
    "],remainder ='passthrough')\n",
    "\n",
    "step2 = LinearRegression()\n",
    "# to identify any object we mentioned 'step1' or 'step2' as labels of step1, step2 objects.\n",
    "pipe = Pipeline([\n",
    "    ('step1',step1),\n",
    "    ('step2',step2)\n",
    "])\n",
    "\n",
    "pipe.fit(x_train,y_train)\n",
    "y_pred = pipe.predict(x_test)\n",
    "print('R2 score', metrics.r2_score(y_test,y_pred))\n",
    "print('MAE', metrics.mean_absolute_error(y_test,y_pred))"
   ]
  },
  {
   "cell_type": "code",
   "execution_count": 15,
   "id": "6ea1c4a3",
   "metadata": {},
   "outputs": [],
   "source": [
    "# R2 score means it gives accruacy of 80%.\n",
    "# mean abs error is 0.20"
   ]
  },
  {
   "cell_type": "code",
   "execution_count": 16,
   "id": "03c7d154",
   "metadata": {},
   "outputs": [
    {
     "data": {
      "text/plain": [
       "1.2336780599567432"
      ]
     },
     "execution_count": 16,
     "metadata": {},
     "output_type": "execute_result"
    }
   ],
   "source": [
    "# MAE  value--convert to exp.\n",
    "np.exp(0.21)"
   ]
  },
  {
   "cell_type": "code",
   "execution_count": 17,
   "id": "57105401",
   "metadata": {},
   "outputs": [],
   "source": [
    "# ie. there is only difference of 1.23 from our acutal price."
   ]
  },
  {
   "cell_type": "markdown",
   "id": "28f048ae",
   "metadata": {},
   "source": [
    "# Ridge Regression"
   ]
  },
  {
   "cell_type": "code",
   "execution_count": 18,
   "id": "6ec9e56f",
   "metadata": {},
   "outputs": [
    {
     "name": "stdout",
     "output_type": "stream",
     "text": [
      "R2 score 0.8130100482583098\n",
      "MAE 0.20947753178171669\n"
     ]
    }
   ],
   "source": [
    "# same as linear Regression. applying onehot encoding on those categorical features.\n",
    "\n",
    "step1 = ColumnTransformer(transformers=[\n",
    "    ('col_tnf',OneHotEncoder(sparse=False,drop='first'),[0,1,3,8,11])\n",
    "],remainder='passthrough')\n",
    "\n",
    "step2= Ridge(alpha=10)\n",
    "\n",
    "pipe = Pipeline([\n",
    "    ('step1',step1),\n",
    "    ('step2',step2)\n",
    "])\n",
    "pipe.fit(x_train,y_train)\n",
    "y_pred= pipe.predict(x_test)\n",
    "\n",
    "print('R2 score',metrics.r2_score(y_test,y_pred))\n",
    "print('MAE',metrics.mean_absolute_error(y_test,y_pred))"
   ]
  },
  {
   "cell_type": "raw",
   "id": "7f1b9533",
   "metadata": {},
   "source": [
    "R2 score:  0.8130100482583098\n",
    "MAE: 0.20947753178171669"
   ]
  },
  {
   "cell_type": "markdown",
   "id": "f65bd057",
   "metadata": {},
   "source": [
    "# Lasso Regression"
   ]
  },
  {
   "cell_type": "code",
   "execution_count": 19,
   "id": "3476699e",
   "metadata": {},
   "outputs": [
    {
     "name": "stdout",
     "output_type": "stream",
     "text": [
      "R2 score 0.8070666418027714\n",
      "MAE 0.2113739463823129\n"
     ]
    }
   ],
   "source": [
    "step1 = ColumnTransformer(transformers=[\n",
    "    ('col_tnf',OneHotEncoder(sparse=False,drop='first'),[0,1,3,8,11])\n",
    "],remainder = 'passthrough')\n",
    "\n",
    "step2 = Lasso(alpha=0.001)\n",
    "\n",
    "pipe = Pipeline([\n",
    "    ('step1',step1),\n",
    "    ('step2',step2)\n",
    "])\n",
    "# model fitting.\n",
    "pipe.fit(x_train,y_train)\n",
    "# test prediction\n",
    "y_pred = pipe.predict(x_test)\n",
    "# statistics.\n",
    "print('R2 score',metrics.r2_score(y_test,y_pred))\n",
    "print('MAE', metrics.mean_absolute_error(y_test,y_pred))"
   ]
  },
  {
   "cell_type": "raw",
   "id": "b4472052",
   "metadata": {},
   "source": [
    "R2 score: 0.8070666418027714\n",
    "MAE: 0.2113739463823129"
   ]
  },
  {
   "cell_type": "code",
   "execution_count": 20,
   "id": "c1344f5e",
   "metadata": {},
   "outputs": [],
   "source": [
    "# so till now Ridge Regression is gave max accuracy: 81%."
   ]
  },
  {
   "cell_type": "code",
   "execution_count": 21,
   "id": "b749cb93",
   "metadata": {},
   "outputs": [],
   "source": [
    "# Ensemble techniques (tree based)"
   ]
  },
  {
   "cell_type": "markdown",
   "id": "909bd8e1",
   "metadata": {},
   "source": [
    "# Decision Tree"
   ]
  },
  {
   "cell_type": "code",
   "execution_count": 22,
   "id": "2e8737ad",
   "metadata": {},
   "outputs": [
    {
     "name": "stdout",
     "output_type": "stream",
     "text": [
      "R2 score 0.8406832153024276\n",
      "MAE 0.18224161781773124\n"
     ]
    }
   ],
   "source": [
    "step1 = ColumnTransformer(transformers=[\n",
    "    ('col_tnf',OneHotEncoder(sparse=False,drop='first'),[0,1,3,8,11])\n",
    "],remainder ='passthrough')\n",
    "\n",
    "#usinng paramter: max_depth = 8 ( or no of splits), if we put higher value of depth---> then we will possible get pure results\n",
    "# but then the model will be overfitted.\n",
    "step2 = DecisionTreeRegressor(max_depth=8)\n",
    "\n",
    "pipe = Pipeline([\n",
    "    ('step1',step1),\n",
    "    ('step2',step2)\n",
    "])\n",
    "\n",
    "pipe.fit(x_train,y_train)\n",
    "y_pred = pipe.predict(x_test)\n",
    "\n",
    "print('R2 score', metrics.r2_score(y_test,y_pred))\n",
    "print('MAE', metrics.mean_absolute_error(y_test,y_pred))"
   ]
  },
  {
   "cell_type": "raw",
   "id": "5b6dcd78",
   "metadata": {},
   "source": [
    "R2 score: 0.8487472829423638\n",
    "MAE: 0.17815575011508514\n",
    "# accuracy increased."
   ]
  },
  {
   "cell_type": "markdown",
   "id": "d72ac93f",
   "metadata": {},
   "source": [
    "# Random Forest"
   ]
  },
  {
   "cell_type": "raw",
   "id": "1037d9a4",
   "metadata": {},
   "source": [
    "it uses bootstrapping and aggregating:\n",
    ":bootstrapping--> randomly selecting a subset of dataset with replacement (with only some features) and get the output.\n",
    ": do it for other subsets and aggregate them.\n",
    "bootstrapping + aggregating == bagging."
   ]
  },
  {
   "cell_type": "code",
   "execution_count": 23,
   "id": "a6a9bfaf",
   "metadata": {},
   "outputs": [
    {
     "name": "stdout",
     "output_type": "stream",
     "text": [
      "R2 score 0.885148335707028\n",
      "MAE 0.15980164323910398\n"
     ]
    }
   ],
   "source": [
    "# applying random forest model.\n",
    "step1 = ColumnTransformer(transformers=[\n",
    "    ('col_tnf',OneHotEncoder(sparse=False,drop='first'),[0,1,3,8,11])\n",
    "],remainder ='passthrough')\n",
    "\n",
    "#usinng paramter: max_depth = 8 ( or no of splits), if we put higher value of depth---> then we will possible get pure results\n",
    "# but then the model will be overfitted.\n",
    "step2 = RandomForestRegressor(n_estimators=100,\n",
    "                             random_state=3,\n",
    "                             max_samples=0.5,\n",
    "                             max_features=0.75,\n",
    "                             max_depth=15)\n",
    "\n",
    "pipe = Pipeline([\n",
    "    ('step1',step1),\n",
    "    ('step2',step2)\n",
    "])\n",
    "\n",
    "pipe.fit(x_train,y_train)\n",
    "y_pred = pipe.predict(x_test)\n",
    "\n",
    "print('R2 score', metrics.r2_score(y_test,y_pred))\n",
    "print('MAE', metrics.mean_absolute_error(y_test,y_pred))"
   ]
  },
  {
   "cell_type": "code",
   "execution_count": 24,
   "id": "559ff62c",
   "metadata": {},
   "outputs": [],
   "source": [
    "# So here, we are getting 88.5% accuracy."
   ]
  },
  {
   "cell_type": "markdown",
   "id": "f3f9a8c4",
   "metadata": {},
   "source": [
    "Keep note of accuracy = 88.5148% , ahead we will try to find the best estimators and then predict the accuracy.\n"
   ]
  },
  {
   "cell_type": "code",
   "execution_count": 26,
   "id": "b221c2da",
   "metadata": {},
   "outputs": [],
   "source": [
    "# storing them.\n",
    "import pickle\n",
    "pickle.dump(df,open('df.pkl','wb'))\n",
    "pickle.dump(pipe,open('pipe.pkl','wb'))"
   ]
  },
  {
   "cell_type": "raw",
   "id": "d4336f92",
   "metadata": {},
   "source": [
    "In the first line, pickle.dump(df, open('df.pkl', 'wb')), it serializes and saves the df object to a file named 'df.pkl'.\n",
    "The file is opened in binary mode ('wb') to ensure compatibility across different platforms.\n",
    "\n",
    "Similarly, in the second line, pickle.dump(pipe, open('pipe.pkl', 'wb')), it serializes and saves the pipe object (a trained pipeline or model) to a file named 'pipe.pkl'"
   ]
  },
  {
   "cell_type": "markdown",
   "id": "be992674",
   "metadata": {},
   "source": [
    "# Hyperparameter Tuning for Random Forest"
   ]
  },
  {
   "cell_type": "code",
   "execution_count": 27,
   "id": "d6e90ebc",
   "metadata": {},
   "outputs": [
    {
     "data": {
      "text/plain": [
       "['Company', 'TypeName', 'OpSys', 'CpuName', 'Gpu_brand']"
      ]
     },
     "execution_count": 27,
     "metadata": {},
     "output_type": "execute_result"
    }
   ],
   "source": [
    "#list of all the categorical features. || mapper is list of all features.\n",
    "indexlist = [0,1,3,8,11]\n",
    "transformlist = []\n",
    "for key, value in mapper.items():\n",
    "    if key  in indexlist:\n",
    "        transformlist.append(value)\n",
    "transformlist"
   ]
  },
  {
   "cell_type": "code",
   "execution_count": 28,
   "id": "6b82fa4e",
   "metadata": {},
   "outputs": [],
   "source": [
    "# using get_dummies encoding technique/ same as OneHot Encoding.\n",
    "x = pd.get_dummies(x,columns=transformlist, drop_first=True)\n"
   ]
  },
  {
   "cell_type": "code",
   "execution_count": 29,
   "id": "780e2cdf",
   "metadata": {},
   "outputs": [
    {
     "data": {
      "text/html": [
       "<div>\n",
       "<style scoped>\n",
       "    .dataframe tbody tr th:only-of-type {\n",
       "        vertical-align: middle;\n",
       "    }\n",
       "\n",
       "    .dataframe tbody tr th {\n",
       "        vertical-align: top;\n",
       "    }\n",
       "\n",
       "    .dataframe thead th {\n",
       "        text-align: right;\n",
       "    }\n",
       "</style>\n",
       "<table border=\"1\" class=\"dataframe\">\n",
       "  <thead>\n",
       "    <tr style=\"text-align: right;\">\n",
       "      <th></th>\n",
       "      <th>Ram</th>\n",
       "      <th>Weight</th>\n",
       "      <th>TouchScreen</th>\n",
       "      <th>IPS</th>\n",
       "      <th>PPI</th>\n",
       "      <th>HDD</th>\n",
       "      <th>SSD</th>\n",
       "      <th>Company_Apple</th>\n",
       "      <th>Company_Asus</th>\n",
       "      <th>Company_Chuwi</th>\n",
       "      <th>...</th>\n",
       "      <th>TypeName_Ultrabook</th>\n",
       "      <th>TypeName_Workstation</th>\n",
       "      <th>OpSys_Others</th>\n",
       "      <th>OpSys_Windows</th>\n",
       "      <th>CpuName_Intel Core i3</th>\n",
       "      <th>CpuName_Intel Core i5</th>\n",
       "      <th>CpuName_Intel Core i7</th>\n",
       "      <th>CpuName_Other Intel Processor</th>\n",
       "      <th>Gpu_brand_Intel</th>\n",
       "      <th>Gpu_brand_Nvidia</th>\n",
       "    </tr>\n",
       "  </thead>\n",
       "  <tbody>\n",
       "    <tr>\n",
       "      <th>0</th>\n",
       "      <td>8</td>\n",
       "      <td>1.37</td>\n",
       "      <td>0</td>\n",
       "      <td>1</td>\n",
       "      <td>226.983005</td>\n",
       "      <td>0</td>\n",
       "      <td>128</td>\n",
       "      <td>1</td>\n",
       "      <td>0</td>\n",
       "      <td>0</td>\n",
       "      <td>...</td>\n",
       "      <td>1</td>\n",
       "      <td>0</td>\n",
       "      <td>0</td>\n",
       "      <td>0</td>\n",
       "      <td>0</td>\n",
       "      <td>1</td>\n",
       "      <td>0</td>\n",
       "      <td>0</td>\n",
       "      <td>1</td>\n",
       "      <td>0</td>\n",
       "    </tr>\n",
       "    <tr>\n",
       "      <th>1</th>\n",
       "      <td>8</td>\n",
       "      <td>1.34</td>\n",
       "      <td>0</td>\n",
       "      <td>0</td>\n",
       "      <td>127.677940</td>\n",
       "      <td>0</td>\n",
       "      <td>0</td>\n",
       "      <td>1</td>\n",
       "      <td>0</td>\n",
       "      <td>0</td>\n",
       "      <td>...</td>\n",
       "      <td>1</td>\n",
       "      <td>0</td>\n",
       "      <td>0</td>\n",
       "      <td>0</td>\n",
       "      <td>0</td>\n",
       "      <td>1</td>\n",
       "      <td>0</td>\n",
       "      <td>0</td>\n",
       "      <td>1</td>\n",
       "      <td>0</td>\n",
       "    </tr>\n",
       "    <tr>\n",
       "      <th>2</th>\n",
       "      <td>8</td>\n",
       "      <td>1.86</td>\n",
       "      <td>0</td>\n",
       "      <td>0</td>\n",
       "      <td>141.211998</td>\n",
       "      <td>0</td>\n",
       "      <td>256</td>\n",
       "      <td>0</td>\n",
       "      <td>0</td>\n",
       "      <td>0</td>\n",
       "      <td>...</td>\n",
       "      <td>0</td>\n",
       "      <td>0</td>\n",
       "      <td>1</td>\n",
       "      <td>0</td>\n",
       "      <td>0</td>\n",
       "      <td>1</td>\n",
       "      <td>0</td>\n",
       "      <td>0</td>\n",
       "      <td>1</td>\n",
       "      <td>0</td>\n",
       "    </tr>\n",
       "    <tr>\n",
       "      <th>3</th>\n",
       "      <td>16</td>\n",
       "      <td>1.83</td>\n",
       "      <td>0</td>\n",
       "      <td>1</td>\n",
       "      <td>220.534624</td>\n",
       "      <td>0</td>\n",
       "      <td>512</td>\n",
       "      <td>1</td>\n",
       "      <td>0</td>\n",
       "      <td>0</td>\n",
       "      <td>...</td>\n",
       "      <td>1</td>\n",
       "      <td>0</td>\n",
       "      <td>0</td>\n",
       "      <td>0</td>\n",
       "      <td>0</td>\n",
       "      <td>0</td>\n",
       "      <td>1</td>\n",
       "      <td>0</td>\n",
       "      <td>0</td>\n",
       "      <td>0</td>\n",
       "    </tr>\n",
       "    <tr>\n",
       "      <th>4</th>\n",
       "      <td>8</td>\n",
       "      <td>1.37</td>\n",
       "      <td>0</td>\n",
       "      <td>1</td>\n",
       "      <td>226.983005</td>\n",
       "      <td>0</td>\n",
       "      <td>256</td>\n",
       "      <td>1</td>\n",
       "      <td>0</td>\n",
       "      <td>0</td>\n",
       "      <td>...</td>\n",
       "      <td>1</td>\n",
       "      <td>0</td>\n",
       "      <td>0</td>\n",
       "      <td>0</td>\n",
       "      <td>0</td>\n",
       "      <td>1</td>\n",
       "      <td>0</td>\n",
       "      <td>0</td>\n",
       "      <td>1</td>\n",
       "      <td>0</td>\n",
       "    </tr>\n",
       "  </tbody>\n",
       "</table>\n",
       "<p>5 rows × 38 columns</p>\n",
       "</div>"
      ],
      "text/plain": [
       "   Ram  Weight  TouchScreen  IPS         PPI  HDD  SSD  Company_Apple  \\\n",
       "0    8    1.37            0    1  226.983005    0  128              1   \n",
       "1    8    1.34            0    0  127.677940    0    0              1   \n",
       "2    8    1.86            0    0  141.211998    0  256              0   \n",
       "3   16    1.83            0    1  220.534624    0  512              1   \n",
       "4    8    1.37            0    1  226.983005    0  256              1   \n",
       "\n",
       "   Company_Asus  Company_Chuwi  ...  TypeName_Ultrabook  TypeName_Workstation  \\\n",
       "0             0              0  ...                   1                     0   \n",
       "1             0              0  ...                   1                     0   \n",
       "2             0              0  ...                   0                     0   \n",
       "3             0              0  ...                   1                     0   \n",
       "4             0              0  ...                   1                     0   \n",
       "\n",
       "   OpSys_Others  OpSys_Windows  CpuName_Intel Core i3  CpuName_Intel Core i5  \\\n",
       "0             0              0                      0                      1   \n",
       "1             0              0                      0                      1   \n",
       "2             1              0                      0                      1   \n",
       "3             0              0                      0                      0   \n",
       "4             0              0                      0                      1   \n",
       "\n",
       "   CpuName_Intel Core i7  CpuName_Other Intel Processor  Gpu_brand_Intel  \\\n",
       "0                      0                              0                1   \n",
       "1                      0                              0                1   \n",
       "2                      0                              0                1   \n",
       "3                      1                              0                0   \n",
       "4                      0                              0                1   \n",
       "\n",
       "   Gpu_brand_Nvidia  \n",
       "0                 0  \n",
       "1                 0  \n",
       "2                 0  \n",
       "3                 0  \n",
       "4                 0  \n",
       "\n",
       "[5 rows x 38 columns]"
      ]
     },
     "execution_count": 29,
     "metadata": {},
     "output_type": "execute_result"
    }
   ],
   "source": [
    "x.head()"
   ]
  },
  {
   "cell_type": "markdown",
   "id": "982c1d04",
   "metadata": {},
   "source": [
    "# train test split"
   ]
  },
  {
   "cell_type": "code",
   "execution_count": 30,
   "id": "14474849",
   "metadata": {},
   "outputs": [],
   "source": [
    "x_train, x_test, y_train,y_test = train_test_split(x,y,test_size=0.15,random_state=2)"
   ]
  },
  {
   "cell_type": "code",
   "execution_count": 31,
   "id": "5976d86d",
   "metadata": {},
   "outputs": [
    {
     "data": {
      "text/plain": [
       "((1106, 38), (196, 38))"
      ]
     },
     "execution_count": 31,
     "metadata": {},
     "output_type": "execute_result"
    }
   ],
   "source": [
    "x_train.shape, x_test.shape"
   ]
  },
  {
   "cell_type": "markdown",
   "id": "16cd96c7",
   "metadata": {},
   "source": [
    "# visualizing the decision tree"
   ]
  },
  {
   "cell_type": "code",
   "execution_count": 32,
   "id": "1755106b",
   "metadata": {
    "collapsed": true
   },
   "outputs": [
    {
     "data": {
      "text/plain": [
       "[Text(0.494978266839411, 0.9782608695652174, 'Ram <= 7.0\\nsquared_error = 0.39\\nsamples = 1106\\nvalue = 10.821'),\n",
       " Text(0.22935198206213736, 0.9347826086956522, 'CpuName_Other Intel Processor <= 0.5\\nsquared_error = 0.192\\nsamples = 362\\nvalue = 10.209'),\n",
       " Text(0.15819759057482122, 0.8913043478260869, 'CpuName_Intel Core i5 <= 0.5\\nsquared_error = 0.13\\nsamples = 256\\nvalue = 10.387'),\n",
       " Text(0.10227512312778303, 0.8478260869565217, 'CpuName_Intel Core i7 <= 0.5\\nsquared_error = 0.08\\nsamples = 154\\nvalue = 10.233'),\n",
       " Text(0.04384318917824855, 0.8043478260869565, 'Weight <= 1.645\\nsquared_error = 0.07\\nsamples = 135\\nvalue = 10.183'),\n",
       " Text(0.009715288085278639, 0.7608695652173914, 'TypeName_Ultrabook <= 0.5\\nsquared_error = 0.064\\nsamples = 10\\nvalue = 10.587'),\n",
       " Text(0.007556335177438942, 0.717391304347826, 'Company_Asus <= 0.5\\nsquared_error = 0.02\\nsamples = 8\\nvalue = 10.478'),\n",
       " Text(0.006476858723519093, 0.6739130434782609, 'Company_Lenovo <= 0.5\\nsquared_error = 0.011\\nsamples = 7\\nvalue = 10.516'),\n",
       " Text(0.005397382269599244, 0.6304347826086957, 'Weight <= 1.615\\nsquared_error = 0.003\\nsamples = 6\\nvalue = 10.555'),\n",
       " Text(0.002158952907839698, 0.5869565217391305, 'PPI <= 137.589\\nsquared_error = 0.002\\nsamples = 3\\nvalue = 10.597'),\n",
       " Text(0.001079476453919849, 0.5434782608695652, 'squared_error = 0.0\\nsamples = 1\\nvalue = 10.66'),\n",
       " Text(0.0032384293617595465, 0.5434782608695652, 'PPI <= 161.491\\nsquared_error = 0.0\\nsamples = 2\\nvalue = 10.565'),\n",
       " Text(0.002158952907839698, 0.5, 'squared_error = 0.0\\nsamples = 1\\nvalue = 10.577'),\n",
       " Text(0.004317905815679396, 0.5, 'squared_error = 0.0\\nsamples = 1\\nvalue = 10.553'),\n",
       " Text(0.008635811631358792, 0.5869565217391305, 'Gpu_brand_Nvidia <= 0.5\\nsquared_error = 0.0\\nsamples = 3\\nvalue = 10.513'),\n",
       " Text(0.007556335177438942, 0.5434782608695652, 'PPI <= 106.195\\nsquared_error = 0.0\\nsamples = 2\\nvalue = 10.507'),\n",
       " Text(0.006476858723519093, 0.5, 'squared_error = 0.0\\nsamples = 1\\nvalue = 10.511'),\n",
       " Text(0.008635811631358792, 0.5, 'squared_error = 0.0\\nsamples = 1\\nvalue = 10.504'),\n",
       " Text(0.009715288085278639, 0.5434782608695652, 'squared_error = 0.0\\nsamples = 1\\nvalue = 10.525'),\n",
       " Text(0.007556335177438942, 0.6304347826086957, 'squared_error = -0.0\\nsamples = 1\\nvalue = 10.284'),\n",
       " Text(0.008635811631358792, 0.6739130434782609, 'squared_error = -0.0\\nsamples = 1\\nvalue = 10.208'),\n",
       " Text(0.011874240993118337, 0.717391304347826, 'SSD <= 64.0\\nsquared_error = 0.0\\nsamples = 2\\nvalue = 11.024'),\n",
       " Text(0.010794764539198488, 0.6739130434782609, 'squared_error = 0.0\\nsamples = 1\\nvalue = 11.01'),\n",
       " Text(0.012953717447038186, 0.6739130434782609, 'squared_error = -0.0\\nsamples = 1\\nvalue = 11.038'),\n",
       " Text(0.07797109027121846, 0.7608695652173914, 'PPI <= 114.881\\nsquared_error = 0.056\\nsamples = 125\\nvalue = 10.151'),\n",
       " Text(0.04315375792740521, 0.717391304347826, 'CpuName_Intel Core i3 <= 0.5\\nsquared_error = 0.057\\nsamples = 63\\nvalue = 10.059'),\n",
       " Text(0.02185939819187694, 0.6739130434782609, 'PPI <= 109.024\\nsquared_error = 0.049\\nsamples = 18\\nvalue = 9.854'),\n",
       " Text(0.02077992173795709, 0.6304347826086957, 'Company_HP <= 0.5\\nsquared_error = 0.03\\nsamples = 17\\nvalue = 9.888'),\n",
       " Text(0.01673188503575766, 0.5869565217391305, 'Company_Lenovo <= 0.5\\nsquared_error = 0.022\\nsamples = 13\\nvalue = 9.942'),\n",
       " Text(0.011874240993118337, 0.5434782608695652, 'Weight <= 1.84\\nsquared_error = 0.007\\nsamples = 9\\nvalue = 9.988'),\n",
       " Text(0.010794764539198488, 0.5, 'squared_error = 0.0\\nsamples = 1\\nvalue = 10.126'),\n",
       " Text(0.012953717447038186, 0.5, 'Weight <= 2.015\\nsquared_error = 0.005\\nsamples = 8\\nvalue = 9.971'),\n",
       " Text(0.011874240993118337, 0.45652173913043476, 'squared_error = 0.0\\nsamples = 1\\nvalue = 9.831'),\n",
       " Text(0.014033193900958035, 0.45652173913043476, 'HDD <= 250.0\\nsquared_error = 0.002\\nsamples = 7\\nvalue = 9.991'),\n",
       " Text(0.011874240993118337, 0.41304347826086957, 'SSD <= 192.0\\nsquared_error = 0.001\\nsamples = 2\\nvalue = 10.059'),\n",
       " Text(0.010794764539198488, 0.3695652173913043, 'squared_error = 0.0\\nsamples = 1\\nvalue = 10.03'),\n",
       " Text(0.012953717447038186, 0.3695652173913043, 'squared_error = 0.0\\nsamples = 1\\nvalue = 10.087'),\n",
       " Text(0.016192146808797735, 0.41304347826086957, 'Weight <= 2.25\\nsquared_error = 0.0\\nsamples = 5\\nvalue = 9.964'),\n",
       " Text(0.015112670354877884, 0.3695652173913043, 'Ram <= 5.0\\nsquared_error = 0.0\\nsamples = 4\\nvalue = 9.971'),\n",
       " Text(0.014033193900958035, 0.32608695652173914, 'Weight <= 2.065\\nsquared_error = 0.0\\nsamples = 3\\nvalue = 9.965'),\n",
       " Text(0.012953717447038186, 0.2826086956521739, 'squared_error = 0.0\\nsamples = 1\\nvalue = 9.974'),\n",
       " Text(0.015112670354877884, 0.2826086956521739, 'HDD <= 750.0\\nsquared_error = 0.0\\nsamples = 2\\nvalue = 9.961'),\n",
       " Text(0.014033193900958035, 0.2391304347826087, 'squared_error = 0.0\\nsamples = 1\\nvalue = 9.967'),\n",
       " Text(0.016192146808797735, 0.2391304347826087, 'squared_error = -0.0\\nsamples = 1\\nvalue = 9.954'),\n",
       " Text(0.016192146808797735, 0.32608695652173914, 'squared_error = -0.0\\nsamples = 1\\nvalue = 9.989'),\n",
       " Text(0.017271623262717584, 0.3695652173913043, 'squared_error = 0.0\\nsamples = 1\\nvalue = 9.934'),\n",
       " Text(0.021589529078396976, 0.5434782608695652, 'PPI <= 103.284\\nsquared_error = 0.041\\nsamples = 4\\nvalue = 9.837'),\n",
       " Text(0.020510052624477127, 0.5, 'SSD <= 64.0\\nsquared_error = 0.005\\nsamples = 3\\nvalue = 9.726'),\n",
       " Text(0.019430576170557278, 0.45652173913043476, 'Weight <= 2.195\\nsquared_error = 0.0\\nsamples = 2\\nvalue = 9.674'),\n",
       " Text(0.01835109971663743, 0.41304347826086957, 'squared_error = 0.0\\nsamples = 1\\nvalue = 9.673'),\n",
       " Text(0.020510052624477127, 0.41304347826086957, 'squared_error = -0.0\\nsamples = 1\\nvalue = 9.676'),\n",
       " Text(0.021589529078396976, 0.45652173913043476, 'squared_error = -0.0\\nsamples = 1\\nvalue = 9.831'),\n",
       " Text(0.022669005532316825, 0.5, 'squared_error = 0.0\\nsamples = 1\\nvalue = 10.168'),\n",
       " Text(0.024827958440156523, 0.5869565217391305, 'OpSys_Windows <= 0.5\\nsquared_error = 0.017\\nsamples = 4\\nvalue = 9.715'),\n",
       " Text(0.023748481986236674, 0.5434782608695652, 'squared_error = 0.0\\nsamples = 1\\nvalue = 9.529'),\n",
       " Text(0.025907434894076372, 0.5434782608695652, 'HDD <= 250.0\\nsquared_error = 0.008\\nsamples = 3\\nvalue = 9.777'),\n",
       " Text(0.024827958440156523, 0.5, 'squared_error = 0.0\\nsamples = 1\\nvalue = 9.886'),\n",
       " Text(0.02698691134799622, 0.5, 'Weight <= 1.98\\nsquared_error = 0.003\\nsamples = 2\\nvalue = 9.722'),\n",
       " Text(0.025907434894076372, 0.45652173913043476, 'squared_error = 0.0\\nsamples = 1\\nvalue = 9.669'),\n",
       " Text(0.02806638780191607, 0.45652173913043476, 'squared_error = -0.0\\nsamples = 1\\nvalue = 9.775'),\n",
       " Text(0.02293887464579679, 0.6304347826086957, 'squared_error = 0.0\\nsamples = 1\\nvalue = 9.269'),\n",
       " Text(0.06444811766293347, 0.6739130434782609, 'OpSys_Others <= 0.5\\nsquared_error = 0.036\\nsamples = 45\\nvalue = 10.142'),\n",
       " Text(0.053872621778437456, 0.6304347826086957, 'Company_HP <= 0.5\\nsquared_error = 0.027\\nsamples = 33\\nvalue = 10.211'),\n",
       " Text(0.04405613277560383, 0.5869565217391305, 'Gpu_brand_Intel <= 0.5\\nsquared_error = 0.022\\nsamples = 29\\nvalue = 10.187'),\n",
       " Text(0.03400350829847524, 0.5434782608695652, 'HDD <= 750.0\\nsquared_error = 0.013\\nsamples = 7\\nvalue = 10.318'),\n",
       " Text(0.03130481716367562, 0.5, 'HDD <= 250.0\\nsquared_error = 0.001\\nsamples = 2\\nvalue = 10.157'),\n",
       " Text(0.030225340709755768, 0.45652173913043476, 'squared_error = 0.0\\nsamples = 1\\nvalue = 10.188'),\n",
       " Text(0.03238429361759547, 0.45652173913043476, 'squared_error = 0.0\\nsamples = 1\\nvalue = 10.126'),\n",
       " Text(0.03670219943327486, 0.5, 'PPI <= 103.284\\nsquared_error = 0.004\\nsamples = 5\\nvalue = 10.382'),\n",
       " Text(0.03454324652543517, 0.45652173913043476, 'Weight <= 2.19\\nsquared_error = 0.003\\nsamples = 3\\nvalue = 10.358'),\n",
       " Text(0.03346377007151532, 0.41304347826086957, 'squared_error = 0.0\\nsamples = 2\\nvalue = 10.399'),\n",
       " Text(0.035622722979355016, 0.41304347826086957, 'squared_error = -0.0\\nsamples = 1\\nvalue = 10.278'),\n",
       " Text(0.038861152341114556, 0.45652173913043476, 'Weight <= 2.83\\nsquared_error = 0.002\\nsamples = 2\\nvalue = 10.418'),\n",
       " Text(0.03778167588719471, 0.41304347826086957, 'squared_error = 0.0\\nsamples = 1\\nvalue = 10.466'),\n",
       " Text(0.039940628795034405, 0.41304347826086957, 'squared_error = 0.0\\nsamples = 1\\nvalue = 10.369'),\n",
       " Text(0.054108757252732426, 0.5434782608695652, 'Weight <= 2.295\\nsquared_error = 0.017\\nsamples = 22\\nvalue = 10.146'),\n",
       " Text(0.048846309539873164, 0.5, 'Company_Dell <= 0.5\\nsquared_error = 0.017\\nsamples = 14\\nvalue = 10.196'),\n",
       " Text(0.04479827283767373, 0.45652173913043476, 'Company_Toshiba <= 0.5\\nsquared_error = 0.018\\nsamples = 8\\nvalue = 10.143'),\n",
       " Text(0.0420995817028741, 0.41304347826086957, 'SSD <= 64.0\\nsquared_error = 0.002\\nsamples = 5\\nvalue = 10.084'),\n",
       " Text(0.039940628795034405, 0.3695652173913043, 'Company_Lenovo <= 0.5\\nsquared_error = 0.003\\nsamples = 3\\nvalue = 10.1'),\n",
       " Text(0.038861152341114556, 0.32608695652173914, 'Weight <= 2.05\\nsquared_error = 0.0\\nsamples = 2\\nvalue = 10.065'),\n",
       " Text(0.03778167588719471, 0.2826086956521739, 'squared_error = 0.0\\nsamples = 1\\nvalue = 10.051'),\n",
       " Text(0.039940628795034405, 0.2826086956521739, 'squared_error = 0.0\\nsamples = 1\\nvalue = 10.078'),\n",
       " Text(0.041020105248954254, 0.32608695652173914, 'squared_error = 0.0\\nsamples = 1\\nvalue = 10.17'),\n",
       " Text(0.0442585346107138, 0.3695652173913043, 'Company_Lenovo <= 0.5\\nsquared_error = 0.001\\nsamples = 2\\nvalue = 10.06'),\n",
       " Text(0.04317905815679395, 0.32608695652173914, 'squared_error = 0.0\\nsamples = 1\\nvalue = 10.083'),\n",
       " Text(0.04533801106463365, 0.32608695652173914, 'squared_error = 0.0\\nsamples = 1\\nvalue = 10.037'),\n",
       " Text(0.04749696397247335, 0.41304347826086957, 'Weight <= 2.05\\nsquared_error = 0.03\\nsamples = 3\\nvalue = 10.242'),\n",
       " Text(0.0464174875185535, 0.3695652173913043, 'squared_error = 0.025\\nsamples = 2\\nvalue = 10.325'),\n",
       " Text(0.0485764404263932, 0.3695652173913043, 'squared_error = -0.0\\nsamples = 1\\nvalue = 10.078'),\n",
       " Text(0.05289434624207259, 0.45652173913043476, 'Weight <= 2.235\\nsquared_error = 0.006\\nsamples = 6\\nvalue = 10.267'),\n",
       " Text(0.051814869788152744, 0.41304347826086957, 'HDD <= 750.0\\nsquared_error = 0.005\\nsamples = 5\\nvalue = 10.286'),\n",
       " Text(0.050735393334232895, 0.3695652173913043, 'PPI <= 106.195\\nsquared_error = 0.006\\nsamples = 3\\nvalue = 10.26'),\n",
       " Text(0.049655916880313046, 0.32608695652173914, 'Weight <= 2.12\\nsquared_error = 0.004\\nsamples = 2\\nvalue = 10.217'),\n",
       " Text(0.0485764404263932, 0.2826086956521739, 'squared_error = 0.0\\nsamples = 1\\nvalue = 10.153'),\n",
       " Text(0.050735393334232895, 0.2826086956521739, 'squared_error = 0.0\\nsamples = 1\\nvalue = 10.28'),\n",
       " Text(0.051814869788152744, 0.32608695652173914, 'squared_error = 0.0\\nsamples = 1\\nvalue = 10.347'),\n",
       " Text(0.05289434624207259, 0.3695652173913043, 'squared_error = 0.001\\nsamples = 2\\nvalue = 10.325'),\n",
       " Text(0.05397382269599244, 0.41304347826086957, 'squared_error = -0.0\\nsamples = 1\\nvalue = 10.17'),\n",
       " Text(0.05937120496559169, 0.5, 'Company_Lenovo <= 0.5\\nsquared_error = 0.005\\nsamples = 8\\nvalue = 10.057'),\n",
       " Text(0.05829172851167184, 0.45652173913043476, 'Ram <= 5.0\\nsquared_error = 0.004\\nsamples = 7\\nvalue = 10.041'),\n",
       " Text(0.05613277560383214, 0.41304347826086957, 'HDD <= 750.0\\nsquared_error = 0.003\\nsamples = 4\\nvalue = 10.004'),\n",
       " Text(0.05505329914991229, 0.3695652173913043, 'squared_error = 0.002\\nsamples = 2\\nvalue = 10.039'),\n",
       " Text(0.05721225205775199, 0.3695652173913043, 'Weight <= 2.35\\nsquared_error = 0.002\\nsamples = 2\\nvalue = 9.969'),\n",
       " Text(0.05613277560383214, 0.32608695652173914, 'squared_error = 0.0\\nsamples = 1\\nvalue = 10.013'),\n",
       " Text(0.05829172851167184, 0.32608695652173914, 'squared_error = 0.0\\nsamples = 1\\nvalue = 9.926'),\n",
       " Text(0.060450681419511536, 0.41304347826086957, 'TouchScreen <= 0.5\\nsquared_error = 0.0\\nsamples = 3\\nvalue = 10.09'),\n",
       " Text(0.05937120496559169, 0.3695652173913043, 'squared_error = 0.0\\nsamples = 2\\nvalue = 10.105'),\n",
       " Text(0.061530157873431385, 0.3695652173913043, 'squared_error = -0.0\\nsamples = 1\\nvalue = 10.06'),\n",
       " Text(0.060450681419511536, 0.45652173913043476, 'squared_error = 0.0\\nsamples = 1\\nvalue = 10.168'),\n",
       " Text(0.06368911078127108, 0.5869565217391305, 'Weight <= 1.965\\nsquared_error = 0.035\\nsamples = 4\\nvalue = 10.382'),\n",
       " Text(0.06260963432735124, 0.5434782608695652, 'squared_error = 0.0\\nsamples = 1\\nvalue = 10.06'),\n",
       " Text(0.06476858723519094, 0.5434782608695652, 'Weight <= 2.205\\nsquared_error = 0.001\\nsamples = 3\\nvalue = 10.489'),\n",
       " Text(0.06368911078127108, 0.5, 'Weight <= 2.085\\nsquared_error = 0.0\\nsamples = 2\\nvalue = 10.467'),\n",
       " Text(0.06260963432735124, 0.45652173913043476, 'squared_error = 0.0\\nsamples = 1\\nvalue = 10.453'),\n",
       " Text(0.06476858723519094, 0.45652173913043476, 'squared_error = 0.0\\nsamples = 1\\nvalue = 10.481'),\n",
       " Text(0.06584806368911078, 0.5, 'squared_error = 0.0\\nsamples = 1\\nvalue = 10.534'),\n",
       " Text(0.0750236135474295, 0.6304347826086957, 'Company_Dell <= 0.5\\nsquared_error = 0.012\\nsamples = 12\\nvalue = 9.952'),\n",
       " Text(0.07124544595871003, 0.5869565217391305, 'HDD <= 750.0\\nsquared_error = 0.008\\nsamples = 8\\nvalue = 9.91'),\n",
       " Text(0.06908649305087033, 0.5434782608695652, 'Weight <= 2.25\\nsquared_error = 0.008\\nsamples = 3\\nvalue = 9.983'),\n",
       " Text(0.06800701659695048, 0.5, 'SSD <= 64.0\\nsquared_error = 0.002\\nsamples = 2\\nvalue = 10.041'),\n",
       " Text(0.06692754014303064, 0.45652173913043476, 'squared_error = 0.0\\nsamples = 1\\nvalue = 10.085'),\n",
       " Text(0.06908649305087033, 0.45652173913043476, 'squared_error = 0.0\\nsamples = 1\\nvalue = 9.997'),\n",
       " Text(0.07016596950479018, 0.5, 'squared_error = -0.0\\nsamples = 1\\nvalue = 9.867'),\n",
       " Text(0.07340439886654972, 0.5434782608695652, 'Weight <= 2.0\\nsquared_error = 0.002\\nsamples = 5\\nvalue = 9.866'),\n",
       " Text(0.07232492241262987, 0.5, 'Gpu_brand_Intel <= 0.5\\nsquared_error = 0.001\\nsamples = 3\\nvalue = 9.836'),\n",
       " Text(0.07124544595871003, 0.45652173913043476, 'squared_error = 0.0\\nsamples = 1\\nvalue = 9.884'),\n",
       " Text(0.07340439886654972, 0.45652173913043476, 'Weight <= 1.88\\nsquared_error = 0.0\\nsamples = 2\\nvalue = 9.812'),\n",
       " Text(0.07232492241262987, 0.41304347826086957, 'squared_error = 0.0\\nsamples = 1\\nvalue = 9.822'),\n",
       " Text(0.07448387532046957, 0.41304347826086957, 'squared_error = 0.0\\nsamples = 1\\nvalue = 9.802'),\n",
       " Text(0.07448387532046957, 0.5, 'squared_error = 0.001\\nsamples = 2\\nvalue = 9.911'),\n",
       " Text(0.07880178113614897, 0.5869565217391305, 'Weight <= 2.215\\nsquared_error = 0.011\\nsamples = 4\\nvalue = 10.036'),\n",
       " Text(0.07772230468222911, 0.5434782608695652, 'Gpu_brand_Intel <= 0.5\\nsquared_error = 0.0\\nsamples = 3\\nvalue = 10.095'),\n",
       " Text(0.07664282822830927, 0.5, 'squared_error = 0.0\\nsamples = 2\\nvalue = 10.107'),\n",
       " Text(0.07880178113614897, 0.5, 'squared_error = -0.0\\nsamples = 1\\nvalue = 10.071'),\n",
       " Text(0.07988125759006881, 0.5434782608695652, 'squared_error = 0.0\\nsamples = 1\\nvalue = 9.859'),\n",
       " Text(0.1127884226150317, 0.717391304347826, 'IPS <= 0.5\\nsquared_error = 0.038\\nsamples = 62\\nvalue = 10.244'),\n",
       " Text(0.08875320469572258, 0.6739130434782609, 'Weight <= 1.75\\nsquared_error = 0.034\\nsamples = 50\\nvalue = 10.201'),\n",
       " Text(0.08257994872486844, 0.6304347826086957, 'SSD <= 64.0\\nsquared_error = 0.011\\nsamples = 2\\nvalue = 10.615'),\n",
       " Text(0.08150047227094859, 0.5869565217391305, 'squared_error = 0.0\\nsamples = 1\\nvalue = 10.72'),\n",
       " Text(0.08365942517878829, 0.5869565217391305, 'squared_error = 0.0\\nsamples = 1\\nvalue = 10.511'),\n",
       " Text(0.09492646066657671, 0.6304347826086957, 'Weight <= 1.885\\nsquared_error = 0.028\\nsamples = 48\\nvalue = 10.183'),\n",
       " Text(0.08581837808662798, 0.5869565217391305, 'HDD <= 750.0\\nsquared_error = 0.008\\nsamples = 6\\nvalue = 9.975'),\n",
       " Text(0.08311968695182836, 0.5434782608695652, 'HDD <= 250.0\\nsquared_error = 0.004\\nsamples = 4\\nvalue = 9.929'),\n",
       " Text(0.08096073404398867, 0.5, 'OpSys_Others <= 0.5\\nsquared_error = 0.0\\nsamples = 2\\nvalue = 9.969'),\n",
       " Text(0.07988125759006881, 0.45652173913043476, 'squared_error = 0.0\\nsamples = 1\\nvalue = 9.963'),\n",
       " Text(0.08204021049790851, 0.45652173913043476, 'squared_error = 0.0\\nsamples = 1\\nvalue = 9.976'),\n",
       " Text(0.08527863985966806, 0.5, 'OpSys_Others <= 0.5\\nsquared_error = 0.005\\nsamples = 2\\nvalue = 9.889'),\n",
       " Text(0.0841991634057482, 0.45652173913043476, 'squared_error = 0.0\\nsamples = 1\\nvalue = 9.959'),\n",
       " Text(0.0863581163135879, 0.45652173913043476, 'squared_error = 0.0\\nsamples = 1\\nvalue = 9.819'),\n",
       " Text(0.0885170692214276, 0.5434782608695652, 'Company_HP <= 0.5\\nsquared_error = 0.004\\nsamples = 2\\nvalue = 10.065'),\n",
       " Text(0.08743759276750776, 0.5, 'squared_error = 0.0\\nsamples = 1\\nvalue = 10.004'),\n",
       " Text(0.08959654567534746, 0.5, 'squared_error = -0.0\\nsamples = 1\\nvalue = 10.126'),\n",
       " Text(0.10403454324652543, 0.5869565217391305, 'PPI <= 152.105\\nsquared_error = 0.023\\nsamples = 42\\nvalue = 10.213'),\n",
       " Text(0.10295506679260559, 0.5434782608695652, 'OpSys_Windows <= 0.5\\nsquared_error = 0.02\\nsamples = 41\\nvalue = 10.203'),\n",
       " Text(0.09175549858318716, 0.5, 'Weight <= 2.1\\nsquared_error = 0.008\\nsamples = 8\\nvalue = 10.091'),\n",
       " Text(0.08959654567534746, 0.45652173913043476, 'SSD <= 128.0\\nsquared_error = 0.001\\nsamples = 2\\nvalue = 9.971'),\n",
       " Text(0.0885170692214276, 0.41304347826086957, 'squared_error = 0.0\\nsamples = 1\\nvalue = 9.939'),\n",
       " Text(0.0906760221292673, 0.41304347826086957, 'squared_error = -0.0\\nsamples = 1\\nvalue = 10.004'),\n",
       " Text(0.09391445149102685, 0.45652173913043476, 'PPI <= 134.274\\nsquared_error = 0.005\\nsamples = 6\\nvalue = 10.131'),\n",
       " Text(0.092834975037107, 0.41304347826086957, 'squared_error = 0.0\\nsamples = 1\\nvalue = 10.247'),\n",
       " Text(0.0949939279449467, 0.41304347826086957, 'Weight <= 2.225\\nsquared_error = 0.002\\nsamples = 5\\nvalue = 10.108'),\n",
       " Text(0.09391445149102685, 0.3695652173913043, 'Gpu_brand_Intel <= 0.5\\nsquared_error = 0.001\\nsamples = 4\\nvalue = 10.126'),\n",
       " Text(0.09175549858318716, 0.32608695652173914, 'Company_Dell <= 0.5\\nsquared_error = 0.0\\nsamples = 2\\nvalue = 10.153'),\n",
       " Text(0.0906760221292673, 0.2826086956521739, 'squared_error = 0.0\\nsamples = 1\\nvalue = 10.147'),\n",
       " Text(0.092834975037107, 0.2826086956521739, 'squared_error = 0.0\\nsamples = 1\\nvalue = 10.16'),\n",
       " Text(0.09607340439886655, 0.32608695652173914, 'SSD <= 128.0\\nsquared_error = 0.001\\nsamples = 2\\nvalue = 10.099'),\n",
       " Text(0.0949939279449467, 0.2826086956521739, 'squared_error = 0.0\\nsamples = 1\\nvalue = 10.126'),\n",
       " Text(0.0971528808527864, 0.2826086956521739, 'squared_error = -0.0\\nsamples = 1\\nvalue = 10.071'),\n",
       " Text(0.09607340439886655, 0.3695652173913043, 'squared_error = -0.0\\nsamples = 1\\nvalue = 10.035'),\n",
       " Text(0.11415463500202402, 0.5, 'Weight <= 2.065\\nsquared_error = 0.019\\nsamples = 33\\nvalue = 10.23'),\n",
       " Text(0.10389960868978546, 0.45652173913043476, 'Weight <= 1.955\\nsquared_error = 0.013\\nsamples = 11\\nvalue = 10.283'),\n",
       " Text(0.10039131021454595, 0.41304347826086957, 'CpuName_Intel Core i3 <= 0.5\\nsquared_error = 0.003\\nsamples = 3\\nvalue = 10.139'),\n",
       " Text(0.09931183376062609, 0.3695652173913043, 'TypeName_Notebook <= 0.5\\nsquared_error = 0.0\\nsamples = 2\\nvalue = 10.178'),\n",
       " Text(0.09823235730670625, 0.32608695652173914, 'squared_error = 0.0\\nsamples = 1\\nvalue = 10.188'),\n",
       " Text(0.10039131021454595, 0.32608695652173914, 'squared_error = 0.0\\nsamples = 1\\nvalue = 10.168'),\n",
       " Text(0.10147078666846579, 0.3695652173913043, 'squared_error = -0.0\\nsamples = 1\\nvalue = 10.06'),\n",
       " Text(0.10740790716502496, 0.41304347826086957, 'Gpu_brand_Intel <= 0.5\\nsquared_error = 0.006\\nsamples = 8\\nvalue = 10.336'),\n",
       " Text(0.10470921603022534, 0.3695652173913043, 'Weight <= 2.02\\nsquared_error = 0.0\\nsamples = 6\\nvalue = 10.294'),\n",
       " Text(0.10255026312238565, 0.32608695652173914, 'Ram <= 5.0\\nsquared_error = 0.0\\nsamples = 2\\nvalue = 10.322'),\n",
       " Text(0.10147078666846579, 0.2826086956521739, 'squared_error = 0.0\\nsamples = 1\\nvalue = 10.311'),\n",
       " Text(0.10362973957630549, 0.2826086956521739, 'squared_error = 0.0\\nsamples = 1\\nvalue = 10.333'),\n",
       " Text(0.10686816893806504, 0.32608695652173914, 'HDD <= 500.0\\nsquared_error = 0.0\\nsamples = 4\\nvalue = 10.28'),\n",
       " Text(0.10578869248414519, 0.2826086956521739, 'squared_error = 0.0\\nsamples = 3\\nvalue = 10.285'),\n",
       " Text(0.10794764539198488, 0.2826086956521739, 'squared_error = -0.0\\nsamples = 1\\nvalue = 10.265'),\n",
       " Text(0.11010659829982458, 0.3695652173913043, 'Weight <= 2.045\\nsquared_error = 0.002\\nsamples = 2\\nvalue = 10.463'),\n",
       " Text(0.10902712184590474, 0.32608695652173914, 'squared_error = 0.0\\nsamples = 1\\nvalue = 10.505'),\n",
       " Text(0.11118607475374444, 0.32608695652173914, 'squared_error = 0.0\\nsamples = 1\\nvalue = 10.421'),\n",
       " Text(0.12440966131426258, 0.45652173913043476, 'SSD <= 64.0\\nsquared_error = 0.019\\nsamples = 22\\nvalue = 10.204'),\n",
       " Text(0.1192821481581433, 0.41304347826086957, 'Gpu_brand_Nvidia <= 0.5\\nsquared_error = 0.011\\nsamples = 13\\nvalue = 10.153'),\n",
       " Text(0.11550398056942383, 0.3695652173913043, 'Ram <= 5.0\\nsquared_error = 0.008\\nsamples = 9\\nvalue = 10.112'),\n",
       " Text(0.11334502766158414, 0.32608695652173914, 'PPI <= 144.036\\nsquared_error = 0.006\\nsamples = 7\\nvalue = 10.082'),\n",
       " Text(0.11226555120766428, 0.2826086956521739, 'CpuName_Intel Core i3 <= 0.5\\nsquared_error = 0.004\\nsamples = 6\\nvalue = 10.061'),\n",
       " Text(0.11010659829982458, 0.2391304347826087, 'HDD <= 750.0\\nsquared_error = 0.002\\nsamples = 2\\nvalue = 10.011'),\n",
       " Text(0.10902712184590474, 0.1956521739130435, 'squared_error = 0.0\\nsamples = 1\\nvalue = 10.06'),\n",
       " Text(0.11118607475374444, 0.1956521739130435, 'squared_error = 0.0\\nsamples = 1\\nvalue = 9.962'),\n",
       " Text(0.11442450411550398, 0.2391304347826087, 'HDD <= 750.0\\nsquared_error = 0.004\\nsamples = 4\\nvalue = 10.086'),\n",
       " Text(0.11334502766158414, 0.1956521739130435, 'squared_error = 0.0\\nsamples = 1\\nvalue = 9.989'),\n",
       " Text(0.11550398056942383, 0.1956521739130435, 'Weight <= 2.15\\nsquared_error = 0.001\\nsamples = 3\\nvalue = 10.118'),\n",
       " Text(0.11442450411550398, 0.15217391304347827, 'Gpu_brand_Intel <= 0.5\\nsquared_error = 0.0\\nsamples = 2\\nvalue = 10.136'),\n",
       " Text(0.11334502766158414, 0.10869565217391304, 'squared_error = 0.0\\nsamples = 1\\nvalue = 10.126'),\n",
       " Text(0.11550398056942383, 0.10869565217391304, 'squared_error = 0.0\\nsamples = 1\\nvalue = 10.145'),\n",
       " Text(0.11658345702334368, 0.15217391304347827, 'squared_error = -0.0\\nsamples = 1\\nvalue = 10.083'),\n",
       " Text(0.11442450411550398, 0.2826086956521739, 'squared_error = -0.0\\nsamples = 1\\nvalue = 10.208'),\n",
       " Text(0.11766293347726353, 0.32608695652173914, 'Company_HP <= 0.5\\nsquared_error = 0.001\\nsamples = 2\\nvalue = 10.217'),\n",
       " Text(0.11658345702334368, 0.2826086956521739, 'squared_error = 0.0\\nsamples = 1\\nvalue = 10.188'),\n",
       " Text(0.11874240993118337, 0.2826086956521739, 'squared_error = 0.0\\nsamples = 1\\nvalue = 10.247'),\n",
       " Text(0.12306031574686277, 0.3695652173913043, 'Weight <= 2.215\\nsquared_error = 0.006\\nsamples = 4\\nvalue = 10.246'),\n",
       " Text(0.12198083929294293, 0.32608695652173914, 'Company_Lenovo <= 0.5\\nsquared_error = 0.008\\nsamples = 3\\nvalue = 10.236'),\n",
       " Text(0.12090136283902307, 0.2826086956521739, 'squared_error = 0.0\\nsamples = 1\\nvalue = 10.248'),\n",
       " Text(0.12306031574686277, 0.2826086956521739, 'squared_error = 0.011\\nsamples = 2\\nvalue = 10.23'),\n",
       " Text(0.12413979220078263, 0.32608695652173914, 'squared_error = 0.0\\nsamples = 1\\nvalue = 10.275'),\n",
       " Text(0.12953717447038188, 0.41304347826086957, 'Gpu_brand_Intel <= 0.5\\nsquared_error = 0.022\\nsamples = 9\\nvalue = 10.278'),\n",
       " Text(0.128457698016462, 0.3695652173913043, 'Ram <= 5.0\\nsquared_error = 0.015\\nsamples = 8\\nvalue = 10.246'),\n",
       " Text(0.12629874510862232, 0.32608695652173914, 'Company_Lenovo <= 0.5\\nsquared_error = 0.018\\nsamples = 5\\nvalue = 10.199'),\n",
       " Text(0.12521926865470248, 0.2826086956521739, 'CpuName_Intel Core i3 <= 0.5\\nsquared_error = 0.005\\nsamples = 4\\nvalue = 10.258'),\n",
       " Text(0.12413979220078263, 0.2391304347826087, 'squared_error = 0.0\\nsamples = 1\\nvalue = 10.33'),\n",
       " Text(0.12629874510862232, 0.2391304347826087, 'Gpu_brand_Nvidia <= 0.5\\nsquared_error = 0.004\\nsamples = 3\\nvalue = 10.234'),\n",
       " Text(0.12521926865470248, 0.1956521739130435, 'Company_HP <= 0.5\\nsquared_error = 0.0\\nsamples = 2\\nvalue = 10.188'),\n",
       " Text(0.12413979220078263, 0.15217391304347827, 'squared_error = 0.0\\nsamples = 1\\nvalue = 10.188'),\n",
       " Text(0.12629874510862232, 0.15217391304347827, 'squared_error = 0.0\\nsamples = 1\\nvalue = 10.188'),\n",
       " Text(0.12737822156254217, 0.1956521739130435, 'squared_error = -0.0\\nsamples = 1\\nvalue = 10.325'),\n",
       " Text(0.12737822156254217, 0.2826086956521739, 'squared_error = 0.0\\nsamples = 1\\nvalue = 9.965'),\n",
       " Text(0.13061665092430172, 0.32608695652173914, 'Weight <= 2.3\\nsquared_error = 0.001\\nsamples = 3\\nvalue = 10.324'),\n",
       " Text(0.12953717447038188, 0.2826086956521739, 'squared_error = 0.002\\nsamples = 2\\nvalue = 10.326'),\n",
       " Text(0.13169612737822156, 0.2826086956521739, 'squared_error = 0.0\\nsamples = 1\\nvalue = 10.319'),\n",
       " Text(0.13061665092430172, 0.3695652173913043, 'squared_error = 0.0\\nsamples = 1\\nvalue = 10.534'),\n",
       " Text(0.10511401970044529, 0.5434782608695652, 'squared_error = -0.0\\nsamples = 1\\nvalue = 10.621'),\n",
       " Text(0.13682364053434085, 0.6739130434782609, 'Ram <= 5.0\\nsquared_error = 0.015\\nsamples = 12\\nvalue = 10.424'),\n",
       " Text(0.13196599649170151, 0.6304347826086957, 'Company_Dell <= 0.5\\nsquared_error = 0.008\\nsamples = 7\\nvalue = 10.484'),\n",
       " Text(0.13088652003778167, 0.5869565217391305, 'PPI <= 142.343\\nsquared_error = 0.003\\nsamples = 6\\nvalue = 10.456'),\n",
       " Text(0.128727567129942, 0.5434782608695652, 'HDD <= 500.0\\nsquared_error = 0.001\\nsamples = 3\\nvalue = 10.505'),\n",
       " Text(0.12764809067602212, 0.5, 'Company_HP <= 0.5\\nsquared_error = 0.0\\nsamples = 2\\nvalue = 10.527'),\n",
       " Text(0.12656861422210228, 0.45652173913043476, 'squared_error = 0.0\\nsamples = 1\\nvalue = 10.529'),\n",
       " Text(0.128727567129942, 0.45652173913043476, 'squared_error = 0.0\\nsamples = 1\\nvalue = 10.525'),\n",
       " Text(0.12980704358386183, 0.5, 'squared_error = -0.0\\nsamples = 1\\nvalue = 10.46'),\n",
       " Text(0.13304547294562138, 0.5434782608695652, 'Weight <= 1.72\\nsquared_error = 0.001\\nsamples = 3\\nvalue = 10.407'),\n",
       " Text(0.13196599649170151, 0.5, 'squared_error = 0.0\\nsamples = 1\\nvalue = 10.371'),\n",
       " Text(0.13412494939954123, 0.5, 'TypeName_Notebook <= 0.5\\nsquared_error = 0.0\\nsamples = 2\\nvalue = 10.425'),\n",
       " Text(0.13304547294562138, 0.45652173913043476, 'squared_error = 0.0\\nsamples = 1\\nvalue = 10.42'),\n",
       " Text(0.13520442585346107, 0.45652173913043476, 'squared_error = 0.0\\nsamples = 1\\nvalue = 10.431'),\n",
       " Text(0.13304547294562138, 0.5869565217391305, 'squared_error = 0.0\\nsamples = 1\\nvalue = 10.655'),\n",
       " Text(0.14168128457698018, 0.6304347826086957, 'CpuName_Intel Core i3 <= 0.5\\nsquared_error = 0.013\\nsamples = 5\\nvalue = 10.339'),\n",
       " Text(0.1406018081230603, 0.5869565217391305, 'Weight <= 2.68\\nsquared_error = 0.005\\nsamples = 4\\nvalue = 10.387'),\n",
       " Text(0.13952233166914046, 0.5434782608695652, 'SSD <= 192.0\\nsquared_error = 0.004\\nsamples = 3\\nvalue = 10.363'),\n",
       " Text(0.13844285521522062, 0.5, 'PPI <= 134.274\\nsquared_error = 0.0\\nsamples = 2\\nvalue = 10.319'),\n",
       " Text(0.13736337876130078, 0.45652173913043476, 'squared_error = 0.0\\nsamples = 1\\nvalue = 10.319'),\n",
       " Text(0.13952233166914046, 0.45652173913043476, 'squared_error = -0.0\\nsamples = 1\\nvalue = 10.319'),\n",
       " Text(0.1406018081230603, 0.5, 'squared_error = 0.0\\nsamples = 1\\nvalue = 10.451'),\n",
       " Text(0.14168128457698018, 0.5434782608695652, 'squared_error = -0.0\\nsamples = 1\\nvalue = 10.46'),\n",
       " Text(0.14276076103090002, 0.5869565217391305, 'squared_error = 0.0\\nsamples = 1\\nvalue = 10.147'),\n",
       " Text(0.1607070570773175, 0.8043478260869565, 'Weight <= 2.26\\nsquared_error = 0.015\\nsamples = 19\\nvalue = 10.584'),\n",
       " Text(0.15490487113749832, 0.7608695652173914, 'SSD <= 192.0\\nsquared_error = 0.012\\nsamples = 16\\nvalue = 10.554'),\n",
       " Text(0.14977735798137903, 0.717391304347826, 'Weight <= 2.145\\nsquared_error = 0.01\\nsamples = 12\\nvalue = 10.518'),\n",
       " Text(0.14707866684657941, 0.6739130434782609, 'Ram <= 5.0\\nsquared_error = 0.008\\nsamples = 6\\nvalue = 10.464'),\n",
       " Text(0.14599919039265957, 0.6304347826086957, 'HDD <= 750.0\\nsquared_error = 0.006\\nsamples = 5\\nvalue = 10.489'),\n",
       " Text(0.1449197139387397, 0.5869565217391305, 'Weight <= 1.95\\nsquared_error = 0.001\\nsamples = 4\\nvalue = 10.453'),\n",
       " Text(0.14384023748481986, 0.5434782608695652, 'squared_error = 0.0\\nsamples = 3\\nvalue = 10.434'),\n",
       " Text(0.14599919039265957, 0.5434782608695652, 'squared_error = -0.0\\nsamples = 1\\nvalue = 10.511'),\n",
       " Text(0.14707866684657941, 0.5869565217391305, 'squared_error = 0.0\\nsamples = 1\\nvalue = 10.634'),\n",
       " Text(0.14815814330049926, 0.6304347826086957, 'squared_error = 0.0\\nsamples = 1\\nvalue = 10.337'),\n",
       " Text(0.15247604911617865, 0.6739130434782609, 'HDD <= 750.0\\nsquared_error = 0.005\\nsamples = 6\\nvalue = 10.572'),\n",
       " Text(0.15031709620833897, 0.6304347826086957, 'Company_Asus <= 0.5\\nsquared_error = 0.003\\nsamples = 3\\nvalue = 10.515'),\n",
       " Text(0.1492376197544191, 0.5869565217391305, 'squared_error = 0.0\\nsamples = 1\\nvalue = 10.435'),\n",
       " Text(0.1513965726622588, 0.5869565217391305, 'squared_error = -0.0\\nsamples = 2\\nvalue = 10.555'),\n",
       " Text(0.15463500202401836, 0.6304347826086957, 'Company_HP <= 0.5\\nsquared_error = 0.0\\nsamples = 3\\nvalue = 10.629'),\n",
       " Text(0.1535555255700985, 0.5869565217391305, 'squared_error = 0.0\\nsamples = 1\\nvalue = 10.659'),\n",
       " Text(0.1557144784779382, 0.5869565217391305, 'squared_error = 0.0\\nsamples = 2\\nvalue = 10.614'),\n",
       " Text(0.1600323842936176, 0.717391304347826, 'TypeName_Notebook <= 0.5\\nsquared_error = 0.003\\nsamples = 4\\nvalue = 10.661'),\n",
       " Text(0.1578734313857779, 0.6739130434782609, 'Gpu_brand_Intel <= 0.5\\nsquared_error = 0.0\\nsamples = 2\\nvalue = 10.708'),\n",
       " Text(0.15679395493185805, 0.6304347826086957, 'squared_error = 0.0\\nsamples = 1\\nvalue = 10.698'),\n",
       " Text(0.15895290783969776, 0.6304347826086957, 'squared_error = 0.0\\nsamples = 1\\nvalue = 10.717'),\n",
       " Text(0.1621913372014573, 0.6739130434782609, 'Company_Dell <= 0.5\\nsquared_error = 0.001\\nsamples = 2\\nvalue = 10.614'),\n",
       " Text(0.16111186074753744, 0.6304347826086957, 'squared_error = 0.0\\nsamples = 1\\nvalue = 10.646'),\n",
       " Text(0.16327081365537713, 0.6304347826086957, 'squared_error = -0.0\\nsamples = 1\\nvalue = 10.581'),\n",
       " Text(0.16650924301713668, 0.7608695652173914, 'Weight <= 2.585\\nsquared_error = 0.004\\nsamples = 3\\nvalue = 10.748'),\n",
       " Text(0.16542976656321684, 0.717391304347826, 'Weight <= 2.345\\nsquared_error = 0.0\\nsamples = 2\\nvalue = 10.706'),\n",
       " Text(0.164350290109297, 0.6739130434782609, 'squared_error = 0.0\\nsamples = 1\\nvalue = 10.691'),\n",
       " Text(0.16650924301713668, 0.6739130434782609, 'squared_error = -0.0\\nsamples = 1\\nvalue = 10.721'),\n",
       " Text(0.16758871947105652, 0.717391304347826, 'squared_error = -0.0\\nsamples = 1\\nvalue = 10.831'),\n",
       " Text(0.2141200580218594, 0.8478260869565217, 'Weight <= 1.485\\nsquared_error = 0.114\\nsamples = 102\\nvalue = 10.619'),\n",
       " Text(0.1805424369180947, 0.8043478260869565, 'IPS <= 0.5\\nsquared_error = 0.06\\nsamples = 17\\nvalue = 11.047'),\n",
       " Text(0.17514505464849547, 0.7608695652173914, 'Company_HP <= 0.5\\nsquared_error = 0.039\\nsamples = 14\\nvalue = 11.115'),\n",
       " Text(0.17082714883281608, 0.717391304347826, 'Company_Toshiba <= 0.5\\nsquared_error = 0.018\\nsamples = 6\\nvalue = 10.971'),\n",
       " Text(0.1686681959249764, 0.6739130434782609, 'OpSys_Windows <= 0.5\\nsquared_error = 0.002\\nsamples = 2\\nvalue = 10.799'),\n",
       " Text(0.16758871947105652, 0.6304347826086957, 'squared_error = 0.0\\nsamples = 1\\nvalue = 10.841'),\n",
       " Text(0.16974767237889624, 0.6304347826086957, 'squared_error = 0.0\\nsamples = 1\\nvalue = 10.757'),\n",
       " Text(0.1729861017406558, 0.6739130434782609, 'PPI <= 138.784\\nsquared_error = 0.003\\nsamples = 4\\nvalue = 11.057'),\n",
       " Text(0.17190662528673592, 0.6304347826086957, 'squared_error = 0.0\\nsamples = 1\\nvalue = 10.969'),\n",
       " Text(0.17406557819457563, 0.6304347826086957, 'Weight <= 1.125\\nsquared_error = 0.001\\nsamples = 3\\nvalue = 11.086'),\n",
       " Text(0.1729861017406558, 0.5869565217391305, 'squared_error = 0.0\\nsamples = 1\\nvalue = 11.134'),\n",
       " Text(0.17514505464849547, 0.5869565217391305, 'squared_error = -0.0\\nsamples = 2\\nvalue = 11.061'),\n",
       " Text(0.17946296046417487, 0.717391304347826, 'PPI <= 161.491\\nsquared_error = 0.028\\nsamples = 8\\nvalue = 11.223'),\n",
       " Text(0.17730400755633519, 0.6739130434782609, 'PPI <= 118.651\\nsquared_error = 0.027\\nsamples = 5\\nvalue = 11.143'),\n",
       " Text(0.17622453110241532, 0.6304347826086957, 'squared_error = 0.0\\nsamples = 1\\nvalue = 10.979'),\n",
       " Text(0.17838348401025503, 0.6304347826086957, 'TypeName_Notebook <= 0.5\\nsquared_error = 0.026\\nsamples = 4\\nvalue = 11.185'),\n",
       " Text(0.17730400755633519, 0.5869565217391305, 'Weight <= 1.37\\nsquared_error = 0.023\\nsamples = 3\\nvalue = 11.13'),\n",
       " Text(0.17622453110241532, 0.5434782608695652, 'squared_error = 0.013\\nsamples = 2\\nvalue = 11.215'),\n",
       " Text(0.17838348401025503, 0.5434782608695652, 'squared_error = 0.0\\nsamples = 1\\nvalue = 10.962'),\n",
       " Text(0.17946296046417487, 0.5869565217391305, 'squared_error = 0.0\\nsamples = 1\\nvalue = 11.347'),\n",
       " Text(0.18162191337201458, 0.6739130434782609, 'HDD <= 250.0\\nsquared_error = 0.002\\nsamples = 3\\nvalue = 11.356'),\n",
       " Text(0.1805424369180947, 0.6304347826086957, 'squared_error = 0.0\\nsamples = 1\\nvalue = 11.414'),\n",
       " Text(0.18270138982593442, 0.6304347826086957, 'squared_error = 0.0\\nsamples = 2\\nvalue = 11.327'),\n",
       " Text(0.18593981918769398, 0.7608695652173914, 'Company_Toshiba <= 0.5\\nsquared_error = 0.036\\nsamples = 3\\nvalue = 10.73'),\n",
       " Text(0.1848603427337741, 0.717391304347826, 'Gpu_brand_Intel <= 0.5\\nsquared_error = 0.006\\nsamples = 2\\nvalue = 10.604'),\n",
       " Text(0.18378086627985427, 0.6739130434782609, 'squared_error = 0.0\\nsamples = 1\\nvalue = 10.683'),\n",
       " Text(0.18593981918769398, 0.6739130434782609, 'squared_error = -0.0\\nsamples = 1\\nvalue = 10.525'),\n",
       " Text(0.18701929564161382, 0.717391304347826, 'squared_error = 0.0\\nsamples = 1\\nvalue = 10.983'),\n",
       " Text(0.24769767912562407, 0.8043478260869565, 'OpSys_Others <= 0.5\\nsquared_error = 0.081\\nsamples = 85\\nvalue = 10.533'),\n",
       " Text(0.2299790851437053, 0.7608695652173914, 'HDD <= 750.0\\nsquared_error = 0.064\\nsamples = 70\\nvalue = 10.603'),\n",
       " Text(0.21181352044258533, 0.717391304347826, 'Company_HP <= 0.5\\nsquared_error = 0.064\\nsamples = 52\\nvalue = 10.664'),\n",
       " Text(0.19774659290244231, 0.6739130434782609, 'Weight <= 1.885\\nsquared_error = 0.047\\nsamples = 32\\nvalue = 10.587'),\n",
       " Text(0.1848603427337741, 0.6304347826086957, 'TypeName_Ultrabook <= 0.5\\nsquared_error = 0.024\\nsamples = 11\\nvalue = 10.721'),\n",
       " Text(0.18378086627985427, 0.5869565217391305, 'PPI <= 114.881\\nsquared_error = 0.019\\nsamples = 10\\nvalue = 10.696'),\n",
       " Text(0.1805424369180947, 0.5434782608695652, 'Weight <= 1.755\\nsquared_error = 0.012\\nsamples = 5\\nvalue = 10.787'),\n",
       " Text(0.17946296046417487, 0.5, 'HDD <= 250.0\\nsquared_error = 0.004\\nsamples = 4\\nvalue = 10.833'),\n",
       " Text(0.17730400755633519, 0.45652173913043476, 'IPS <= 0.5\\nsquared_error = 0.0\\nsamples = 2\\nvalue = 10.894'),\n",
       " Text(0.17622453110241532, 0.41304347826086957, 'squared_error = 0.0\\nsamples = 1\\nvalue = 10.885'),\n",
       " Text(0.17838348401025503, 0.41304347826086957, 'squared_error = -0.0\\nsamples = 1\\nvalue = 10.903'),\n",
       " Text(0.18162191337201458, 0.45652173913043476, 'Weight <= 1.675\\nsquared_error = 0.0\\nsamples = 2\\nvalue = 10.772'),\n",
       " Text(0.1805424369180947, 0.41304347826086957, 'squared_error = 0.0\\nsamples = 1\\nvalue = 10.75'),\n",
       " Text(0.18270138982593442, 0.41304347826086957, 'squared_error = -0.0\\nsamples = 1\\nvalue = 10.794'),\n",
       " Text(0.18162191337201458, 0.5, 'squared_error = -0.0\\nsamples = 1\\nvalue = 10.602'),\n",
       " Text(0.18701929564161382, 0.5434782608695652, 'Weight <= 1.75\\nsquared_error = 0.009\\nsamples = 5\\nvalue = 10.605'),\n",
       " Text(0.1848603427337741, 0.5, 'SSD <= 192.0\\nsquared_error = 0.001\\nsamples = 2\\nvalue = 10.493'),\n",
       " Text(0.18378086627985427, 0.45652173913043476, 'squared_error = 0.0\\nsamples = 1\\nvalue = 10.46'),\n",
       " Text(0.18593981918769398, 0.45652173913043476, 'squared_error = -0.0\\nsamples = 1\\nvalue = 10.525'),\n",
       " Text(0.1891782485494535, 0.5, 'HDD <= 250.0\\nsquared_error = 0.001\\nsamples = 3\\nvalue = 10.679'),\n",
       " Text(0.18809877209553366, 0.45652173913043476, 'TypeName_Notebook <= 0.5\\nsquared_error = 0.0\\nsamples = 2\\nvalue = 10.698'),\n",
       " Text(0.18701929564161382, 0.41304347826086957, 'squared_error = 0.0\\nsamples = 1\\nvalue = 10.701'),\n",
       " Text(0.1891782485494535, 0.41304347826086957, 'squared_error = 0.0\\nsamples = 1\\nvalue = 10.696'),\n",
       " Text(0.19025772500337337, 0.45652173913043476, 'squared_error = -0.0\\nsamples = 1\\nvalue = 10.641'),\n",
       " Text(0.18593981918769398, 0.5869565217391305, 'squared_error = -0.0\\nsamples = 1\\nvalue = 10.975'),\n",
       " Text(0.21063284307111052, 0.6304347826086957, 'Weight <= 2.34\\nsquared_error = 0.045\\nsamples = 21\\nvalue = 10.517'),\n",
       " Text(0.20348131156389151, 0.5869565217391305, 'HDD <= 250.0\\nsquared_error = 0.04\\nsamples = 18\\nvalue = 10.485'),\n",
       " Text(0.1956551072729726, 0.5434782608695652, 'SSD <= 192.0\\nsquared_error = 0.027\\nsamples = 9\\nvalue = 10.414'),\n",
       " Text(0.1934961543651329, 0.5, 'Weight <= 2.0\\nsquared_error = 0.0\\nsamples = 2\\nvalue = 10.181'),\n",
       " Text(0.19241667791121306, 0.45652173913043476, 'squared_error = 0.0\\nsamples = 1\\nvalue = 10.186'),\n",
       " Text(0.19457563081905277, 0.45652173913043476, 'squared_error = 0.0\\nsamples = 1\\nvalue = 10.176'),\n",
       " Text(0.1978140601808123, 0.5, 'TypeName_Notebook <= 0.5\\nsquared_error = 0.014\\nsamples = 7\\nvalue = 10.48'),\n",
       " Text(0.19673458372689245, 0.45652173913043476, 'squared_error = 0.0\\nsamples = 1\\nvalue = 10.741'),\n",
       " Text(0.19889353663473217, 0.45652173913043476, 'Weight <= 2.15\\nsquared_error = 0.004\\nsamples = 6\\nvalue = 10.437'),\n",
       " Text(0.19619484549993255, 0.41304347826086957, 'Company_Asus <= 0.5\\nsquared_error = 0.0\\nsamples = 2\\nvalue = 10.36'),\n",
       " Text(0.19511536904601268, 0.3695652173913043, 'squared_error = 0.0\\nsamples = 1\\nvalue = 10.371'),\n",
       " Text(0.1972743219538524, 0.3695652173913043, 'squared_error = 0.0\\nsamples = 1\\nvalue = 10.349'),\n",
       " Text(0.20159222776953178, 0.41304347826086957, 'Weight <= 2.265\\nsquared_error = 0.001\\nsamples = 4\\nvalue = 10.475'),\n",
       " Text(0.19943327486169207, 0.3695652173913043, 'Weight <= 2.215\\nsquared_error = 0.0\\nsamples = 2\\nvalue = 10.507'),\n",
       " Text(0.19835379840777223, 0.32608695652173914, 'squared_error = 0.0\\nsamples = 1\\nvalue = 10.501'),\n",
       " Text(0.20051275131561191, 0.32608695652173914, 'squared_error = 0.0\\nsamples = 1\\nvalue = 10.514'),\n",
       " Text(0.20375118067737147, 0.3695652173913043, 'Gpu_brand_Intel <= 0.5\\nsquared_error = 0.0\\nsamples = 2\\nvalue = 10.443'),\n",
       " Text(0.20267170422345163, 0.32608695652173914, 'squared_error = 0.0\\nsamples = 1\\nvalue = 10.435'),\n",
       " Text(0.2048306571312913, 0.32608695652173914, 'squared_error = 0.0\\nsamples = 1\\nvalue = 10.451'),\n",
       " Text(0.21130751585481042, 0.5434782608695652, 'Weight <= 2.06\\nsquared_error = 0.043\\nsamples = 9\\nvalue = 10.556'),\n",
       " Text(0.2091485629469707, 0.5, 'Weight <= 1.985\\nsquared_error = 0.015\\nsamples = 4\\nvalue = 10.744'),\n",
       " Text(0.20806908649305086, 0.45652173913043476, 'Weight <= 1.94\\nsquared_error = 0.012\\nsamples = 3\\nvalue = 10.7'),\n",
       " Text(0.20698961003913102, 0.41304347826086957, 'Weight <= 1.915\\nsquared_error = 0.006\\nsamples = 2\\nvalue = 10.766'),\n",
       " Text(0.20591013358521118, 0.3695652173913043, 'squared_error = 0.0\\nsamples = 1\\nvalue = 10.691'),\n",
       " Text(0.20806908649305086, 0.3695652173913043, 'squared_error = 0.0\\nsamples = 1\\nvalue = 10.841'),\n",
       " Text(0.2091485629469707, 0.41304347826086957, 'squared_error = -0.0\\nsamples = 1\\nvalue = 10.568'),\n",
       " Text(0.21022803940089058, 0.45652173913043476, 'squared_error = -0.0\\nsamples = 1\\nvalue = 10.873'),\n",
       " Text(0.2134664687626501, 0.5, 'Company_Toshiba <= 0.5\\nsquared_error = 0.015\\nsamples = 5\\nvalue = 10.406'),\n",
       " Text(0.21238699230873026, 0.45652173913043476, 'Weight <= 2.165\\nsquared_error = 0.003\\nsamples = 3\\nvalue = 10.339'),\n",
       " Text(0.21130751585481042, 0.41304347826086957, 'squared_error = 0.0\\nsamples = 1\\nvalue = 10.267'),\n",
       " Text(0.2134664687626501, 0.41304347826086957, 'PPI <= 120.833\\nsquared_error = 0.001\\nsamples = 2\\nvalue = 10.375'),\n",
       " Text(0.21238699230873026, 0.3695652173913043, 'squared_error = 0.0\\nsamples = 1\\nvalue = 10.404'),\n",
       " Text(0.21454594521656997, 0.3695652173913043, 'squared_error = 0.0\\nsamples = 1\\nvalue = 10.347'),\n",
       " Text(0.21454594521656997, 0.45652173913043476, 'squared_error = 0.017\\nsamples = 2\\nvalue = 10.505'),\n",
       " Text(0.2177843745783295, 0.5869565217391305, 'HDD <= 250.0\\nsquared_error = 0.03\\nsamples = 3\\nvalue = 10.708'),\n",
       " Text(0.21670489812440966, 0.5434782608695652, 'PPI <= 134.274\\nsquared_error = 0.005\\nsamples = 2\\nvalue = 10.593'),\n",
       " Text(0.21562542167048981, 0.5, 'squared_error = 0.0\\nsamples = 1\\nvalue = 10.666'),\n",
       " Text(0.2177843745783295, 0.5, 'squared_error = -0.0\\nsamples = 1\\nvalue = 10.519'),\n",
       " Text(0.21886385103224937, 0.5434782608695652, 'squared_error = -0.0\\nsamples = 1\\nvalue = 10.937'),\n",
       " Text(0.22588044798272838, 0.6739130434782609, 'Gpu_brand_Intel <= 0.5\\nsquared_error = 0.067\\nsamples = 20\\nvalue = 10.787'),\n",
       " Text(0.22318175684792876, 0.6304347826086957, 'PPI <= 149.281\\nsquared_error = 0.001\\nsamples = 3\\nvalue = 10.421'),\n",
       " Text(0.2221022803940089, 0.5869565217391305, 'PPI <= 120.833\\nsquared_error = 0.0\\nsamples = 2\\nvalue = 10.398'),\n",
       " Text(0.22102280394008905, 0.5434782608695652, 'squared_error = 0.0\\nsamples = 1\\nvalue = 10.393'),\n",
       " Text(0.22318175684792876, 0.5434782608695652, 'squared_error = 0.0\\nsamples = 1\\nvalue = 10.404'),\n",
       " Text(0.2242612333018486, 0.5869565217391305, 'squared_error = 0.0\\nsamples = 1\\nvalue = 10.466'),\n",
       " Text(0.228579139117528, 0.6304347826086957, 'IPS <= 0.5\\nsquared_error = 0.051\\nsamples = 17\\nvalue = 10.851'),\n",
       " Text(0.2264201862096883, 0.5869565217391305, 'Weight <= 2.355\\nsquared_error = 0.04\\nsamples = 14\\nvalue = 10.914'),\n",
       " Text(0.22534070975576845, 0.5434782608695652, 'TypeName_Notebook <= 0.5\\nsquared_error = 0.027\\nsamples = 13\\nvalue = 10.88'),\n",
       " Text(0.2242612333018486, 0.5, 'squared_error = 0.0\\nsamples = 1\\nvalue = 10.505'),\n",
       " Text(0.2264201862096883, 0.5, 'PPI <= 149.281\\nsquared_error = 0.017\\nsamples = 12\\nvalue = 10.911'),\n",
       " Text(0.221292673053569, 0.45652173913043476, 'PPI <= 106.195\\nsquared_error = 0.015\\nsamples = 7\\nvalue = 10.853'),\n",
       " Text(0.2185939819187694, 0.41304347826086957, 'Weight <= 2.175\\nsquared_error = 0.01\\nsamples = 2\\nvalue = 10.963'),\n",
       " Text(0.21751450546484954, 0.3695652173913043, 'squared_error = 0.0\\nsamples = 1\\nvalue = 10.862'),\n",
       " Text(0.21967345837268926, 0.3695652173913043, 'squared_error = 0.0\\nsamples = 1\\nvalue = 11.065'),\n",
       " Text(0.22399136418836865, 0.41304347826086957, 'Weight <= 1.795\\nsquared_error = 0.01\\nsamples = 5\\nvalue = 10.808'),\n",
       " Text(0.22183241128052894, 0.3695652173913043, 'SSD <= 128.0\\nsquared_error = 0.012\\nsamples = 2\\nvalue = 10.745'),\n",
       " Text(0.2207529348266091, 0.32608695652173914, 'squared_error = 0.0\\nsamples = 1\\nvalue = 10.634'),\n",
       " Text(0.22291188773444878, 0.32608695652173914, 'squared_error = 0.0\\nsamples = 1\\nvalue = 10.856'),\n",
       " Text(0.22615031709620834, 0.3695652173913043, 'PPI <= 126.574\\nsquared_error = 0.004\\nsamples = 3\\nvalue = 10.851'),\n",
       " Text(0.2250708406422885, 0.32608695652173914, 'squared_error = 0.0\\nsamples = 1\\nvalue = 10.942'),\n",
       " Text(0.22722979355012818, 0.32608695652173914, 'Weight <= 2.19\\nsquared_error = 0.0\\nsamples = 2\\nvalue = 10.805'),\n",
       " Text(0.22615031709620834, 0.2826086956521739, 'squared_error = 0.0\\nsamples = 1\\nvalue = 10.789'),\n",
       " Text(0.22830927000404805, 0.2826086956521739, 'squared_error = 0.0\\nsamples = 1\\nvalue = 10.821'),\n",
       " Text(0.23154769936580757, 0.45652173913043476, 'Weight <= 1.745\\nsquared_error = 0.008\\nsamples = 5\\nvalue = 10.993'),\n",
       " Text(0.2293887464579679, 0.41304347826086957, 'HDD <= 250.0\\nsquared_error = 0.002\\nsamples = 3\\nvalue = 10.925'),\n",
       " Text(0.22830927000404805, 0.3695652173913043, 'squared_error = 0.0\\nsamples = 1\\nvalue = 10.979'),\n",
       " Text(0.23046822291188773, 0.3695652173913043, 'squared_error = 0.0\\nsamples = 2\\nvalue = 10.899'),\n",
       " Text(0.2337066522736473, 0.41304347826086957, 'SSD <= 192.0\\nsquared_error = 0.001\\nsamples = 2\\nvalue = 11.094'),\n",
       " Text(0.23262717581972744, 0.3695652173913043, 'squared_error = 0.0\\nsamples = 1\\nvalue = 11.118'),\n",
       " Text(0.23478612872756713, 0.3695652173913043, 'squared_error = 0.0\\nsamples = 1\\nvalue = 11.07'),\n",
       " Text(0.22749966266360816, 0.5434782608695652, 'squared_error = -0.0\\nsamples = 1\\nvalue = 11.353'),\n",
       " Text(0.23073809202536769, 0.5869565217391305, 'SSD <= 64.0\\nsquared_error = 0.0\\nsamples = 3\\nvalue = 10.559'),\n",
       " Text(0.22965861557144784, 0.5434782608695652, 'squared_error = 0.0\\nsamples = 2\\nvalue = 10.558'),\n",
       " Text(0.23181756847928756, 0.5434782608695652, 'squared_error = 0.0\\nsamples = 1\\nvalue = 10.563'),\n",
       " Text(0.24814464984482526, 0.717391304347826, 'SSD <= 64.0\\nsquared_error = 0.021\\nsamples = 18\\nvalue = 10.426'),\n",
       " Text(0.24342194035892592, 0.6739130434782609, 'Gpu_brand_Intel <= 0.5\\nsquared_error = 0.014\\nsamples = 16\\nvalue = 10.395'),\n",
       " Text(0.2372149507488868, 0.6304347826086957, 'Gpu_brand_Nvidia <= 0.5\\nsquared_error = 0.007\\nsamples = 8\\nvalue = 10.456'),\n",
       " Text(0.23505599784104708, 0.5869565217391305, 'PPI <= 134.274\\nsquared_error = 0.003\\nsamples = 3\\nvalue = 10.553'),\n",
       " Text(0.23397652138712724, 0.5434782608695652, 'Company_HP <= 0.5\\nsquared_error = 0.0\\nsamples = 2\\nvalue = 10.515'),\n",
       " Text(0.2328970449332074, 0.5, 'squared_error = 0.0\\nsamples = 1\\nvalue = 10.505'),\n",
       " Text(0.23505599784104708, 0.5, 'squared_error = 0.0\\nsamples = 1\\nvalue = 10.525'),\n",
       " Text(0.23613547429496695, 0.5434782608695652, 'squared_error = -0.0\\nsamples = 1\\nvalue = 10.63'),\n",
       " Text(0.23937390365672648, 0.5869565217391305, 'Weight <= 2.795\\nsquared_error = 0.001\\nsamples = 5\\nvalue = 10.397'),\n",
       " Text(0.23829442720280664, 0.5434782608695652, 'PPI <= 123.663\\nsquared_error = 0.0\\nsamples = 4\\nvalue = 10.384'),\n",
       " Text(0.2372149507488868, 0.5, 'squared_error = 0.0\\nsamples = 1\\nvalue = 10.354'),\n",
       " Text(0.23937390365672648, 0.5, 'Company_Lenovo <= 0.5\\nsquared_error = 0.0\\nsamples = 3\\nvalue = 10.393'),\n",
       " Text(0.23829442720280664, 0.45652173913043476, 'IPS <= 0.5\\nsquared_error = 0.0\\nsamples = 2\\nvalue = 10.396'),\n",
       " Text(0.2372149507488868, 0.41304347826086957, 'squared_error = 0.0\\nsamples = 1\\nvalue = 10.399'),\n",
       " Text(0.23937390365672648, 0.41304347826086957, 'squared_error = 0.0\\nsamples = 1\\nvalue = 10.394'),\n",
       " Text(0.24045338011064635, 0.45652173913043476, 'squared_error = -0.0\\nsamples = 1\\nvalue = 10.387'),\n",
       " Text(0.24045338011064635, 0.5434782608695652, 'squared_error = 0.0\\nsamples = 1\\nvalue = 10.451'),\n",
       " Text(0.24962892996896505, 0.6304347826086957, 'Company_HP <= 0.5\\nsquared_error = 0.012\\nsamples = 8\\nvalue = 10.335'),\n",
       " Text(0.24693023883416543, 0.5869565217391305, 'Weight <= 2.205\\nsquared_error = 0.008\\nsamples = 6\\nvalue = 10.38'),\n",
       " Text(0.24477128592632574, 0.5434782608695652, 'Weight <= 2.14\\nsquared_error = 0.003\\nsamples = 3\\nvalue = 10.46'),\n",
       " Text(0.24369180947240587, 0.5, 'Ram <= 5.0\\nsquared_error = 0.0\\nsamples = 2\\nvalue = 10.422'),\n",
       " Text(0.24261233301848603, 0.45652173913043476, 'squared_error = 0.0\\nsamples = 1\\nvalue = 10.408'),\n",
       " Text(0.24477128592632574, 0.45652173913043476, 'squared_error = -0.0\\nsamples = 1\\nvalue = 10.435'),\n",
       " Text(0.24585076238024559, 0.5, 'squared_error = 0.0\\nsamples = 1\\nvalue = 10.538'),\n",
       " Text(0.24908919174200514, 0.5434782608695652, 'PPI <= 120.833\\nsquared_error = 0.0\\nsamples = 3\\nvalue = 10.299'),\n",
       " Text(0.24800971528808527, 0.5, 'squared_error = 0.0\\nsamples = 1\\nvalue = 10.284'),\n",
       " Text(0.250168668195925, 0.5, 'Ram <= 5.0\\nsquared_error = 0.0\\nsamples = 2\\nvalue = 10.306'),\n",
       " Text(0.24908919174200514, 0.45652173913043476, 'squared_error = 0.0\\nsamples = 1\\nvalue = 10.302'),\n",
       " Text(0.25124814464984485, 0.45652173913043476, 'squared_error = 0.0\\nsamples = 1\\nvalue = 10.311'),\n",
       " Text(0.25232762110376467, 0.5869565217391305, 'Weight <= 1.95\\nsquared_error = 0.001\\nsamples = 2\\nvalue = 10.2'),\n",
       " Text(0.25124814464984485, 0.5434782608695652, 'squared_error = 0.0\\nsamples = 1\\nvalue = 10.167'),\n",
       " Text(0.25340709755768454, 0.5434782608695652, 'squared_error = 0.0\\nsamples = 1\\nvalue = 10.232'),\n",
       " Text(0.2528673593307246, 0.6739130434782609, 'Company_Lenovo <= 0.5\\nsquared_error = 0.014\\nsamples = 2\\nvalue = 10.673'),\n",
       " Text(0.25178788287680476, 0.6304347826086957, 'squared_error = 0.0\\nsamples = 1\\nvalue = 10.792'),\n",
       " Text(0.25394683578464444, 0.6304347826086957, 'squared_error = 0.0\\nsamples = 1\\nvalue = 10.553'),\n",
       " Text(0.26541627310754284, 0.7608695652173914, 'Company_Dell <= 0.5\\nsquared_error = 0.034\\nsamples = 15\\nvalue = 10.21'),\n",
       " Text(0.26123330184860344, 0.717391304347826, 'Gpu_brand_Nvidia <= 0.5\\nsquared_error = 0.011\\nsamples = 11\\nvalue = 10.134'),\n",
       " Text(0.25826474160032387, 0.6739130434782609, 'Weight <= 1.88\\nsquared_error = 0.007\\nsamples = 8\\nvalue = 10.091'),\n",
       " Text(0.257185265146404, 0.6304347826086957, 'squared_error = 0.0\\nsamples = 1\\nvalue = 9.952'),\n",
       " Text(0.2593442180542437, 0.6304347826086957, 'Weight <= 2.03\\nsquared_error = 0.005\\nsamples = 7\\nvalue = 10.111'),\n",
       " Text(0.2566455269194441, 0.5869565217391305, 'Weight <= 1.93\\nsquared_error = 0.0\\nsamples = 2\\nvalue = 10.179'),\n",
       " Text(0.2555660504655242, 0.5434782608695652, 'squared_error = 0.0\\nsamples = 1\\nvalue = 10.17'),\n",
       " Text(0.2577250033733639, 0.5434782608695652, 'squared_error = 0.0\\nsamples = 1\\nvalue = 10.188'),\n",
       " Text(0.2620429091890433, 0.5869565217391305, 'PPI <= 120.833\\nsquared_error = 0.004\\nsamples = 5\\nvalue = 10.083'),\n",
       " Text(0.25988395628120364, 0.5434782608695652, 'Company_Lenovo <= 0.5\\nsquared_error = 0.006\\nsamples = 3\\nvalue = 10.057'),\n",
       " Text(0.2588044798272838, 0.5, 'Weight <= 2.25\\nsquared_error = 0.001\\nsamples = 2\\nvalue = 10.105'),\n",
       " Text(0.2577250033733639, 0.45652173913043476, 'squared_error = 0.0\\nsamples = 1\\nvalue = 10.143'),\n",
       " Text(0.25988395628120364, 0.45652173913043476, 'squared_error = 0.0\\nsamples = 1\\nvalue = 10.066'),\n",
       " Text(0.26096343273512346, 0.5, 'squared_error = 0.0\\nsamples = 1\\nvalue = 9.962'),\n",
       " Text(0.264201862096883, 0.5434782608695652, 'SSD <= 64.0\\nsquared_error = 0.0\\nsamples = 2\\nvalue = 10.123'),\n",
       " Text(0.26312238564296314, 0.5, 'squared_error = 0.0\\nsamples = 1\\nvalue = 10.122'),\n",
       " Text(0.2652813385508029, 0.5, 'squared_error = 0.0\\nsamples = 1\\nvalue = 10.124'),\n",
       " Text(0.264201862096883, 0.6739130434782609, 'PPI <= 120.833\\nsquared_error = 0.004\\nsamples = 3\\nvalue = 10.251'),\n",
       " Text(0.26312238564296314, 0.6304347826086957, 'squared_error = 0.0\\nsamples = 1\\nvalue = 10.337'),\n",
       " Text(0.2652813385508029, 0.6304347826086957, 'Company_Lenovo <= 0.5\\nsquared_error = 0.0\\nsamples = 2\\nvalue = 10.208'),\n",
       " Text(0.264201862096883, 0.5869565217391305, 'squared_error = 0.0\\nsamples = 1\\nvalue = 10.227'),\n",
       " Text(0.2663608150047227, 0.5869565217391305, 'squared_error = -0.0\\nsamples = 1\\nvalue = 10.188'),\n",
       " Text(0.26959924436648225, 0.717391304347826, 'Weight <= 2.055\\nsquared_error = 0.038\\nsamples = 4\\nvalue = 10.416'),\n",
       " Text(0.26851976791256243, 0.6739130434782609, 'squared_error = 0.0\\nsamples = 1\\nvalue = 10.743'),\n",
       " Text(0.2706787208204021, 0.6739130434782609, 'HDD <= 500.0\\nsquared_error = 0.003\\nsamples = 3\\nvalue = 10.308'),\n",
       " Text(0.26959924436648225, 0.6304347826086957, 'Weight <= 2.24\\nsquared_error = 0.001\\nsamples = 2\\nvalue = 10.345'),\n",
       " Text(0.26851976791256243, 0.5869565217391305, 'squared_error = 0.0\\nsamples = 1\\nvalue = 10.319'),\n",
       " Text(0.2706787208204021, 0.5869565217391305, 'squared_error = 0.0\\nsamples = 1\\nvalue = 10.371'),\n",
       " Text(0.27175819727432193, 0.6304347826086957, 'squared_error = -0.0\\nsamples = 1\\nvalue = 10.233'),\n",
       " Text(0.30050637354945353, 0.8913043478260869, 'Ram <= 3.0\\nsquared_error = 0.084\\nsamples = 106\\nvalue = 9.781'),\n",
       " Text(0.27877479422480095, 0.8478260869565217, 'Company_Dell <= 0.5\\nsquared_error = 0.045\\nsamples = 16\\nvalue = 9.478'),\n",
       " Text(0.27769531777088113, 0.8043478260869565, 'Weight <= 1.16\\nsquared_error = 0.021\\nsamples = 14\\nvalue = 9.416'),\n",
       " Text(0.2749966266360815, 0.7608695652173914, 'TypeName_Netbook <= 0.5\\nsquared_error = 0.008\\nsamples = 3\\nvalue = 9.588'),\n",
       " Text(0.2739171501821617, 0.717391304347826, 'Company_Lenovo <= 0.5\\nsquared_error = 0.003\\nsamples = 2\\nvalue = 9.643'),\n",
       " Text(0.2728376737282418, 0.6739130434782609, 'squared_error = 0.0\\nsamples = 1\\nvalue = 9.592'),\n",
       " Text(0.2749966266360815, 0.6739130434782609, 'squared_error = -0.0\\nsamples = 1\\nvalue = 9.694'),\n",
       " Text(0.27607610309000136, 0.717391304347826, 'squared_error = -0.0\\nsamples = 1\\nvalue = 9.477'),\n",
       " Text(0.2803940089056807, 0.7608695652173914, 'OpSys_Others <= 0.5\\nsquared_error = 0.014\\nsamples = 11\\nvalue = 9.369'),\n",
       " Text(0.27823505599784104, 0.717391304347826, 'TypeName_Netbook <= 0.5\\nsquared_error = 0.009\\nsamples = 9\\nvalue = 9.406'),\n",
       " Text(0.27715557954392117, 0.6739130434782609, 'Company_HP <= 0.5\\nsquared_error = 0.008\\nsamples = 6\\nvalue = 9.449'),\n",
       " Text(0.27607610309000136, 0.6304347826086957, 'Company_Vero <= 0.5\\nsquared_error = 0.003\\nsamples = 5\\nvalue = 9.418'),\n",
       " Text(0.2749966266360815, 0.5869565217391305, 'Weight <= 1.46\\nsquared_error = 0.001\\nsamples = 4\\nvalue = 9.441'),\n",
       " Text(0.2739171501821617, 0.5434782608695652, 'Weight <= 1.41\\nsquared_error = 0.0\\nsamples = 2\\nvalue = 9.473'),\n",
       " Text(0.2728376737282418, 0.5, 'squared_error = 0.0\\nsamples = 1\\nvalue = 9.452'),\n",
       " Text(0.2749966266360815, 0.5, 'squared_error = 0.0\\nsamples = 1\\nvalue = 9.493'),\n",
       " Text(0.27607610309000136, 0.5434782608695652, 'squared_error = -0.0\\nsamples = 2\\nvalue = 9.409'),\n",
       " Text(0.27715557954392117, 0.5869565217391305, 'squared_error = 0.0\\nsamples = 1\\nvalue = 9.326'),\n",
       " Text(0.27823505599784104, 0.6304347826086957, 'squared_error = 0.0\\nsamples = 1\\nvalue = 9.607'),\n",
       " Text(0.2793145324517609, 0.6739130434782609, 'squared_error = 0.0\\nsamples = 3\\nvalue = 9.318'),\n",
       " Text(0.28255296181352046, 0.717391304347826, 'PPI <= 117.774\\nsquared_error = 0.005\\nsamples = 2\\nvalue = 9.202'),\n",
       " Text(0.2814734853596006, 0.6739130434782609, 'squared_error = 0.0\\nsamples = 1\\nvalue = 9.269'),\n",
       " Text(0.2836324382674403, 0.6739130434782609, 'squared_error = 0.0\\nsamples = 1\\nvalue = 9.135'),\n",
       " Text(0.2798542706787208, 0.8043478260869565, 'squared_error = -0.0\\nsamples = 2\\nvalue = 9.913'),\n",
       " Text(0.32223795287410606, 0.8478260869565217, 'SSD <= 80.0\\nsquared_error = 0.071\\nsamples = 90\\nvalue = 9.835'),\n",
       " Text(0.31098514876534883, 0.8043478260869565, 'PPI <= 170.932\\nsquared_error = 0.057\\nsamples = 80\\nvalue = 9.797'),\n",
       " Text(0.3035922109027122, 0.7608695652173914, 'Company_Vero <= 0.5\\nsquared_error = 0.041\\nsamples = 72\\nvalue = 9.764'),\n",
       " Text(0.29582293212791794, 0.717391304347826, 'Gpu_brand_Intel <= 0.5\\nsquared_error = 0.035\\nsamples = 69\\nvalue = 9.781'),\n",
       " Text(0.29100323842936177, 0.6739130434782609, 'PPI <= 98.348\\nsquared_error = 0.003\\nsamples = 3\\nvalue = 10.166'),\n",
       " Text(0.2899237619754419, 0.6304347826086957, 'squared_error = 0.0\\nsamples = 2\\nvalue = 10.124'),\n",
       " Text(0.29208271488328164, 0.6304347826086957, 'squared_error = 0.0\\nsamples = 1\\nvalue = 10.248'),\n",
       " Text(0.30064262582647416, 0.6739130434782609, 'TouchScreen <= 0.5\\nsquared_error = 0.03\\nsamples = 66\\nvalue = 9.764'),\n",
       " Text(0.2942416677911213, 0.6304347826086957, 'Company_Chuwi <= 0.5\\nsquared_error = 0.024\\nsamples = 63\\nvalue = 9.749'),\n",
       " Text(0.29316219133720145, 0.5869565217391305, 'Weight <= 1.95\\nsquared_error = 0.022\\nsamples = 61\\nvalue = 9.758'),\n",
       " Text(0.2835987046282553, 0.5434782608695652, 'HDD <= 16.0\\nsquared_error = 0.028\\nsamples = 32\\nvalue = 9.72'),\n",
       " Text(0.27715557954392117, 0.5, 'SSD <= 24.0\\nsquared_error = 0.028\\nsamples = 27\\nvalue = 9.744'),\n",
       " Text(0.27317501012009177, 0.45652173913043476, 'Weight <= 1.445\\nsquared_error = 0.028\\nsamples = 25\\nvalue = 9.731'),\n",
       " Text(0.2684523006341924, 0.41304347826086957, 'Company_Lenovo <= 0.5\\nsquared_error = 0.032\\nsamples = 14\\nvalue = 9.69'),\n",
       " Text(0.2662933477263527, 0.3695652173913043, 'PPI <= 150.363\\nsquared_error = 0.036\\nsamples = 10\\nvalue = 9.737'),\n",
       " Text(0.26521387127243284, 0.32608695652173914, 'TypeName_Notebook <= 0.5\\nsquared_error = 0.034\\nsamples = 9\\nvalue = 9.761'),\n",
       " Text(0.26413439481851303, 0.2826086956521739, 'Company_HP <= 0.5\\nsquared_error = 0.015\\nsamples = 8\\nvalue = 9.711'),\n",
       " Text(0.26305491836459316, 0.2391304347826087, 'IPS <= 0.5\\nsquared_error = 0.01\\nsamples = 7\\nvalue = 9.68'),\n",
       " Text(0.26035622722979357, 0.1956521739130435, 'Company_Asus <= 0.5\\nsquared_error = 0.007\\nsamples = 5\\nvalue = 9.649'),\n",
       " Text(0.25819727432195383, 0.15217391304347827, 'Company_Dell <= 0.5\\nsquared_error = 0.002\\nsamples = 3\\nvalue = 9.601'),\n",
       " Text(0.257117797868034, 0.10869565217391304, 'squared_error = 0.0\\nsamples = 2\\nvalue = 9.57'),\n",
       " Text(0.2592767507758737, 0.10869565217391304, 'squared_error = 0.0\\nsamples = 1\\nvalue = 9.663'),\n",
       " Text(0.26251518013763325, 0.15217391304347827, 'OpSys_Others <= 0.5\\nsquared_error = 0.007\\nsamples = 2\\nvalue = 9.721'),\n",
       " Text(0.2614357036837134, 0.10869565217391304, 'squared_error = 0.0\\nsamples = 1\\nvalue = 9.805'),\n",
       " Text(0.2635946565915531, 0.10869565217391304, 'squared_error = 0.0\\nsamples = 1\\nvalue = 9.638'),\n",
       " Text(0.2657536094993928, 0.1956521739130435, 'Weight <= 1.3\\nsquared_error = 0.008\\nsamples = 2\\nvalue = 9.758'),\n",
       " Text(0.26467413304547294, 0.15217391304347827, 'squared_error = 0.0\\nsamples = 1\\nvalue = 9.669'),\n",
       " Text(0.2668330859533126, 0.15217391304347827, 'squared_error = 0.0\\nsamples = 1\\nvalue = 9.848'),\n",
       " Text(0.26521387127243284, 0.2391304347826087, 'squared_error = -0.0\\nsamples = 1\\nvalue = 9.929'),\n",
       " Text(0.2662933477263527, 0.2826086956521739, 'squared_error = -0.0\\nsamples = 1\\nvalue = 10.16'),\n",
       " Text(0.2673728241802726, 0.32608695652173914, 'squared_error = 0.0\\nsamples = 1\\nvalue = 9.517'),\n",
       " Text(0.27061125354203214, 0.3695652173913043, 'PPI <= 123.515\\nsquared_error = 0.003\\nsamples = 4\\nvalue = 9.572'),\n",
       " Text(0.26953177708811227, 0.32608695652173914, 'Weight <= 1.435\\nsquared_error = 0.004\\nsamples = 3\\nvalue = 9.578'),\n",
       " Text(0.2684523006341924, 0.2826086956521739, 'squared_error = 0.0\\nsamples = 1\\nvalue = 9.589'),\n",
       " Text(0.27061125354203214, 0.2826086956521739, 'squared_error = 0.006\\nsamples = 2\\nvalue = 9.573'),\n",
       " Text(0.27169072999595195, 0.32608695652173914, 'squared_error = 0.0\\nsamples = 1\\nvalue = 9.555'),\n",
       " Text(0.2778977196059911, 0.41304347826086957, 'Weight <= 1.475\\nsquared_error = 0.019\\nsamples = 11\\nvalue = 9.783'),\n",
       " Text(0.2749291593577115, 0.3695652173913043, 'PPI <= 114.881\\nsquared_error = 0.01\\nsamples = 2\\nvalue = 10.005'),\n",
       " Text(0.27384968290379164, 0.32608695652173914, 'squared_error = 0.0\\nsamples = 1\\nvalue = 9.902'),\n",
       " Text(0.2760086358116314, 0.32608695652173914, 'squared_error = 0.0\\nsamples = 1\\nvalue = 10.107'),\n",
       " Text(0.2808662798542707, 0.3695652173913043, 'Weight <= 1.55\\nsquared_error = 0.007\\nsamples = 9\\nvalue = 9.734'),\n",
       " Text(0.27816758871947106, 0.32608695652173914, 'Company_Lenovo <= 0.5\\nsquared_error = 0.003\\nsamples = 4\\nvalue = 9.667'),\n",
       " Text(0.2770881122655512, 0.2826086956521739, 'PPI <= 134.643\\nsquared_error = 0.001\\nsamples = 3\\nvalue = 9.636'),\n",
       " Text(0.2760086358116314, 0.2391304347826087, 'squared_error = 0.0\\nsamples = 2\\nvalue = 9.617'),\n",
       " Text(0.27816758871947106, 0.2391304347826087, 'squared_error = -0.0\\nsamples = 1\\nvalue = 9.673'),\n",
       " Text(0.27924706517339093, 0.2826086956521739, 'squared_error = -0.0\\nsamples = 1\\nvalue = 9.759'),\n",
       " Text(0.2835649709890703, 0.32608695652173914, 'Weight <= 1.64\\nsquared_error = 0.004\\nsamples = 5\\nvalue = 9.787'),\n",
       " Text(0.2814060180812306, 0.2826086956521739, 'Company_Asus <= 0.5\\nsquared_error = 0.004\\nsamples = 3\\nvalue = 9.759'),\n",
       " Text(0.28032654162731074, 0.2391304347826087, 'PPI <= 134.643\\nsquared_error = 0.001\\nsamples = 2\\nvalue = 9.801'),\n",
       " Text(0.27924706517339093, 0.1956521739130435, 'squared_error = 0.0\\nsamples = 1\\nvalue = 9.831'),\n",
       " Text(0.2814060180812306, 0.1956521739130435, 'squared_error = 0.0\\nsamples = 1\\nvalue = 9.772'),\n",
       " Text(0.2824854945351504, 0.2391304347826087, 'squared_error = -0.0\\nsamples = 1\\nvalue = 9.676'),\n",
       " Text(0.28572392389691, 0.2826086956521739, 'Company_Asus <= 0.5\\nsquared_error = 0.0\\nsamples = 2\\nvalue = 9.829'),\n",
       " Text(0.28464444744299017, 0.2391304347826087, 'squared_error = 0.0\\nsamples = 1\\nvalue = 9.831'),\n",
       " Text(0.28680340035082985, 0.2391304347826087, 'squared_error = 0.0\\nsamples = 1\\nvalue = 9.828'),\n",
       " Text(0.28113614896775063, 0.45652173913043476, 'Weight <= 1.325\\nsquared_error = 0.001\\nsamples = 2\\nvalue = 9.913'),\n",
       " Text(0.2800566725138308, 0.41304347826086957, 'squared_error = 0.0\\nsamples = 1\\nvalue = 9.886'),\n",
       " Text(0.2822156254216705, 0.41304347826086957, 'squared_error = -0.0\\nsamples = 1\\nvalue = 9.939'),\n",
       " Text(0.2900418297125894, 0.5, 'Company_Dell <= 0.5\\nsquared_error = 0.006\\nsamples = 5\\nvalue = 9.589'),\n",
       " Text(0.28896235325866954, 0.45652173913043476, 'Company_Lenovo <= 0.5\\nsquared_error = 0.003\\nsamples = 4\\nvalue = 9.559'),\n",
       " Text(0.2878828768047497, 0.41304347826086957, 'HDD <= 750.0\\nsquared_error = 0.002\\nsamples = 3\\nvalue = 9.576'),\n",
       " Text(0.28680340035082985, 0.3695652173913043, 'OpSys_Others <= 0.5\\nsquared_error = 0.0\\nsamples = 2\\nvalue = 9.544'),\n",
       " Text(0.28572392389691, 0.32608695652173914, 'squared_error = 0.0\\nsamples = 1\\nvalue = 9.555'),\n",
       " Text(0.2878828768047497, 0.32608695652173914, 'squared_error = 0.0\\nsamples = 1\\nvalue = 9.532'),\n",
       " Text(0.28896235325866954, 0.3695652173913043, 'squared_error = -0.0\\nsamples = 1\\nvalue = 9.642'),\n",
       " Text(0.2900418297125894, 0.41304347826086957, 'squared_error = -0.0\\nsamples = 1\\nvalue = 9.506'),\n",
       " Text(0.2911213061665092, 0.45652173913043476, 'squared_error = 0.0\\nsamples = 1\\nvalue = 9.709'),\n",
       " Text(0.30272567804614764, 0.5434782608695652, 'OpSys_Others <= 0.5\\nsquared_error = 0.012\\nsamples = 29\\nvalue = 9.8'),\n",
       " Text(0.29813790311698823, 0.5, 'Weight <= 2.15\\nsquared_error = 0.007\\nsamples = 18\\nvalue = 9.828'),\n",
       " Text(0.2943597355282688, 0.45652173913043476, 'HDD <= 750.0\\nsquared_error = 0.004\\nsamples = 9\\nvalue = 9.781'),\n",
       " Text(0.2922007826204291, 0.41304347826086957, 'Company_HP <= 0.5\\nsquared_error = 0.003\\nsamples = 5\\nvalue = 9.743'),\n",
       " Text(0.2911213061665092, 0.3695652173913043, 'PPI <= 106.195\\nsquared_error = 0.002\\nsamples = 4\\nvalue = 9.722'),\n",
       " Text(0.2900418297125894, 0.32608695652173914, 'Weight <= 2.05\\nsquared_error = 0.001\\nsamples = 3\\nvalue = 9.738'),\n",
       " Text(0.28896235325866954, 0.2826086956521739, 'squared_error = 0.0\\nsamples = 1\\nvalue = 9.693'),\n",
       " Text(0.2911213061665092, 0.2826086956521739, 'Company_Lenovo <= 0.5\\nsquared_error = 0.001\\nsamples = 2\\nvalue = 9.761'),\n",
       " Text(0.2900418297125894, 0.2391304347826087, 'squared_error = 0.0\\nsamples = 1\\nvalue = 9.784'),\n",
       " Text(0.2922007826204291, 0.2391304347826087, 'squared_error = -0.0\\nsamples = 1\\nvalue = 9.738'),\n",
       " Text(0.2922007826204291, 0.32608695652173914, 'squared_error = -0.0\\nsamples = 1\\nvalue = 9.676'),\n",
       " Text(0.29328025907434896, 0.3695652173913043, 'squared_error = 0.0\\nsamples = 1\\nvalue = 9.825'),\n",
       " Text(0.2965186884361085, 0.41304347826086957, 'Weight <= 2.05\\nsquared_error = 0.001\\nsamples = 4\\nvalue = 9.829'),\n",
       " Text(0.29543921198218864, 0.3695652173913043, 'PPI <= 120.833\\nsquared_error = 0.0\\nsamples = 2\\nvalue = 9.809'),\n",
       " Text(0.2943597355282688, 0.32608695652173914, 'squared_error = 0.0\\nsamples = 1\\nvalue = 9.802'),\n",
       " Text(0.2965186884361085, 0.32608695652173914, 'squared_error = 0.0\\nsamples = 1\\nvalue = 9.816'),\n",
       " Text(0.2975981648900283, 0.3695652173913043, 'squared_error = 0.0\\nsamples = 2\\nvalue = 9.85'),\n",
       " Text(0.30191607070570775, 0.45652173913043476, 'HDD <= 750.0\\nsquared_error = 0.006\\nsamples = 9\\nvalue = 9.875'),\n",
       " Text(0.3008365942517879, 0.41304347826086957, 'PPI <= 120.833\\nsquared_error = 0.003\\nsamples = 8\\nvalue = 9.897'),\n",
       " Text(0.299757117797868, 0.3695652173913043, 'Company_Lenovo <= 0.5\\nsquared_error = 0.002\\nsamples = 7\\nvalue = 9.909'),\n",
       " Text(0.2986776413439482, 0.32608695652173914, 'Weight <= 2.3\\nsquared_error = 0.0\\nsamples = 6\\nvalue = 9.891'),\n",
       " Text(0.2975981648900283, 0.2826086956521739, 'Company_Dell <= 0.5\\nsquared_error = 0.0\\nsamples = 5\\nvalue = 9.886'),\n",
       " Text(0.2965186884361085, 0.2391304347826087, 'squared_error = 0.0\\nsamples = 4\\nvalue = 9.886'),\n",
       " Text(0.2986776413439482, 0.2391304347826087, 'squared_error = 0.0\\nsamples = 1\\nvalue = 9.886'),\n",
       " Text(0.299757117797868, 0.2826086956521739, 'squared_error = -0.0\\nsamples = 1\\nvalue = 9.916'),\n",
       " Text(0.3008365942517879, 0.32608695652173914, 'squared_error = 0.0\\nsamples = 1\\nvalue = 10.013'),\n",
       " Text(0.30191607070570775, 0.3695652173913043, 'squared_error = 0.0\\nsamples = 1\\nvalue = 9.816'),\n",
       " Text(0.30299554715962757, 0.41304347826086957, 'squared_error = 0.0\\nsamples = 1\\nvalue = 9.699'),\n",
       " Text(0.307313452975307, 0.5, 'Weight <= 2.3\\nsquared_error = 0.017\\nsamples = 11\\nvalue = 9.753'),\n",
       " Text(0.3062339765213871, 0.45652173913043476, 'IPS <= 0.5\\nsquared_error = 0.018\\nsamples = 9\\nvalue = 9.778'),\n",
       " Text(0.3051545000674673, 0.41304347826086957, 'Company_Lenovo <= 0.5\\nsquared_error = 0.019\\nsamples = 8\\nvalue = 9.768'),\n",
       " Text(0.30407502361354743, 0.3695652173913043, 'Weight <= 2.05\\nsquared_error = 0.024\\nsamples = 6\\nvalue = 9.755'),\n",
       " Text(0.30299554715962757, 0.32608695652173914, 'squared_error = 0.035\\nsamples = 2\\nvalue = 9.778'),\n",
       " Text(0.3051545000674673, 0.32608695652173914, 'Company_Dell <= 0.5\\nsquared_error = 0.018\\nsamples = 4\\nvalue = 9.743'),\n",
       " Text(0.30407502361354743, 0.2826086956521739, 'squared_error = 0.0\\nsamples = 1\\nvalue = 9.673'),\n",
       " Text(0.3062339765213871, 0.2826086956521739, 'squared_error = 0.021\\nsamples = 3\\nvalue = 9.766'),\n",
       " Text(0.3062339765213871, 0.3695652173913043, 'squared_error = 0.003\\nsamples = 2\\nvalue = 9.806'),\n",
       " Text(0.307313452975307, 0.41304347826086957, 'squared_error = 0.0\\nsamples = 1\\nvalue = 9.859'),\n",
       " Text(0.3083929294292268, 0.45652173913043476, 'squared_error = 0.0\\nsamples = 2\\nvalue = 9.642'),\n",
       " Text(0.29532114424504113, 0.5869565217391305, 'squared_error = 0.0\\nsamples = 2\\nvalue = 9.485'),\n",
       " Text(0.307043583861827, 0.6304347826086957, 'Company_HP <= 0.5\\nsquared_error = 0.053\\nsamples = 3\\nvalue = 10.071'),\n",
       " Text(0.30596410740790714, 0.5869565217391305, 'Weight <= 1.375\\nsquared_error = 0.0\\nsamples = 2\\nvalue = 9.908'),\n",
       " Text(0.3048846309539873, 0.5434782608695652, 'squared_error = 0.0\\nsamples = 1\\nvalue = 9.913'),\n",
       " Text(0.307043583861827, 0.5434782608695652, 'squared_error = 0.0\\nsamples = 1\\nvalue = 9.902'),\n",
       " Text(0.3081230603157469, 0.5869565217391305, 'squared_error = 0.0\\nsamples = 1\\nvalue = 10.397'),\n",
       " Text(0.31136148967750643, 0.717391304347826, 'IPS <= 0.5\\nsquared_error = 0.016\\nsamples = 3\\nvalue = 9.359'),\n",
       " Text(0.31028201322358656, 0.6739130434782609, 'PPI <= 161.491\\nsquared_error = 0.0\\nsamples = 2\\nvalue = 9.271'),\n",
       " Text(0.3092025367696667, 0.6304347826086957, 'squared_error = 0.0\\nsamples = 1\\nvalue = 9.288'),\n",
       " Text(0.31136148967750643, 0.6304347826086957, 'squared_error = 0.0\\nsamples = 1\\nvalue = 9.254'),\n",
       " Text(0.31244096613142625, 0.6739130434782609, 'squared_error = 0.0\\nsamples = 1\\nvalue = 9.536'),\n",
       " Text(0.31837808662798545, 0.7608695652173914, 'IPS <= 0.5\\nsquared_error = 0.092\\nsamples = 8\\nvalue = 10.1'),\n",
       " Text(0.3156793954931858, 0.717391304347826, 'Company_Asus <= 0.5\\nsquared_error = 0.002\\nsamples = 2\\nvalue = 10.439'),\n",
       " Text(0.31459991903926593, 0.6739130434782609, 'squared_error = 0.0\\nsamples = 1\\nvalue = 10.397'),\n",
       " Text(0.31675887194710567, 0.6739130434782609, 'squared_error = 0.0\\nsamples = 1\\nvalue = 10.481'),\n",
       " Text(0.32107677776278504, 0.717391304347826, 'PPI <= 207.04\\nsquared_error = 0.071\\nsamples = 6\\nvalue = 9.987'),\n",
       " Text(0.31891782485494535, 0.6739130434782609, 'Weight <= 1.205\\nsquared_error = 0.006\\nsamples = 2\\nvalue = 9.753'),\n",
       " Text(0.3178383484010255, 0.6304347826086957, 'squared_error = 0.0\\nsamples = 1\\nvalue = 9.676'),\n",
       " Text(0.3199973013088652, 0.6304347826086957, 'squared_error = 0.0\\nsamples = 1\\nvalue = 9.831'),\n",
       " Text(0.3232357306706247, 0.6739130434782609, 'OpSys_Windows <= 0.5\\nsquared_error = 0.063\\nsamples = 4\\nvalue = 10.104'),\n",
       " Text(0.3221562542167049, 0.6304347826086957, 'squared_error = 0.0\\nsamples = 1\\nvalue = 9.741'),\n",
       " Text(0.3243152071245446, 0.6304347826086957, 'TouchScreen <= 0.5\\nsquared_error = 0.025\\nsamples = 3\\nvalue = 10.226'),\n",
       " Text(0.3232357306706247, 0.5869565217391305, 'squared_error = 0.0\\nsamples = 1\\nvalue = 10.083'),\n",
       " Text(0.32539468357846446, 0.5869565217391305, 'squared_error = 0.022\\nsamples = 2\\nvalue = 10.297'),\n",
       " Text(0.3334907569828633, 0.8043478260869565, 'Weight <= 1.805\\nsquared_error = 0.083\\nsamples = 10\\nvalue = 10.137'),\n",
       " Text(0.328633112940224, 0.7608695652173914, 'Weight <= 1.425\\nsquared_error = 0.048\\nsamples = 6\\nvalue = 10.314'),\n",
       " Text(0.3264741600323843, 0.717391304347826, 'Company_Lenovo <= 0.5\\nsquared_error = 0.002\\nsamples = 2\\nvalue = 10.095'),\n",
       " Text(0.32539468357846446, 0.6739130434782609, 'squared_error = 0.0\\nsamples = 1\\nvalue = 10.051'),\n",
       " Text(0.32755363648630414, 0.6739130434782609, 'squared_error = 0.0\\nsamples = 1\\nvalue = 10.139'),\n",
       " Text(0.3307920658480637, 0.717391304347826, 'PPI <= 123.515\\nsquared_error = 0.035\\nsamples = 4\\nvalue = 10.424'),\n",
       " Text(0.32971258939414383, 0.6739130434782609, 'squared_error = 0.0\\nsamples = 1\\nvalue = 10.188'),\n",
       " Text(0.3318715423019835, 0.6739130434782609, 'IPS <= 0.5\\nsquared_error = 0.023\\nsamples = 3\\nvalue = 10.502'),\n",
       " Text(0.3307920658480637, 0.6304347826086957, 'Weight <= 1.54\\nsquared_error = 0.0\\nsamples = 2\\nvalue = 10.608'),\n",
       " Text(0.32971258939414383, 0.5869565217391305, 'squared_error = 0.0\\nsamples = 1\\nvalue = 10.628'),\n",
       " Text(0.3318715423019835, 0.5869565217391305, 'squared_error = 0.0\\nsamples = 1\\nvalue = 10.588'),\n",
       " Text(0.3329510187559034, 0.6304347826086957, 'squared_error = 0.0\\nsamples = 1\\nvalue = 10.291'),\n",
       " Text(0.3383484010255026, 0.7608695652173914, 'OpSys_Others <= 0.5\\nsquared_error = 0.017\\nsamples = 4\\nvalue = 9.871'),\n",
       " Text(0.3372689245715828, 0.717391304347826, 'Weight <= 2.03\\nsquared_error = 0.006\\nsamples = 3\\nvalue = 9.936'),\n",
       " Text(0.33618944811766294, 0.6739130434782609, 'Company_HP <= 0.5\\nsquared_error = 0.001\\nsamples = 2\\nvalue = 9.989'),\n",
       " Text(0.33510997166374307, 0.6304347826086957, 'squared_error = 0.0\\nsamples = 1\\nvalue = 10.013'),\n",
       " Text(0.3372689245715828, 0.6304347826086957, 'squared_error = -0.0\\nsamples = 1\\nvalue = 9.964'),\n",
       " Text(0.3383484010255026, 0.6739130434782609, 'squared_error = 0.0\\nsamples = 1\\nvalue = 9.831'),\n",
       " Text(0.3394278774794225, 0.717391304347826, 'squared_error = -0.0\\nsamples = 1\\nvalue = 9.676'),\n",
       " Text(0.7606045516166846, 0.9347826086956522, 'Ram <= 14.0\\nsquared_error = 0.215\\nsamples = 744\\nvalue = 11.119'),\n",
       " Text(0.5616666078084941, 0.8913043478260869, 'TypeName_Notebook <= 0.5\\nsquared_error = 0.159\\nsamples = 553\\nvalue = 10.967'),\n",
       " Text(0.45059273693664825, 0.8478260869565217, 'Weight <= 1.545\\nsquared_error = 0.107\\nsamples = 268\\nvalue = 11.172'),\n",
       " Text(0.38016941666104437, 0.8043478260869565, 'SSD <= 218.0\\nsquared_error = 0.076\\nsamples = 138\\nvalue = 11.281'),\n",
       " Text(0.34374578329510186, 0.7608695652173914, 'Company_HP <= 0.5\\nsquared_error = 0.092\\nsamples = 15\\nvalue = 11.002'),\n",
       " Text(0.34266630684118204, 0.717391304347826, 'CpuName_Intel Core i7 <= 0.5\\nsquared_error = 0.047\\nsamples = 14\\nvalue = 11.061'),\n",
       " Text(0.3415868303872622, 0.6739130434782609, 'PPI <= 196.024\\nsquared_error = 0.026\\nsamples = 13\\nvalue = 11.019'),\n",
       " Text(0.3394278774794225, 0.6304347826086957, 'SSD <= 154.0\\nsquared_error = 0.007\\nsamples = 6\\nvalue = 10.875'),\n",
       " Text(0.3383484010255026, 0.5869565217391305, 'OpSys_Others <= 0.5\\nsquared_error = 0.006\\nsamples = 5\\nvalue = 10.855'),\n",
       " Text(0.3372689245715828, 0.5434782608695652, 'Weight <= 1.255\\nsquared_error = 0.002\\nsamples = 3\\nvalue = 10.805'),\n",
       " Text(0.33618944811766294, 0.5, 'squared_error = 0.0\\nsamples = 1\\nvalue = 10.862'),\n",
       " Text(0.3383484010255026, 0.5, 'Company_Dell <= 0.5\\nsquared_error = 0.0\\nsamples = 2\\nvalue = 10.777'),\n",
       " Text(0.3372689245715828, 0.45652173913043476, 'squared_error = 0.0\\nsamples = 1\\nvalue = 10.777'),\n",
       " Text(0.3394278774794225, 0.45652173913043476, 'squared_error = 0.0\\nsamples = 1\\nvalue = 10.777'),\n",
       " Text(0.3394278774794225, 0.5434782608695652, 'squared_error = 0.002\\nsamples = 2\\nvalue = 10.93'),\n",
       " Text(0.3405073539333423, 0.5869565217391305, 'squared_error = 0.0\\nsamples = 1\\nvalue = 10.978'),\n",
       " Text(0.34374578329510186, 0.6304347826086957, 'PPI <= 282.886\\nsquared_error = 0.01\\nsamples = 7\\nvalue = 11.143'),\n",
       " Text(0.34266630684118204, 0.5869565217391305, 'PPI <= 226.699\\nsquared_error = 0.003\\nsamples = 6\\nvalue = 11.108'),\n",
       " Text(0.3415868303872622, 0.5434782608695652, 'squared_error = 0.003\\nsamples = 4\\nvalue = 11.086'),\n",
       " Text(0.34374578329510186, 0.5434782608695652, 'PPI <= 230.745\\nsquared_error = 0.001\\nsamples = 2\\nvalue = 11.151'),\n",
       " Text(0.34266630684118204, 0.5, 'squared_error = 0.0\\nsamples = 1\\nvalue = 11.176'),\n",
       " Text(0.34482525974902173, 0.5, 'squared_error = 0.0\\nsamples = 1\\nvalue = 11.126'),\n",
       " Text(0.34482525974902173, 0.5869565217391305, 'squared_error = 0.0\\nsamples = 1\\nvalue = 11.353'),\n",
       " Text(0.34374578329510186, 0.6739130434782609, 'squared_error = 0.0\\nsamples = 1\\nvalue = 11.601'),\n",
       " Text(0.34482525974902173, 0.717391304347826, 'squared_error = -0.0\\nsamples = 1\\nvalue = 10.18'),\n",
       " Text(0.41659305002698693, 0.7608695652173914, 'Company_Asus <= 0.5\\nsquared_error = 0.063\\nsamples = 123\\nvalue = 11.315'),\n",
       " Text(0.3864852499662664, 0.717391304347826, 'Gpu_brand_Intel <= 0.5\\nsquared_error = 0.052\\nsamples = 113\\nvalue = 11.347'),\n",
       " Text(0.36846410740790714, 0.6739130434782609, 'Company_HP <= 0.5\\nsquared_error = 0.006\\nsamples = 3\\nvalue = 10.897'),\n",
       " Text(0.3673846309539873, 0.6304347826086957, 'OpSys_Windows <= 0.5\\nsquared_error = 0.001\\nsamples = 2\\nvalue = 10.848'),\n",
       " Text(0.36630515450006745, 0.5869565217391305, 'squared_error = 0.0\\nsamples = 1\\nvalue = 10.883'),\n",
       " Text(0.36846410740790714, 0.5869565217391305, 'squared_error = -0.0\\nsamples = 1\\nvalue = 10.813'),\n",
       " Text(0.369543583861827, 0.6304347826086957, 'squared_error = 0.0\\nsamples = 1\\nvalue = 10.996'),\n",
       " Text(0.40450639252462556, 0.6739130434782609, 'SSD <= 384.0\\nsquared_error = 0.047\\nsamples = 110\\nvalue = 11.36'),\n",
       " Text(0.3862628187828903, 0.6304347826086957, 'PPI <= 255.28\\nsquared_error = 0.046\\nsamples = 86\\nvalue = 11.324'),\n",
       " Text(0.3706230603157469, 0.5869565217391305, 'PPI <= 205.322\\nsquared_error = 0.045\\nsamples = 72\\nvalue = 11.346'),\n",
       " Text(0.3541863446228579, 0.5434782608695652, 'CpuName_Intel Core i7 <= 0.5\\nsquared_error = 0.039\\nsamples = 60\\nvalue = 11.314'),\n",
       " Text(0.3469842126568614, 0.5, 'Weight <= 1.49\\nsquared_error = 0.043\\nsamples = 29\\nvalue = 11.268'),\n",
       " Text(0.34482525974902173, 0.45652173913043476, 'PPI <= 121.597\\nsquared_error = 0.035\\nsamples = 27\\nvalue = 11.289'),\n",
       " Text(0.34374578329510186, 0.41304347826086957, 'squared_error = 0.0\\nsamples = 1\\nvalue = 10.974'),\n",
       " Text(0.3459047362029416, 0.41304347826086957, 'Weight <= 1.415\\nsquared_error = 0.032\\nsamples = 26\\nvalue = 11.302'),\n",
       " Text(0.34374578329510186, 0.3695652173913043, 'Weight <= 1.405\\nsquared_error = 0.033\\nsamples = 24\\nvalue = 11.291'),\n",
       " Text(0.34266630684118204, 0.32608695652173914, 'PPI <= 187.962\\nsquared_error = 0.025\\nsamples = 23\\nvalue = 11.311'),\n",
       " Text(0.33740385912832277, 0.2826086956521739, 'IPS <= 0.5\\nsquared_error = 0.025\\nsamples = 21\\nvalue = 11.323'),\n",
       " Text(0.3301173930643638, 0.2391304347826087, 'TouchScreen <= 0.5\\nsquared_error = 0.024\\nsamples = 12\\nvalue = 11.355'),\n",
       " Text(0.3257994872486844, 0.1956521739130435, 'Company_HP <= 0.5\\nsquared_error = 0.011\\nsamples = 7\\nvalue = 11.277'),\n",
       " Text(0.32364053434084467, 0.15217391304347827, 'Weight <= 1.325\\nsquared_error = 0.002\\nsamples = 4\\nvalue = 11.317'),\n",
       " Text(0.32256105788692485, 0.10869565217391304, 'Company_Toshiba <= 0.5\\nsquared_error = 0.001\\nsamples = 3\\nvalue = 11.297'),\n",
       " Text(0.321481581433005, 0.06521739130434782, 'Weight <= 1.245\\nsquared_error = 0.0\\nsamples = 2\\nvalue = 11.271'),\n",
       " Text(0.32040210497908517, 0.021739130434782608, 'squared_error = 0.0\\nsamples = 1\\nvalue = 11.255'),\n",
       " Text(0.32256105788692485, 0.021739130434782608, 'squared_error = 0.0\\nsamples = 1\\nvalue = 11.288'),\n",
       " Text(0.32364053434084467, 0.06521739130434782, 'squared_error = 0.0\\nsamples = 1\\nvalue = 11.347'),\n",
       " Text(0.32472001079476454, 0.10869565217391304, 'squared_error = 0.0\\nsamples = 1\\nvalue = 11.377'),\n",
       " Text(0.3279584401565241, 0.15217391304347827, 'TypeName_Netbook <= 0.5\\nsquared_error = 0.018\\nsamples = 3\\nvalue = 11.224'),\n",
       " Text(0.3268789637026042, 0.10869565217391304, 'squared_error = 0.0\\nsamples = 1\\nvalue = 11.065'),\n",
       " Text(0.32903791661044396, 0.10869565217391304, 'PPI <= 150.8\\nsquared_error = 0.008\\nsamples = 2\\nvalue = 11.304'),\n",
       " Text(0.3279584401565241, 0.06521739130434782, 'squared_error = 0.0\\nsamples = 1\\nvalue = 11.212'),\n",
       " Text(0.3301173930643638, 0.06521739130434782, 'squared_error = 0.0\\nsamples = 1\\nvalue = 11.396'),\n",
       " Text(0.3344352988800432, 0.1956521739130435, 'PPI <= 170.932\\nsquared_error = 0.021\\nsamples = 5\\nvalue = 11.464'),\n",
       " Text(0.33227634597220346, 0.15217391304347827, 'Company_HP <= 0.5\\nsquared_error = 0.008\\nsamples = 2\\nvalue = 11.615'),\n",
       " Text(0.33119686951828364, 0.10869565217391304, 'squared_error = 0.0\\nsamples = 1\\nvalue = 11.525'),\n",
       " Text(0.3333558224261233, 0.10869565217391304, 'squared_error = 0.0\\nsamples = 1\\nvalue = 11.706'),\n",
       " Text(0.3365942517878829, 0.15217391304347827, 'Weight <= 1.35\\nsquared_error = 0.004\\nsamples = 3\\nvalue = 11.363'),\n",
       " Text(0.335514775333963, 0.10869565217391304, 'TypeName_Ultrabook <= 0.5\\nsquared_error = 0.0\\nsamples = 2\\nvalue = 11.409'),\n",
       " Text(0.3344352988800432, 0.06521739130434782, 'squared_error = 0.0\\nsamples = 1\\nvalue = 11.396'),\n",
       " Text(0.3365942517878829, 0.06521739130434782, 'squared_error = -0.0\\nsamples = 1\\nvalue = 11.422'),\n",
       " Text(0.33767372824180275, 0.10869565217391304, 'squared_error = 0.0\\nsamples = 1\\nvalue = 11.27'),\n",
       " Text(0.34469032519228177, 0.2391304347826087, 'TouchScreen <= 0.5\\nsquared_error = 0.024\\nsamples = 9\\nvalue = 11.281'),\n",
       " Text(0.3419916340574821, 0.1956521739130435, 'PPI <= 170.932\\nsquared_error = 0.008\\nsamples = 5\\nvalue = 11.364'),\n",
       " Text(0.34091215760356225, 0.15217391304347827, 'PPI <= 161.491\\nsquared_error = 0.006\\nsamples = 3\\nvalue = 11.377'),\n",
       " Text(0.33983268114964243, 0.10869565217391304, 'squared_error = 0.008\\nsamples = 2\\nvalue = 11.379'),\n",
       " Text(0.3419916340574821, 0.10869565217391304, 'squared_error = -0.0\\nsamples = 1\\nvalue = 11.371'),\n",
       " Text(0.343071110511402, 0.15217391304347827, 'squared_error = 0.011\\nsamples = 2\\nvalue = 11.344'),\n",
       " Text(0.34738901632708136, 0.1956521739130435, 'Weight <= 1.335\\nsquared_error = 0.026\\nsamples = 4\\nvalue = 11.177'),\n",
       " Text(0.3452300634192417, 0.15217391304347827, 'Company_HP <= 0.5\\nsquared_error = 0.023\\nsamples = 2\\nvalue = 11.068'),\n",
       " Text(0.3441505869653218, 0.10869565217391304, 'squared_error = 0.0\\nsamples = 1\\nvalue = 10.917'),\n",
       " Text(0.34630953987316154, 0.10869565217391304, 'squared_error = -0.0\\nsamples = 1\\nvalue = 11.219'),\n",
       " Text(0.34954796923492104, 0.15217391304347827, 'PPI <= 162.057\\nsquared_error = 0.004\\nsamples = 2\\nvalue = 11.286'),\n",
       " Text(0.3484684927810012, 0.10869565217391304, 'squared_error = 0.0\\nsamples = 1\\nvalue = 11.353'),\n",
       " Text(0.3506274456888409, 0.10869565217391304, 'squared_error = 0.0\\nsamples = 1\\nvalue = 11.219'),\n",
       " Text(0.34792875455404126, 0.2826086956521739, 'Weight <= 1.151\\nsquared_error = 0.0\\nsamples = 2\\nvalue = 11.179'),\n",
       " Text(0.34684927810012145, 0.2391304347826087, 'squared_error = 0.0\\nsamples = 1\\nvalue = 11.183'),\n",
       " Text(0.34900823100796113, 0.2391304347826087, 'squared_error = 0.0\\nsamples = 1\\nvalue = 11.176'),\n",
       " Text(0.34482525974902173, 0.32608695652173914, 'squared_error = 0.0\\nsamples = 1\\nvalue = 10.831'),\n",
       " Text(0.3480636891107813, 0.3695652173913043, 'Company_Dell <= 0.5\\nsquared_error = 0.004\\nsamples = 2\\nvalue = 11.433'),\n",
       " Text(0.3469842126568614, 0.32608695652173914, 'squared_error = 0.0\\nsamples = 1\\nvalue = 11.371'),\n",
       " Text(0.3491431655647011, 0.32608695652173914, 'squared_error = -0.0\\nsamples = 1\\nvalue = 11.494'),\n",
       " Text(0.3491431655647011, 0.45652173913043476, 'PPI <= 145.5\\nsquared_error = 0.065\\nsamples = 2\\nvalue = 10.973'),\n",
       " Text(0.3480636891107813, 0.41304347826086957, 'squared_error = 0.0\\nsamples = 1\\nvalue = 11.229'),\n",
       " Text(0.35022264201862097, 0.41304347826086957, 'squared_error = 0.0\\nsamples = 1\\nvalue = 10.717'),\n",
       " Text(0.3613884765888544, 0.5, 'Weight <= 1.24\\nsquared_error = 0.032\\nsamples = 31\\nvalue = 11.358'),\n",
       " Text(0.35440561327756037, 0.45652173913043476, 'TouchScreen <= 0.5\\nsquared_error = 0.016\\nsamples = 7\\nvalue = 11.259'),\n",
       " Text(0.35332613682364056, 0.41304347826086957, 'PPI <= 156.246\\nsquared_error = 0.007\\nsamples = 6\\nvalue = 11.298'),\n",
       " Text(0.3522466603697207, 0.3695652173913043, 'squared_error = 0.0\\nsamples = 1\\nvalue = 11.413'),\n",
       " Text(0.35440561327756037, 0.3695652173913043, 'IPS <= 0.5\\nsquared_error = 0.006\\nsamples = 5\\nvalue = 11.275'),\n",
       " Text(0.35332613682364056, 0.32608695652173914, 'Company_Toshiba <= 0.5\\nsquared_error = 0.003\\nsamples = 4\\nvalue = 11.248'),\n",
       " Text(0.3522466603697207, 0.2826086956521739, 'Weight <= 1.215\\nsquared_error = 0.003\\nsamples = 3\\nvalue = 11.266'),\n",
       " Text(0.3511671839158008, 0.2391304347826087, 'squared_error = 0.002\\nsamples = 2\\nvalue = 11.297'),\n",
       " Text(0.35332613682364056, 0.2391304347826087, 'squared_error = 0.0\\nsamples = 1\\nvalue = 11.205'),\n",
       " Text(0.35440561327756037, 0.2826086956521739, 'squared_error = 0.0\\nsamples = 1\\nvalue = 11.193'),\n",
       " Text(0.35548508973148024, 0.32608695652173914, 'squared_error = 0.0\\nsamples = 1\\nvalue = 11.383'),\n",
       " Text(0.35548508973148024, 0.41304347826086957, 'squared_error = 0.0\\nsamples = 1\\nvalue = 11.022'),\n",
       " Text(0.3683713399001484, 0.45652173913043476, 'Weight <= 1.375\\nsquared_error = 0.032\\nsamples = 24\\nvalue = 11.387'),\n",
       " Text(0.36182701389825933, 0.41304347826086957, 'TypeName_Ultrabook <= 0.5\\nsquared_error = 0.028\\nsamples = 17\\nvalue = 11.427'),\n",
       " Text(0.3587235190932398, 0.3695652173913043, 'Weight <= 1.325\\nsquared_error = 0.025\\nsamples = 3\\nvalue = 11.607'),\n",
       " Text(0.3576440426393199, 0.32608695652173914, 'squared_error = 0.0\\nsamples = 1\\nvalue = 11.823'),\n",
       " Text(0.3598029955471596, 0.32608695652173914, 'squared_error = 0.003\\nsamples = 2\\nvalue = 11.499'),\n",
       " Text(0.3649305087032789, 0.3695652173913043, 'PPI <= 161.491\\nsquared_error = 0.021\\nsamples = 14\\nvalue = 11.388'),\n",
       " Text(0.36196194845499935, 0.32608695652173914, 'Company_Lenovo <= 0.5\\nsquared_error = 0.001\\nsamples = 3\\nvalue = 11.468'),\n",
       " Text(0.3608824720010795, 0.2826086956521739, 'Company_HP <= 0.5\\nsquared_error = 0.0\\nsamples = 2\\nvalue = 11.45'),\n",
       " Text(0.3598029955471596, 0.2391304347826087, 'squared_error = 0.0\\nsamples = 1\\nvalue = 11.457'),\n",
       " Text(0.36196194845499935, 0.2391304347826087, 'squared_error = 0.0\\nsamples = 1\\nvalue = 11.443'),\n",
       " Text(0.36304142490891916, 0.2826086956521739, 'squared_error = -0.0\\nsamples = 1\\nvalue = 11.503'),\n",
       " Text(0.3678990689515585, 0.32608695652173914, 'Weight <= 1.256\\nsquared_error = 0.024\\nsamples = 11\\nvalue = 11.366'),\n",
       " Text(0.36520037781675885, 0.2826086956521739, 'Weight <= 1.251\\nsquared_error = 0.0\\nsamples = 2\\nvalue = 11.489'),\n",
       " Text(0.36412090136283903, 0.2391304347826087, 'squared_error = 0.0\\nsamples = 1\\nvalue = 11.471'),\n",
       " Text(0.3662798542706787, 0.2391304347826087, 'squared_error = -0.0\\nsamples = 1\\nvalue = 11.508'),\n",
       " Text(0.37059776008635814, 0.2826086956521739, 'PPI <= 170.932\\nsquared_error = 0.025\\nsamples = 9\\nvalue = 11.339'),\n",
       " Text(0.3684388071785184, 0.2391304347826087, 'TouchScreen <= 0.5\\nsquared_error = 0.003\\nsamples = 3\\nvalue = 11.277'),\n",
       " Text(0.3673593307245986, 0.1956521739130435, 'Company_HP <= 0.5\\nsquared_error = 0.0\\nsamples = 2\\nvalue = 11.24'),\n",
       " Text(0.3662798542706787, 0.15217391304347827, 'squared_error = 0.0\\nsamples = 1\\nvalue = 11.26'),\n",
       " Text(0.3684388071785184, 0.15217391304347827, 'squared_error = -0.0\\nsamples = 1\\nvalue = 11.219'),\n",
       " Text(0.36951828363243827, 0.1956521739130435, 'squared_error = -0.0\\nsamples = 1\\nvalue = 11.353'),\n",
       " Text(0.3727567129941978, 0.2391304347826087, 'TouchScreen <= 0.5\\nsquared_error = 0.033\\nsamples = 6\\nvalue = 11.37'),\n",
       " Text(0.37167723654027796, 0.1956521739130435, 'Company_Lenovo <= 0.5\\nsquared_error = 0.039\\nsamples = 5\\nvalue = 11.359'),\n",
       " Text(0.37059776008635814, 0.15217391304347827, 'squared_error = 0.064\\nsamples = 3\\nvalue = 11.357'),\n",
       " Text(0.3727567129941978, 0.15217391304347827, 'squared_error = 0.0\\nsamples = 2\\nvalue = 11.364'),\n",
       " Text(0.37383618944811764, 0.1956521739130435, 'squared_error = 0.0\\nsamples = 1\\nvalue = 11.422'),\n",
       " Text(0.3749156659020375, 0.41304347826086957, 'Weight <= 1.39\\nsquared_error = 0.029\\nsamples = 7\\nvalue = 11.29'),\n",
       " Text(0.37383618944811764, 0.3695652173913043, 'squared_error = 0.012\\nsamples = 2\\nvalue = 11.071'),\n",
       " Text(0.3759951423559574, 0.3695652173913043, 'Weight <= 1.45\\nsquared_error = 0.009\\nsamples = 5\\nvalue = 11.378'),\n",
       " Text(0.37383618944811764, 0.32608695652173914, 'Ram <= 10.0\\nsquared_error = 0.004\\nsamples = 3\\nvalue = 11.314'),\n",
       " Text(0.3727567129941978, 0.2826086956521739, 'squared_error = 0.0\\nsamples = 2\\nvalue = 11.271'),\n",
       " Text(0.3749156659020375, 0.2826086956521739, 'squared_error = -0.0\\nsamples = 1\\nvalue = 11.398'),\n",
       " Text(0.37815409526379706, 0.32608695652173914, 'Weight <= 1.505\\nsquared_error = 0.002\\nsamples = 2\\nvalue = 11.473'),\n",
       " Text(0.3770746188098772, 0.2826086956521739, 'squared_error = 0.0\\nsamples = 1\\nvalue = 11.429'),\n",
       " Text(0.37923357171771693, 0.2826086956521739, 'squared_error = 0.0\\nsamples = 1\\nvalue = 11.518'),\n",
       " Text(0.38705977600863584, 0.5434782608695652, 'PPI <= 223.629\\nsquared_error = 0.043\\nsamples = 12\\nvalue = 11.502'),\n",
       " Text(0.3819322628525165, 0.5, 'Weight <= 1.41\\nsquared_error = 0.022\\nsamples = 8\\nvalue = 11.609'),\n",
       " Text(0.37815409526379706, 0.45652173913043476, 'Weight <= 1.315\\nsquared_error = 0.022\\nsamples = 3\\nvalue = 11.537'),\n",
       " Text(0.3770746188098772, 0.41304347826086957, 'squared_error = 0.0\\nsamples = 1\\nvalue = 11.733'),\n",
       " Text(0.37923357171771693, 0.41304347826086957, 'Ram <= 10.0\\nsquared_error = 0.004\\nsamples = 2\\nvalue = 11.439'),\n",
       " Text(0.37815409526379706, 0.3695652173913043, 'squared_error = 0.0\\nsamples = 1\\nvalue = 11.376'),\n",
       " Text(0.38031304817163675, 0.3695652173913043, 'squared_error = 0.0\\nsamples = 1\\nvalue = 11.503'),\n",
       " Text(0.385710430441236, 0.45652173913043476, 'Weight <= 1.45\\nsquared_error = 0.016\\nsamples = 5\\nvalue = 11.653'),\n",
       " Text(0.3835514775333963, 0.41304347826086957, 'CpuName_Intel Core i5 <= 0.5\\nsquared_error = 0.003\\nsamples = 2\\nvalue = 11.782'),\n",
       " Text(0.38247200107947643, 0.3695652173913043, 'squared_error = 0.0\\nsamples = 1\\nvalue = 11.835'),\n",
       " Text(0.38463095398731617, 0.3695652173913043, 'squared_error = -0.0\\nsamples = 1\\nvalue = 11.729'),\n",
       " Text(0.3878693833490757, 0.41304347826086957, 'Weight <= 1.52\\nsquared_error = 0.007\\nsamples = 3\\nvalue = 11.566'),\n",
       " Text(0.38678990689515585, 0.3695652173913043, 'TypeName_Ultrabook <= 0.5\\nsquared_error = 0.002\\nsamples = 2\\nvalue = 11.514'),\n",
       " Text(0.385710430441236, 0.32608695652173914, 'squared_error = 0.0\\nsamples = 1\\nvalue = 11.471'),\n",
       " Text(0.3878693833490757, 0.32608695652173914, 'squared_error = 0.0\\nsamples = 1\\nvalue = 11.558'),\n",
       " Text(0.38894885980299554, 0.3695652173913043, 'squared_error = 0.0\\nsamples = 1\\nvalue = 11.671'),\n",
       " Text(0.3921872891647551, 0.5, 'CpuName_Other Intel Processor <= 0.5\\nsquared_error = 0.017\\nsamples = 4\\nvalue = 11.288'),\n",
       " Text(0.3911078127108352, 0.45652173913043476, 'IPS <= 0.5\\nsquared_error = 0.01\\nsamples = 3\\nvalue = 11.345'),\n",
       " Text(0.3900283362569154, 0.41304347826086957, 'squared_error = 0.0\\nsamples = 1\\nvalue = 11.327'),\n",
       " Text(0.3921872891647551, 0.41304347826086957, 'squared_error = 0.014\\nsamples = 2\\nvalue = 11.353'),\n",
       " Text(0.39326676561867496, 0.45652173913043476, 'squared_error = -0.0\\nsamples = 1\\nvalue = 11.116'),\n",
       " Text(0.40190257725003375, 0.5869565217391305, 'Company_Dell <= 0.5\\nsquared_error = 0.04\\nsamples = 14\\nvalue = 11.215'),\n",
       " Text(0.3986641478882742, 0.5434782608695652, 'CpuName_Intel Core i5 <= 0.5\\nsquared_error = 0.015\\nsamples = 5\\nvalue = 11.061'),\n",
       " Text(0.3965051949804345, 0.5, 'PPI <= 314.259\\nsquared_error = 0.003\\nsamples = 3\\nvalue = 10.984'),\n",
       " Text(0.39542571852651465, 0.45652173913043476, 'TouchScreen <= 0.5\\nsquared_error = 0.0\\nsamples = 2\\nvalue = 11.02'),\n",
       " Text(0.3943462420725948, 0.41304347826086957, 'squared_error = 0.0\\nsamples = 1\\nvalue = 11.019'),\n",
       " Text(0.3965051949804345, 0.41304347826086957, 'squared_error = 0.0\\nsamples = 1\\nvalue = 11.022'),\n",
       " Text(0.39758467143435433, 0.45652173913043476, 'squared_error = 0.0\\nsamples = 1\\nvalue = 10.912'),\n",
       " Text(0.4008231007961139, 0.5, 'Weight <= 1.295\\nsquared_error = 0.012\\nsamples = 2\\nvalue = 11.176'),\n",
       " Text(0.399743624342194, 0.45652173913043476, 'squared_error = 0.0\\nsamples = 1\\nvalue = 11.288'),\n",
       " Text(0.40190257725003375, 0.45652173913043476, 'squared_error = 0.0\\nsamples = 1\\nvalue = 11.065'),\n",
       " Text(0.40514100661179325, 0.5434782608695652, 'OpSys_Windows <= 0.5\\nsquared_error = 0.033\\nsamples = 9\\nvalue = 11.3'),\n",
       " Text(0.40406153015787344, 0.5, 'squared_error = 0.0\\nsamples = 1\\nvalue = 10.978'),\n",
       " Text(0.4062204830657131, 0.5, 'CpuName_Intel Core i5 <= 0.5\\nsquared_error = 0.022\\nsamples = 8\\nvalue = 11.34'),\n",
       " Text(0.40406153015787344, 0.45652173913043476, 'PPI <= 303.659\\nsquared_error = 0.022\\nsamples = 5\\nvalue = 11.274'),\n",
       " Text(0.40298205370395357, 0.41304347826086957, 'Weight <= 1.295\\nsquared_error = 0.003\\nsamples = 4\\nvalue = 11.204'),\n",
       " Text(0.40190257725003375, 0.3695652173913043, 'Weight <= 1.26\\nsquared_error = 0.001\\nsamples = 3\\nvalue = 11.232'),\n",
       " Text(0.4008231007961139, 0.32608695652173914, 'Weight <= 1.215\\nsquared_error = 0.0\\nsamples = 2\\nvalue = 11.212'),\n",
       " Text(0.399743624342194, 0.2826086956521739, 'squared_error = 0.0\\nsamples = 1\\nvalue = 11.219'),\n",
       " Text(0.40190257725003375, 0.2826086956521739, 'squared_error = -0.0\\nsamples = 1\\nvalue = 11.205'),\n",
       " Text(0.40298205370395357, 0.32608695652173914, 'squared_error = -0.0\\nsamples = 1\\nvalue = 11.273'),\n",
       " Text(0.40406153015787344, 0.3695652173913043, 'squared_error = -0.0\\nsamples = 1\\nvalue = 11.121'),\n",
       " Text(0.40514100661179325, 0.41304347826086957, 'squared_error = -0.0\\nsamples = 1\\nvalue = 11.551'),\n",
       " Text(0.4083794359735528, 0.45652173913043476, 'Weight <= 1.265\\nsquared_error = 0.004\\nsamples = 3\\nvalue = 11.452'),\n",
       " Text(0.407299959519633, 0.41304347826086957, 'Weight <= 1.235\\nsquared_error = 0.0\\nsamples = 2\\nvalue = 11.494'),\n",
       " Text(0.4062204830657131, 0.3695652173913043, 'squared_error = 0.0\\nsamples = 1\\nvalue = 11.509'),\n",
       " Text(0.4083794359735528, 0.3695652173913043, 'squared_error = 0.0\\nsamples = 1\\nvalue = 11.478'),\n",
       " Text(0.4094589124274727, 0.41304347826086957, 'squared_error = -0.0\\nsamples = 1\\nvalue = 11.368'),\n",
       " Text(0.4227499662663608, 0.6304347826086957, 'PPI <= 157.917\\nsquared_error = 0.03\\nsamples = 24\\nvalue = 11.486'),\n",
       " Text(0.4159357711509918, 0.5869565217391305, 'Weight <= 1.51\\nsquared_error = 0.027\\nsamples = 7\\nvalue = 11.593'),\n",
       " Text(0.4148562946970719, 0.5434782608695652, 'TouchScreen <= 0.5\\nsquared_error = 0.009\\nsamples = 5\\nvalue = 11.675'),\n",
       " Text(0.41377681824315204, 0.5, 'Company_HP <= 0.5\\nsquared_error = 0.004\\nsamples = 4\\nvalue = 11.713'),\n",
       " Text(0.41269734178923223, 0.45652173913043476, 'Weight <= 1.11\\nsquared_error = 0.002\\nsamples = 3\\nvalue = 11.744'),\n",
       " Text(0.41161786533531236, 0.41304347826086957, 'squared_error = 0.0\\nsamples = 1\\nvalue = 11.716'),\n",
       " Text(0.41377681824315204, 0.41304347826086957, 'IPS <= 0.5\\nsquared_error = 0.002\\nsamples = 2\\nvalue = 11.757'),\n",
       " Text(0.41269734178923223, 0.3695652173913043, 'squared_error = 0.0\\nsamples = 1\\nvalue = 11.716'),\n",
       " Text(0.4148562946970719, 0.3695652173913043, 'squared_error = 0.0\\nsamples = 1\\nvalue = 11.799'),\n",
       " Text(0.4148562946970719, 0.45652173913043476, 'squared_error = 0.0\\nsamples = 1\\nvalue = 11.62'),\n",
       " Text(0.4159357711509918, 0.5, 'squared_error = 0.0\\nsamples = 1\\nvalue = 11.525'),\n",
       " Text(0.4170152476049116, 0.5434782608695652, 'squared_error = 0.015\\nsamples = 2\\nvalue = 11.388'),\n",
       " Text(0.42956416138172987, 0.5869565217391305, 'Weight <= 1.355\\nsquared_error = 0.024\\nsamples = 17\\nvalue = 11.442'),\n",
       " Text(0.4248414518958305, 0.5434782608695652, 'Weight <= 1.25\\nsquared_error = 0.026\\nsamples = 12\\nvalue = 11.399'),\n",
       " Text(0.42187289164755093, 0.5, 'Weight <= 1.075\\nsquared_error = 0.023\\nsamples = 10\\nvalue = 11.434'),\n",
       " Text(0.41917420051275134, 0.45652173913043476, 'TypeName_Netbook <= 0.5\\nsquared_error = 0.014\\nsamples = 4\\nvalue = 11.333'),\n",
       " Text(0.41809472405883147, 0.41304347826086957, 'CpuName_Other Intel Processor <= 0.5\\nsquared_error = 0.001\\nsamples = 3\\nvalue = 11.268'),\n",
       " Text(0.4170152476049116, 0.3695652173913043, 'Company_Huawei <= 0.5\\nsquared_error = 0.0\\nsamples = 2\\nvalue = 11.292'),\n",
       " Text(0.4159357711509918, 0.32608695652173914, 'squared_error = 0.0\\nsamples = 1\\nvalue = 11.295'),\n",
       " Text(0.41809472405883147, 0.32608695652173914, 'squared_error = -0.0\\nsamples = 1\\nvalue = 11.288'),\n",
       " Text(0.41917420051275134, 0.3695652173913043, 'squared_error = 0.0\\nsamples = 1\\nvalue = 11.219'),\n",
       " Text(0.42025367696667115, 0.41304347826086957, 'squared_error = -0.0\\nsamples = 1\\nvalue = 11.529'),\n",
       " Text(0.4245715827823506, 0.45652173913043476, 'Weight <= 1.165\\nsquared_error = 0.018\\nsamples = 6\\nvalue = 11.502'),\n",
       " Text(0.42241262987451084, 0.41304347826086957, 'Company_Lenovo <= 0.5\\nsquared_error = 0.01\\nsamples = 3\\nvalue = 11.578'),\n",
       " Text(0.421333153420591, 0.3695652173913043, 'TouchScreen <= 0.5\\nsquared_error = 0.002\\nsamples = 2\\nvalue = 11.513'),\n",
       " Text(0.42025367696667115, 0.32608695652173914, 'squared_error = 0.0\\nsamples = 1\\nvalue = 11.561'),\n",
       " Text(0.42241262987451084, 0.32608695652173914, 'squared_error = 0.0\\nsamples = 1\\nvalue = 11.466'),\n",
       " Text(0.4234921063284307, 0.3695652173913043, 'squared_error = 0.0\\nsamples = 1\\nvalue = 11.708'),\n",
       " Text(0.42673053569019026, 0.41304347826086957, 'Company_Lenovo <= 0.5\\nsquared_error = 0.015\\nsamples = 3\\nvalue = 11.426'),\n",
       " Text(0.4256510592362704, 0.3695652173913043, 'squared_error = 0.0\\nsamples = 1\\nvalue = 11.583'),\n",
       " Text(0.42781001214411013, 0.3695652173913043, 'Weight <= 1.18\\nsquared_error = 0.003\\nsamples = 2\\nvalue = 11.347'),\n",
       " Text(0.42673053569019026, 0.32608695652173914, 'squared_error = 0.0\\nsamples = 1\\nvalue = 11.406'),\n",
       " Text(0.42888948859802994, 0.32608695652173914, 'squared_error = -0.0\\nsamples = 1\\nvalue = 11.288'),\n",
       " Text(0.42781001214411013, 0.5, 'Weight <= 1.3\\nsquared_error = 0.003\\nsamples = 2\\nvalue = 11.22'),\n",
       " Text(0.42673053569019026, 0.45652173913043476, 'squared_error = 0.0\\nsamples = 1\\nvalue = 11.277'),\n",
       " Text(0.42888948859802994, 0.45652173913043476, 'squared_error = 0.0\\nsamples = 1\\nvalue = 11.163'),\n",
       " Text(0.4342868708676292, 0.5434782608695652, 'PPI <= 193.237\\nsquared_error = 0.002\\nsamples = 5\\nvalue = 11.547'),\n",
       " Text(0.4321279179597895, 0.5, 'CpuName_Intel Core i5 <= 0.5\\nsquared_error = 0.001\\nsamples = 3\\nvalue = 11.515'),\n",
       " Text(0.43104844150586963, 0.45652173913043476, 'PPI <= 162.057\\nsquared_error = 0.001\\nsamples = 2\\nvalue = 11.53'),\n",
       " Text(0.4299689650519498, 0.41304347826086957, 'squared_error = 0.0\\nsamples = 1\\nvalue = 11.498'),\n",
       " Text(0.4321279179597895, 0.41304347826086957, 'squared_error = 0.0\\nsamples = 1\\nvalue = 11.561'),\n",
       " Text(0.43320739441370937, 0.45652173913043476, 'squared_error = -0.0\\nsamples = 1\\nvalue = 11.485'),\n",
       " Text(0.4364458237754689, 0.5, 'Company_HP <= 0.5\\nsquared_error = 0.0\\nsamples = 2\\nvalue = 11.597'),\n",
       " Text(0.43536634732154905, 0.45652173913043476, 'squared_error = 0.0\\nsamples = 1\\nvalue = 11.596'),\n",
       " Text(0.43752530022938874, 0.45652173913043476, 'squared_error = -0.0\\nsamples = 1\\nvalue = 11.597'),\n",
       " Text(0.44670085008770744, 0.717391304347826, 'CpuName_Other Intel Processor <= 0.5\\nsquared_error = 0.052\\nsamples = 10\\nvalue = 10.95'),\n",
       " Text(0.4456213736337876, 0.6739130434782609, 'SSD <= 640.0\\nsquared_error = 0.019\\nsamples = 8\\nvalue = 11.045'),\n",
       " Text(0.44454189717986775, 0.6304347826086957, 'Weight <= 1.285\\nsquared_error = 0.012\\nsamples = 7\\nvalue = 11.011'),\n",
       " Text(0.44184320604506816, 0.5869565217391305, 'Weight <= 1.175\\nsquared_error = 0.013\\nsamples = 5\\nvalue = 10.977'),\n",
       " Text(0.4396842531372284, 0.5434782608695652, 'TypeName_Ultrabook <= 0.5\\nsquared_error = 0.005\\nsamples = 2\\nvalue = 11.084'),\n",
       " Text(0.4386047766833086, 0.5, 'squared_error = 0.0\\nsamples = 1\\nvalue = 11.157'),\n",
       " Text(0.4407637295911483, 0.5, 'squared_error = 0.0\\nsamples = 1\\nvalue = 11.01'),\n",
       " Text(0.44400215895290784, 0.5434782608695652, 'TypeName_Ultrabook <= 0.5\\nsquared_error = 0.005\\nsamples = 3\\nvalue = 10.906'),\n",
       " Text(0.442922682498988, 0.5, 'squared_error = 0.0\\nsamples = 1\\nvalue = 10.809'),\n",
       " Text(0.4450816354068277, 0.5, 'squared_error = 0.001\\nsamples = 2\\nvalue = 10.954'),\n",
       " Text(0.4472405883146674, 0.5869565217391305, 'Weight <= 1.375\\nsquared_error = 0.001\\nsamples = 2\\nvalue = 11.095'),\n",
       " Text(0.44616111186074753, 0.5434782608695652, 'squared_error = 0.0\\nsamples = 1\\nvalue = 11.06'),\n",
       " Text(0.4483200647685872, 0.5434782608695652, 'squared_error = 0.0\\nsamples = 1\\nvalue = 11.13'),\n",
       " Text(0.44670085008770744, 0.6304347826086957, 'squared_error = -0.0\\nsamples = 1\\nvalue = 11.288'),\n",
       " Text(0.4477803265416273, 0.6739130434782609, 'squared_error = 0.0\\nsamples = 2\\nvalue = 10.567'),\n",
       " Text(0.5210160572122521, 0.8043478260869565, 'TypeName_Workstation <= 0.5\\nsquared_error = 0.114\\nsamples = 130\\nvalue = 11.056'),\n",
       " Text(0.4905545810282013, 0.7608695652173914, 'PPI <= 134.274\\nsquared_error = 0.073\\nsamples = 115\\nvalue = 10.982'),\n",
       " Text(0.46019430576170556, 0.717391304347826, 'TouchScreen <= 0.5\\nsquared_error = 0.053\\nsamples = 22\\nvalue = 11.193'),\n",
       " Text(0.4580353528538659, 0.6739130434782609, 'OpSys_Others <= 0.5\\nsquared_error = 0.04\\nsamples = 20\\nvalue = 11.232'),\n",
       " Text(0.456955876399946, 0.6304347826086957, 'Ram <= 10.0\\nsquared_error = 0.033\\nsamples = 19\\nvalue = 11.254'),\n",
       " Text(0.45155849413034677, 0.5869565217391305, 'SSD <= 64.0\\nsquared_error = 0.026\\nsamples = 14\\nvalue = 11.194'),\n",
       " Text(0.45047901767642695, 0.5434782608695652, 'squared_error = 0.004\\nsamples = 2\\nvalue = 10.988'),\n",
       " Text(0.45263797058426664, 0.5434782608695652, 'Company_Asus <= 0.5\\nsquared_error = 0.021\\nsamples = 12\\nvalue = 11.228'),\n",
       " Text(0.4472405883146674, 0.5, 'Weight <= 2.65\\nsquared_error = 0.015\\nsamples = 8\\nvalue = 11.171'),\n",
       " Text(0.44616111186074753, 0.45652173913043476, 'squared_error = 0.0\\nsamples = 1\\nvalue = 11.353'),\n",
       " Text(0.4483200647685872, 0.45652173913043476, 'Weight <= 2.725\\nsquared_error = 0.012\\nsamples = 7\\nvalue = 11.145'),\n",
       " Text(0.4450816354068277, 0.41304347826086957, 'CpuName_Intel Core i7 <= 0.5\\nsquared_error = 0.01\\nsamples = 4\\nvalue = 11.11'),\n",
       " Text(0.44400215895290784, 0.3695652173913043, 'squared_error = 0.0\\nsamples = 1\\nvalue = 10.974'),\n",
       " Text(0.44616111186074753, 0.3695652173913043, 'SSD <= 192.0\\nsquared_error = 0.005\\nsamples = 3\\nvalue = 11.156'),\n",
       " Text(0.4450816354068277, 0.32608695652173914, 'squared_error = 0.007\\nsamples = 2\\nvalue = 11.142'),\n",
       " Text(0.4472405883146674, 0.32608695652173914, 'squared_error = -0.0\\nsamples = 1\\nvalue = 11.183'),\n",
       " Text(0.45155849413034677, 0.41304347826086957, 'Weight <= 3.125\\nsquared_error = 0.01\\nsamples = 3\\nvalue = 11.191'),\n",
       " Text(0.45047901767642695, 0.3695652173913043, 'CpuName_Intel Core i7 <= 0.5\\nsquared_error = 0.001\\nsamples = 2\\nvalue = 11.258'),\n",
       " Text(0.4493995412225071, 0.32608695652173914, 'squared_error = 0.0\\nsamples = 1\\nvalue = 11.219'),\n",
       " Text(0.45155849413034677, 0.32608695652173914, 'squared_error = -0.0\\nsamples = 1\\nvalue = 11.296'),\n",
       " Text(0.45263797058426664, 0.3695652173913043, 'squared_error = 0.0\\nsamples = 1\\nvalue = 11.058'),\n",
       " Text(0.4580353528538659, 0.5, 'Weight <= 3.36\\nsquared_error = 0.013\\nsamples = 4\\nvalue = 11.343'),\n",
       " Text(0.456955876399946, 0.45652173913043476, 'CpuName_Intel Core i7 <= 0.5\\nsquared_error = 0.002\\nsamples = 3\\nvalue = 11.406'),\n",
       " Text(0.4558763999460262, 0.41304347826086957, 'CpuName_Intel Core i5 <= 0.5\\nsquared_error = 0.0\\nsamples = 2\\nvalue = 11.433'),\n",
       " Text(0.4547969234921063, 0.3695652173913043, 'squared_error = 0.0\\nsamples = 1\\nvalue = 11.411'),\n",
       " Text(0.456955876399946, 0.3695652173913043, 'squared_error = -0.0\\nsamples = 1\\nvalue = 11.454'),\n",
       " Text(0.4580353528538659, 0.41304347826086957, 'squared_error = 0.0\\nsamples = 1\\nvalue = 11.353'),\n",
       " Text(0.45911482930778574, 0.45652173913043476, 'squared_error = 0.0\\nsamples = 1\\nvalue = 11.155'),\n",
       " Text(0.4623532586695453, 0.5869565217391305, 'Weight <= 2.41\\nsquared_error = 0.015\\nsamples = 5\\nvalue = 11.42'),\n",
       " Text(0.4612737822156254, 0.5434782608695652, 'squared_error = 0.0\\nsamples = 1\\nvalue = 11.198'),\n",
       " Text(0.4634327351234651, 0.5434782608695652, 'SSD <= 128.0\\nsquared_error = 0.004\\nsamples = 4\\nvalue = 11.476'),\n",
       " Text(0.4623532586695453, 0.5, 'Weight <= 3.76\\nsquared_error = 0.001\\nsamples = 3\\nvalue = 11.442'),\n",
       " Text(0.4612737822156254, 0.45652173913043476, 'Weight <= 3.18\\nsquared_error = 0.0\\nsamples = 2\\nvalue = 11.456'),\n",
       " Text(0.46019430576170556, 0.41304347826086957, 'squared_error = 0.0\\nsamples = 1\\nvalue = 11.471'),\n",
       " Text(0.4623532586695453, 0.41304347826086957, 'squared_error = 0.0\\nsamples = 1\\nvalue = 11.442'),\n",
       " Text(0.4634327351234651, 0.45652173913043476, 'squared_error = -0.0\\nsamples = 1\\nvalue = 11.413'),\n",
       " Text(0.464512211577385, 0.5, 'squared_error = 0.0\\nsamples = 1\\nvalue = 11.576'),\n",
       " Text(0.45911482930778574, 0.6304347826086957, 'squared_error = -0.0\\nsamples = 1\\nvalue = 10.831'),\n",
       " Text(0.4623532586695453, 0.6739130434782609, 'HDD <= 500.0\\nsquared_error = 0.008\\nsamples = 2\\nvalue = 10.794'),\n",
       " Text(0.4612737822156254, 0.6304347826086957, 'squared_error = 0.0\\nsamples = 1\\nvalue = 10.705'),\n",
       " Text(0.4634327351234651, 0.6304347826086957, 'squared_error = -0.0\\nsamples = 1\\nvalue = 10.882'),\n",
       " Text(0.520914856294697, 0.717391304347826, 'SSD <= 384.0\\nsquared_error = 0.064\\nsamples = 93\\nvalue = 10.932'),\n",
       " Text(0.5045877749291594, 0.6739130434782609, 'CpuName_Intel Core i7 <= 0.5\\nsquared_error = 0.056\\nsamples = 89\\nvalue = 10.912'),\n",
       " Text(0.4851403319390096, 0.6304347826086957, 'SSD <= 64.0\\nsquared_error = 0.038\\nsamples = 37\\nvalue = 10.818'),\n",
       " Text(0.4726082849817838, 0.5869565217391305, 'Weight <= 2.475\\nsquared_error = 0.024\\nsamples = 10\\nvalue = 10.664'),\n",
       " Text(0.46883011739306435, 0.5434782608695652, 'Gpu_brand_Nvidia <= 0.5\\nsquared_error = 0.007\\nsamples = 6\\nvalue = 10.557'),\n",
       " Text(0.46667116448522467, 0.5, 'CpuName_Intel Core i5 <= 0.5\\nsquared_error = 0.001\\nsamples = 3\\nvalue = 10.488'),\n",
       " Text(0.4655916880313048, 0.45652173913043476, 'squared_error = 0.0\\nsamples = 1\\nvalue = 10.525'),\n",
       " Text(0.46775064093914454, 0.45652173913043476, 'TypeName_Ultrabook <= 0.5\\nsquared_error = 0.0\\nsamples = 2\\nvalue = 10.469'),\n",
       " Text(0.46667116448522467, 0.41304347826086957, 'squared_error = 0.0\\nsamples = 1\\nvalue = 10.466'),\n",
       " Text(0.46883011739306435, 0.41304347826086957, 'squared_error = 0.0\\nsamples = 1\\nvalue = 10.472'),\n",
       " Text(0.4709890703009041, 0.5, 'OpSys_Others <= 0.5\\nsquared_error = 0.004\\nsamples = 3\\nvalue = 10.627'),\n",
       " Text(0.4699095938469842, 0.45652173913043476, 'squared_error = 0.0\\nsamples = 1\\nvalue = 10.684'),\n",
       " Text(0.4720685467548239, 0.45652173913043476, 'squared_error = 0.003\\nsamples = 2\\nvalue = 10.599'),\n",
       " Text(0.4763864525705033, 0.5434782608695652, 'IPS <= 0.5\\nsquared_error = 0.007\\nsamples = 4\\nvalue = 10.824'),\n",
       " Text(0.47530697611658346, 0.5, 'Weight <= 2.605\\nsquared_error = 0.007\\nsamples = 3\\nvalue = 10.799'),\n",
       " Text(0.4742274996626636, 0.45652173913043476, 'squared_error = 0.0\\nsamples = 1\\nvalue = 10.684'),\n",
       " Text(0.4763864525705033, 0.45652173913043476, 'HDD <= 500.0\\nsquared_error = 0.001\\nsamples = 2\\nvalue = 10.857'),\n",
       " Text(0.47530697611658346, 0.41304347826086957, 'squared_error = 0.0\\nsamples = 1\\nvalue = 10.831'),\n",
       " Text(0.47746592902442314, 0.41304347826086957, 'squared_error = 0.0\\nsamples = 1\\nvalue = 10.882'),\n",
       " Text(0.47746592902442314, 0.5, 'squared_error = -0.0\\nsamples = 1\\nvalue = 10.9'),\n",
       " Text(0.49767237889623533, 0.5869565217391305, 'Company_Asus <= 0.5\\nsquared_error = 0.031\\nsamples = 27\\nvalue = 10.874'),\n",
       " Text(0.49659290244231546, 0.5434782608695652, 'Company_MSI <= 0.5\\nsquared_error = 0.022\\nsamples = 26\\nvalue = 10.855'),\n",
       " Text(0.4898124409661314, 0.5, 'Company_Dell <= 0.5\\nsquared_error = 0.022\\nsamples = 21\\nvalue = 10.829'),\n",
       " Text(0.4827283767372824, 0.45652173913043476, 'Weight <= 1.65\\nsquared_error = 0.015\\nsamples = 12\\nvalue = 10.756'),\n",
       " Text(0.4796248819322628, 0.41304347826086957, 'PPI <= 161.491\\nsquared_error = 0.024\\nsamples = 3\\nvalue = 10.672'),\n",
       " Text(0.478545405478343, 0.3695652173913043, 'squared_error = 0.0\\nsamples = 1\\nvalue = 10.622'),\n",
       " Text(0.4807043583861827, 0.3695652173913043, 'squared_error = 0.035\\nsamples = 2\\nvalue = 10.697'),\n",
       " Text(0.485831871542302, 0.41304347826086957, 'IPS <= 0.5\\nsquared_error = 0.008\\nsamples = 9\\nvalue = 10.784'),\n",
       " Text(0.4828633112940224, 0.3695652173913043, 'PPI <= 149.281\\nsquared_error = 0.0\\nsamples = 2\\nvalue = 10.862'),\n",
       " Text(0.48178383484010256, 0.32608695652173914, 'squared_error = 0.0\\nsamples = 1\\nvalue = 10.841'),\n",
       " Text(0.48394278774794225, 0.32608695652173914, 'squared_error = -0.0\\nsamples = 1\\nvalue = 10.882'),\n",
       " Text(0.4888004317905816, 0.3695652173913043, 'HDD <= 500.0\\nsquared_error = 0.008\\nsamples = 7\\nvalue = 10.762'),\n",
       " Text(0.48610174065578193, 0.32608695652173914, 'Gpu_brand_Nvidia <= 0.5\\nsquared_error = 0.004\\nsamples = 4\\nvalue = 10.726'),\n",
       " Text(0.48394278774794225, 0.2826086956521739, 'TypeName_Ultrabook <= 0.5\\nsquared_error = 0.0\\nsamples = 2\\nvalue = 10.788'),\n",
       " Text(0.4828633112940224, 0.2391304347826087, 'squared_error = 0.0\\nsamples = 1\\nvalue = 10.777'),\n",
       " Text(0.4850222642018621, 0.2391304347826087, 'squared_error = -0.0\\nsamples = 1\\nvalue = 10.799'),\n",
       " Text(0.4882606935636216, 0.2826086956521739, 'OpSys_Others <= 0.5\\nsquared_error = 0.001\\nsamples = 2\\nvalue = 10.665'),\n",
       " Text(0.4871812171097018, 0.2391304347826087, 'squared_error = 0.0\\nsamples = 1\\nvalue = 10.696'),\n",
       " Text(0.4893401700175415, 0.2391304347826087, 'squared_error = 0.0\\nsamples = 1\\nvalue = 10.634'),\n",
       " Text(0.49149912292538117, 0.32608695652173914, 'Weight <= 2.45\\nsquared_error = 0.009\\nsamples = 3\\nvalue = 10.809'),\n",
       " Text(0.49041964647146136, 0.2826086956521739, 'squared_error = 0.01\\nsamples = 2\\nvalue = 10.772'),\n",
       " Text(0.49257859937930104, 0.2826086956521739, 'squared_error = 0.0\\nsamples = 1\\nvalue = 10.882'),\n",
       " Text(0.4968965051949804, 0.45652173913043476, 'Weight <= 1.61\\nsquared_error = 0.016\\nsamples = 9\\nvalue = 10.926'),\n",
       " Text(0.4947375522871407, 0.41304347826086957, 'IPS <= 0.5\\nsquared_error = 0.0\\nsamples = 2\\nvalue = 11.044'),\n",
       " Text(0.4936580758332209, 0.3695652173913043, 'squared_error = 0.0\\nsamples = 1\\nvalue = 11.022'),\n",
       " Text(0.4958170287410606, 0.3695652173913043, 'squared_error = 0.0\\nsamples = 1\\nvalue = 11.065'),\n",
       " Text(0.49905545810282015, 0.41304347826086957, 'PPI <= 153.422\\nsquared_error = 0.015\\nsamples = 7\\nvalue = 10.892'),\n",
       " Text(0.4979759816489003, 0.3695652173913043, 'Weight <= 2.635\\nsquared_error = 0.009\\nsamples = 6\\nvalue = 10.927'),\n",
       " Text(0.4968965051949804, 0.32608695652173914, 'IPS <= 0.5\\nsquared_error = 0.007\\nsamples = 5\\nvalue = 10.9'),\n",
       " Text(0.4947375522871407, 0.2826086956521739, 'Weight <= 2.59\\nsquared_error = 0.003\\nsamples = 2\\nvalue = 10.811'),\n",
       " Text(0.4936580758332209, 0.2391304347826087, 'squared_error = 0.0\\nsamples = 1\\nvalue = 10.754'),\n",
       " Text(0.4958170287410606, 0.2391304347826087, 'squared_error = 0.0\\nsamples = 1\\nvalue = 10.868'),\n",
       " Text(0.49905545810282015, 0.2826086956521739, 'SSD <= 192.0\\nsquared_error = 0.0\\nsamples = 3\\nvalue = 10.96'),\n",
       " Text(0.4979759816489003, 0.2391304347826087, 'squared_error = 0.0\\nsamples = 1\\nvalue = 10.931'),\n",
       " Text(0.50013493455674, 0.2391304347826087, 'TypeName_Ultrabook <= 0.5\\nsquared_error = 0.0\\nsamples = 2\\nvalue = 10.974'),\n",
       " Text(0.49905545810282015, 0.1956521739130435, 'squared_error = 0.0\\nsamples = 1\\nvalue = 10.973'),\n",
       " Text(0.5012144110106598, 0.1956521739130435, 'squared_error = -0.0\\nsamples = 1\\nvalue = 10.975'),\n",
       " Text(0.49905545810282015, 0.32608695652173914, 'squared_error = -0.0\\nsamples = 1\\nvalue = 11.061'),\n",
       " Text(0.50013493455674, 0.3695652173913043, 'squared_error = -0.0\\nsamples = 1\\nvalue = 10.684'),\n",
       " Text(0.5033733639184995, 0.5, 'Weight <= 2.3\\nsquared_error = 0.004\\nsamples = 5\\nvalue = 10.964'),\n",
       " Text(0.5022938874645797, 0.45652173913043476, 'SSD <= 192.0\\nsquared_error = 0.002\\nsamples = 4\\nvalue = 10.939'),\n",
       " Text(0.5012144110106598, 0.41304347826086957, 'squared_error = 0.0\\nsamples = 2\\nvalue = 10.983'),\n",
       " Text(0.5033733639184995, 0.41304347826086957, 'squared_error = 0.0\\nsamples = 2\\nvalue = 10.896'),\n",
       " Text(0.5044528403724193, 0.45652173913043476, 'squared_error = 0.0\\nsamples = 1\\nvalue = 11.065'),\n",
       " Text(0.49875185535015515, 0.5434782608695652, 'squared_error = -0.0\\nsamples = 1\\nvalue = 11.383'),\n",
       " Text(0.5240352179193092, 0.6304347826086957, 'Company_Lenovo <= 0.5\\nsquared_error = 0.059\\nsamples = 52\\nvalue = 10.979'),\n",
       " Text(0.5162258804479827, 0.5869565217391305, 'TouchScreen <= 0.5\\nsquared_error = 0.06\\nsamples = 41\\nvalue = 10.943'),\n",
       " Text(0.5119417082714883, 0.5434782608695652, 'PPI <= 166.792\\nsquared_error = 0.06\\nsamples = 33\\nvalue = 10.983'),\n",
       " Text(0.5108622318175685, 0.5, 'Weight <= 1.86\\nsquared_error = 0.056\\nsamples = 32\\nvalue = 10.97'),\n",
       " Text(0.5076912697341789, 0.45652173913043476, 'Weight <= 1.765\\nsquared_error = 0.032\\nsamples = 5\\nvalue = 10.759'),\n",
       " Text(0.5055323168263393, 0.41304347826086957, 'IPS <= 0.5\\nsquared_error = 0.009\\nsamples = 3\\nvalue = 10.89'),\n",
       " ...]"
      ]
     },
     "execution_count": 32,
     "metadata": {},
     "output_type": "execute_result"
    },
    {
     "data": {
      "image/png": "[encoded data removed]",
      "text/plain": [
       "<Figure size 1152x648 with 1 Axes>"
      ]
     },
     "metadata": {
      "needs_background": "light"
     },
     "output_type": "display_data"
    }
   ],
   "source": [
    "# fitting the decision tree regression\n",
    "regressor = DecisionTreeRegressor(random_state=0)\n",
    "regressor.fit(x_train,y_train)\n",
    "# now lets see the tree.\n",
    "plt.figure(figsize=(16,9))\n",
    "tree.plot_tree(regressor,filled=True,feature_names=x.columns)"
   ]
  },
  {
   "cell_type": "code",
   "execution_count": 33,
   "id": "215f53d8",
   "metadata": {},
   "outputs": [],
   "source": [
    "# need to chop them off."
   ]
  },
  {
   "cell_type": "raw",
   "id": "ebe436eb",
   "metadata": {},
   "source": [
    "# this is such a large tree,with leaf nodes, it may result in overfitting.\n",
    "# we didn't provide the parameters, so it took lot of time.\n",
    "overfitting case: if it classify yes with 100% accuracy, but for new data having no as result it will give yes(so basically failed to predict)\n",
    "we must prune them.( allowing some kind of misclassification.)"
   ]
  },
  {
   "cell_type": "markdown",
   "id": "448f3ccb",
   "metadata": {},
   "source": [
    "# pruning:"
   ]
  },
  {
   "cell_type": "code",
   "execution_count": 34,
   "id": "f30a92c2",
   "metadata": {},
   "outputs": [],
   "source": [
    "# performing cost complexity pruning (ccp)\n",
    "path = regressor.cost_complexity_pruning_path(x_train,y_train)\n",
    "ccp_alphas = path.ccp_alphas"
   ]
  },
  {
   "cell_type": "raw",
   "id": "8f25a9fa",
   "metadata": {},
   "source": [
    "regressor.cost_complexity_pruning_path(x_train, y_train) computes the pruning path for a decision tree regressor using data provided.\n",
    "path.ccp_alphas retrieves the array of alpha values from the pruning path. these alpha values represent diff level of pruning strength."
   ]
  },
  {
   "cell_type": "code",
   "execution_count": 35,
   "id": "2546dcc5",
   "metadata": {},
   "outputs": [],
   "source": [
    "alphalist = []\n",
    "for alpha in ccp_alphas:\n",
    "    regressor = DecisionTreeRegressor(random_state=0,ccp_alpha=alpha)\n",
    "    regressor.fit(x_train,y_train)\n",
    "    alphalist.append(regressor)"
   ]
  },
  {
   "cell_type": "raw",
   "id": "6c367e9b",
   "metadata": {},
   "source": [
    "# the alphalist contains a series of decision tree reg models, each corresponding to diff alpha value \n",
    "and each having different level of pruning."
   ]
  },
  {
   "cell_type": "code",
   "execution_count": 36,
   "id": "48078586",
   "metadata": {},
   "outputs": [
    {
     "data": {
      "text/plain": [
       "[DecisionTreeRegressor(random_state=0),\n",
       " DecisionTreeRegressor(ccp_alpha=1.6703536283691324e-16, random_state=0),\n",
       " DecisionTreeRegressor(ccp_alpha=2.0138040321099547e-12, random_state=0),\n",
       " DecisionTreeRegressor(ccp_alpha=1.2592140711697607e-11, random_state=0),\n",
       " DecisionTreeRegressor(ccp_alpha=1.3965826686794316e-11, random_state=0),\n",
       " DecisionTreeRegressor(ccp_alpha=1.8159377959555668e-11, random_state=0),\n",
       " DecisionTreeRegressor(ccp_alpha=1.0857809969587123e-10, random_state=0),\n",
       " DecisionTreeRegressor(ccp_alpha=1.9041331099769524e-10, random_state=0),\n",
       " DecisionTreeRegressor(ccp_alpha=3.5205286626453813e-10, random_state=0),\n",
       " DecisionTreeRegressor(ccp_alpha=4.910491976873067e-10, random_state=0),\n",
       " DecisionTreeRegressor(ccp_alpha=5.341511312024845e-10, random_state=0),\n",
       " DecisionTreeRegressor(ccp_alpha=1.6726438373801154e-09, random_state=0),\n",
       " DecisionTreeRegressor(ccp_alpha=1.7588587672910401e-09, random_state=0),\n",
       " DecisionTreeRegressor(ccp_alpha=2.0684831095301145e-09, random_state=0),\n",
       " DecisionTreeRegressor(ccp_alpha=2.621651627955552e-09, random_state=0),\n",
       " DecisionTreeRegressor(ccp_alpha=3.722287516593069e-09, random_state=0),\n",
       " DecisionTreeRegressor(ccp_alpha=3.855088429314972e-09, random_state=0),\n",
       " DecisionTreeRegressor(ccp_alpha=4.841534678090986e-09, random_state=0),\n",
       " DecisionTreeRegressor(ccp_alpha=5.073726115957901e-09, random_state=0),\n",
       " DecisionTreeRegressor(ccp_alpha=5.498052716738151e-09, random_state=0),\n",
       " DecisionTreeRegressor(ccp_alpha=6.036703986197447e-09, random_state=0),\n",
       " DecisionTreeRegressor(ccp_alpha=6.7237402208117305e-09, random_state=0),\n",
       " DecisionTreeRegressor(ccp_alpha=6.970940017309275e-09, random_state=0),\n",
       " DecisionTreeRegressor(ccp_alpha=8.291678197975008e-09, random_state=0),\n",
       " DecisionTreeRegressor(ccp_alpha=9.24814095667838e-09, random_state=0),\n",
       " DecisionTreeRegressor(ccp_alpha=1.052684030681986e-08, random_state=0),\n",
       " DecisionTreeRegressor(ccp_alpha=1.0774951846572138e-08, random_state=0),\n",
       " DecisionTreeRegressor(ccp_alpha=1.2753188961779985e-08, random_state=0),\n",
       " DecisionTreeRegressor(ccp_alpha=1.5960599544839445e-08, random_state=0),\n",
       " DecisionTreeRegressor(ccp_alpha=1.6555206003344355e-08, random_state=0),\n",
       " DecisionTreeRegressor(ccp_alpha=1.6877072071801646e-08, random_state=0),\n",
       " DecisionTreeRegressor(ccp_alpha=1.8399188137299053e-08, random_state=0),\n",
       " DecisionTreeRegressor(ccp_alpha=2.0257299201547923e-08, random_state=0),\n",
       " DecisionTreeRegressor(ccp_alpha=2.0294950437103006e-08, random_state=0),\n",
       " DecisionTreeRegressor(ccp_alpha=2.3981571702148575e-08, random_state=0),\n",
       " DecisionTreeRegressor(ccp_alpha=2.416683253755323e-08, random_state=0),\n",
       " DecisionTreeRegressor(ccp_alpha=2.6292618066272467e-08, random_state=0),\n",
       " DecisionTreeRegressor(ccp_alpha=3.026101422727967e-08, random_state=0),\n",
       " DecisionTreeRegressor(ccp_alpha=3.035372053685414e-08, random_state=0),\n",
       " DecisionTreeRegressor(ccp_alpha=3.3267094838958843e-08, random_state=0),\n",
       " DecisionTreeRegressor(ccp_alpha=3.366071428823027e-08, random_state=0),\n",
       " DecisionTreeRegressor(ccp_alpha=3.584768413797045e-08, random_state=0),\n",
       " DecisionTreeRegressor(ccp_alpha=3.607218576883844e-08, random_state=0),\n",
       " DecisionTreeRegressor(ccp_alpha=3.9044272037312274e-08, random_state=0),\n",
       " DecisionTreeRegressor(ccp_alpha=4.0028262255933034e-08, random_state=0),\n",
       " DecisionTreeRegressor(ccp_alpha=4.6033599885561937e-08, random_state=0),\n",
       " DecisionTreeRegressor(ccp_alpha=4.748796685760329e-08, random_state=0),\n",
       " DecisionTreeRegressor(ccp_alpha=4.867858729167361e-08, random_state=0),\n",
       " DecisionTreeRegressor(ccp_alpha=4.8691035653484526e-08, random_state=0),\n",
       " DecisionTreeRegressor(ccp_alpha=5.0893264363504384e-08, random_state=0),\n",
       " DecisionTreeRegressor(ccp_alpha=5.1164338370225716e-08, random_state=0),\n",
       " DecisionTreeRegressor(ccp_alpha=5.233309075302429e-08, random_state=0),\n",
       " DecisionTreeRegressor(ccp_alpha=5.372710120560478e-08, random_state=0),\n",
       " DecisionTreeRegressor(ccp_alpha=5.426306942457127e-08, random_state=0),\n",
       " DecisionTreeRegressor(ccp_alpha=5.537309046490231e-08, random_state=0),\n",
       " DecisionTreeRegressor(ccp_alpha=5.565201587891166e-08, random_state=0),\n",
       " DecisionTreeRegressor(ccp_alpha=5.656514398529253e-08, random_state=0),\n",
       " DecisionTreeRegressor(ccp_alpha=5.7852164150638517e-08, random_state=0),\n",
       " DecisionTreeRegressor(ccp_alpha=6.354691683692998e-08, random_state=0),\n",
       " DecisionTreeRegressor(ccp_alpha=7.005425483028007e-08, random_state=0),\n",
       " DecisionTreeRegressor(ccp_alpha=7.057058429048003e-08, random_state=0),\n",
       " DecisionTreeRegressor(ccp_alpha=7.15306338123782e-08, random_state=0),\n",
       " DecisionTreeRegressor(ccp_alpha=7.213428099565228e-08, random_state=0),\n",
       " DecisionTreeRegressor(ccp_alpha=7.770183117783817e-08, random_state=0),\n",
       " DecisionTreeRegressor(ccp_alpha=8.156400320427371e-08, random_state=0),\n",
       " DecisionTreeRegressor(ccp_alpha=9.021657613125855e-08, random_state=0),\n",
       " DecisionTreeRegressor(ccp_alpha=9.09601582048103e-08, random_state=0),\n",
       " DecisionTreeRegressor(ccp_alpha=9.373146054050493e-08, random_state=0),\n",
       " DecisionTreeRegressor(ccp_alpha=9.691455073618871e-08, random_state=0),\n",
       " DecisionTreeRegressor(ccp_alpha=1.0167549383264967e-07, random_state=0),\n",
       " DecisionTreeRegressor(ccp_alpha=1.087627640479952e-07, random_state=0),\n",
       " DecisionTreeRegressor(ccp_alpha=1.0900855825476335e-07, random_state=0),\n",
       " DecisionTreeRegressor(ccp_alpha=1.0922838929421118e-07, random_state=0),\n",
       " DecisionTreeRegressor(ccp_alpha=1.0974280100856154e-07, random_state=0),\n",
       " DecisionTreeRegressor(ccp_alpha=1.13009402037214e-07, random_state=0),\n",
       " DecisionTreeRegressor(ccp_alpha=1.1415087013146087e-07, random_state=0),\n",
       " DecisionTreeRegressor(ccp_alpha=1.325593625624828e-07, random_state=0),\n",
       " DecisionTreeRegressor(ccp_alpha=1.3456273321891034e-07, random_state=0),\n",
       " DecisionTreeRegressor(ccp_alpha=1.4331132836440197e-07, random_state=0),\n",
       " DecisionTreeRegressor(ccp_alpha=1.5019993566200563e-07, random_state=0),\n",
       " DecisionTreeRegressor(ccp_alpha=1.531360418965784e-07, random_state=0),\n",
       " DecisionTreeRegressor(ccp_alpha=1.5408211284570506e-07, random_state=0),\n",
       " DecisionTreeRegressor(ccp_alpha=1.5478772604668796e-07, random_state=0),\n",
       " DecisionTreeRegressor(ccp_alpha=1.562809411526009e-07, random_state=0),\n",
       " DecisionTreeRegressor(ccp_alpha=1.5878069494695734e-07, random_state=0),\n",
       " DecisionTreeRegressor(ccp_alpha=1.6328338630074357e-07, random_state=0),\n",
       " DecisionTreeRegressor(ccp_alpha=1.6333756652062765e-07, random_state=0),\n",
       " DecisionTreeRegressor(ccp_alpha=1.6442098511075203e-07, random_state=0),\n",
       " DecisionTreeRegressor(ccp_alpha=1.715739714963969e-07, random_state=0),\n",
       " DecisionTreeRegressor(ccp_alpha=1.7667504142973994e-07, random_state=0),\n",
       " DecisionTreeRegressor(ccp_alpha=1.7753134373306634e-07, random_state=0),\n",
       " DecisionTreeRegressor(ccp_alpha=1.788509964023045e-07, random_state=0),\n",
       " DecisionTreeRegressor(ccp_alpha=1.8105493068471654e-07, random_state=0),\n",
       " DecisionTreeRegressor(ccp_alpha=1.8531684823375073e-07, random_state=0),\n",
       " DecisionTreeRegressor(ccp_alpha=1.8563832782092504e-07, random_state=0),\n",
       " DecisionTreeRegressor(ccp_alpha=1.8831759891403715e-07, random_state=0),\n",
       " DecisionTreeRegressor(ccp_alpha=1.9511656600318167e-07, random_state=0),\n",
       " DecisionTreeRegressor(ccp_alpha=1.9625127913596245e-07, random_state=0),\n",
       " DecisionTreeRegressor(ccp_alpha=1.964098499046943e-07, random_state=0),\n",
       " DecisionTreeRegressor(ccp_alpha=2.0413999067570403e-07, random_state=0),\n",
       " DecisionTreeRegressor(ccp_alpha=2.0560534775229208e-07, random_state=0),\n",
       " DecisionTreeRegressor(ccp_alpha=2.1041243373814194e-07, random_state=0),\n",
       " DecisionTreeRegressor(ccp_alpha=2.1126667447817132e-07, random_state=0),\n",
       " DecisionTreeRegressor(ccp_alpha=2.1886793690497787e-07, random_state=0),\n",
       " DecisionTreeRegressor(ccp_alpha=2.347620380143672e-07, random_state=0),\n",
       " DecisionTreeRegressor(ccp_alpha=2.3711157659855134e-07, random_state=0),\n",
       " DecisionTreeRegressor(ccp_alpha=2.42013415475488e-07, random_state=0),\n",
       " DecisionTreeRegressor(ccp_alpha=2.4316193346425885e-07, random_state=0),\n",
       " DecisionTreeRegressor(ccp_alpha=2.514749865737191e-07, random_state=0),\n",
       " DecisionTreeRegressor(ccp_alpha=2.705122887676904e-07, random_state=0),\n",
       " DecisionTreeRegressor(ccp_alpha=2.7627603728653696e-07, random_state=0),\n",
       " DecisionTreeRegressor(ccp_alpha=2.7676587601749793e-07, random_state=0),\n",
       " DecisionTreeRegressor(ccp_alpha=2.812340787575894e-07, random_state=0),\n",
       " DecisionTreeRegressor(ccp_alpha=2.931435976066951e-07, random_state=0),\n",
       " DecisionTreeRegressor(ccp_alpha=2.971681786689186e-07, random_state=0),\n",
       " DecisionTreeRegressor(ccp_alpha=3.0524650284207063e-07, random_state=0),\n",
       " DecisionTreeRegressor(ccp_alpha=3.347755938585425e-07, random_state=0),\n",
       " DecisionTreeRegressor(ccp_alpha=3.3480244938016834e-07, random_state=0),\n",
       " DecisionTreeRegressor(ccp_alpha=3.44603646029307e-07, random_state=0),\n",
       " DecisionTreeRegressor(ccp_alpha=3.451436680166515e-07, random_state=0),\n",
       " DecisionTreeRegressor(ccp_alpha=3.4552113901384734e-07, random_state=0),\n",
       " DecisionTreeRegressor(ccp_alpha=3.498934306910433e-07, random_state=0),\n",
       " DecisionTreeRegressor(ccp_alpha=3.5101199161987495e-07, random_state=0),\n",
       " DecisionTreeRegressor(ccp_alpha=3.552945888535165e-07, random_state=0),\n",
       " DecisionTreeRegressor(ccp_alpha=3.5917422201154826e-07, random_state=0),\n",
       " DecisionTreeRegressor(ccp_alpha=3.6685562307147634e-07, random_state=0),\n",
       " DecisionTreeRegressor(ccp_alpha=3.883361323856895e-07, random_state=0),\n",
       " DecisionTreeRegressor(ccp_alpha=3.890640110407681e-07, random_state=0),\n",
       " DecisionTreeRegressor(ccp_alpha=3.950505008433408e-07, random_state=0),\n",
       " DecisionTreeRegressor(ccp_alpha=3.99723603781508e-07, random_state=0),\n",
       " DecisionTreeRegressor(ccp_alpha=4.019746965026186e-07, random_state=0),\n",
       " DecisionTreeRegressor(ccp_alpha=4.183601734023748e-07, random_state=0),\n",
       " DecisionTreeRegressor(ccp_alpha=4.251159906702529e-07, random_state=0),\n",
       " DecisionTreeRegressor(ccp_alpha=4.4260121150265937e-07, random_state=0),\n",
       " DecisionTreeRegressor(ccp_alpha=4.55189621518074e-07, random_state=0),\n",
       " DecisionTreeRegressor(ccp_alpha=4.7560900227615713e-07, random_state=0),\n",
       " DecisionTreeRegressor(ccp_alpha=5.01415827310749e-07, random_state=0),\n",
       " DecisionTreeRegressor(ccp_alpha=5.411673887232105e-07, random_state=0),\n",
       " DecisionTreeRegressor(ccp_alpha=5.576836334840446e-07, random_state=0),\n",
       " DecisionTreeRegressor(ccp_alpha=6.214289185754875e-07, random_state=0),\n",
       " DecisionTreeRegressor(ccp_alpha=6.373339333000762e-07, random_state=0),\n",
       " DecisionTreeRegressor(ccp_alpha=6.3767377733324e-07, random_state=0),\n",
       " DecisionTreeRegressor(ccp_alpha=6.490511244715886e-07, random_state=0),\n",
       " DecisionTreeRegressor(ccp_alpha=6.501413764270111e-07, random_state=0),\n",
       " DecisionTreeRegressor(ccp_alpha=6.547747600262487e-07, random_state=0),\n",
       " DecisionTreeRegressor(ccp_alpha=6.692293670822465e-07, random_state=0),\n",
       " DecisionTreeRegressor(ccp_alpha=6.981537502537392e-07, random_state=0),\n",
       " DecisionTreeRegressor(ccp_alpha=6.981537503051347e-07, random_state=0),\n",
       " DecisionTreeRegressor(ccp_alpha=7.368963585201345e-07, random_state=0),\n",
       " DecisionTreeRegressor(ccp_alpha=7.53361318477761e-07, random_state=0),\n",
       " DecisionTreeRegressor(ccp_alpha=7.549015756758168e-07, random_state=0),\n",
       " DecisionTreeRegressor(ccp_alpha=7.595507980435678e-07, random_state=0),\n",
       " DecisionTreeRegressor(ccp_alpha=7.714040387857249e-07, random_state=0),\n",
       " DecisionTreeRegressor(ccp_alpha=7.958762389620283e-07, random_state=0),\n",
       " DecisionTreeRegressor(ccp_alpha=8.132379707819693e-07, random_state=0),\n",
       " DecisionTreeRegressor(ccp_alpha=8.202571214451217e-07, random_state=0),\n",
       " DecisionTreeRegressor(ccp_alpha=8.276450811141128e-07, random_state=0),\n",
       " DecisionTreeRegressor(ccp_alpha=8.474744070759323e-07, random_state=0),\n",
       " DecisionTreeRegressor(ccp_alpha=8.474744070759323e-07, random_state=0),\n",
       " DecisionTreeRegressor(ccp_alpha=8.489442632628672e-07, random_state=0),\n",
       " DecisionTreeRegressor(ccp_alpha=9.033028911772376e-07, random_state=0),\n",
       " DecisionTreeRegressor(ccp_alpha=9.191579921377259e-07, random_state=0),\n",
       " DecisionTreeRegressor(ccp_alpha=9.350161651226652e-07, random_state=0),\n",
       " DecisionTreeRegressor(ccp_alpha=9.386335957148293e-07, random_state=0),\n",
       " DecisionTreeRegressor(ccp_alpha=9.444014185602465e-07, random_state=0),\n",
       " DecisionTreeRegressor(ccp_alpha=9.603933829005162e-07, random_state=0),\n",
       " DecisionTreeRegressor(ccp_alpha=9.736724521604146e-07, random_state=0),\n",
       " DecisionTreeRegressor(ccp_alpha=9.826424790195387e-07, random_state=0),\n",
       " DecisionTreeRegressor(ccp_alpha=1.0077514834254432e-06, random_state=0),\n",
       " DecisionTreeRegressor(ccp_alpha=1.0518237202237907e-06, random_state=0),\n",
       " DecisionTreeRegressor(ccp_alpha=1.0624428865777596e-06, random_state=0),\n",
       " DecisionTreeRegressor(ccp_alpha=1.0649877113313372e-06, random_state=0),\n",
       " DecisionTreeRegressor(ccp_alpha=1.0674667380030432e-06, random_state=0),\n",
       " DecisionTreeRegressor(ccp_alpha=1.0825459990464063e-06, random_state=0),\n",
       " DecisionTreeRegressor(ccp_alpha=1.1073528608681021e-06, random_state=0),\n",
       " DecisionTreeRegressor(ccp_alpha=1.113987987274215e-06, random_state=0),\n",
       " DecisionTreeRegressor(ccp_alpha=1.1170303504336968e-06, random_state=0),\n",
       " DecisionTreeRegressor(ccp_alpha=1.1195988990913586e-06, random_state=0),\n",
       " DecisionTreeRegressor(ccp_alpha=1.1240874200643835e-06, random_state=0),\n",
       " DecisionTreeRegressor(ccp_alpha=1.129827069260732e-06, random_state=0),\n",
       " DecisionTreeRegressor(ccp_alpha=1.1857571467238497e-06, random_state=0),\n",
       " DecisionTreeRegressor(ccp_alpha=1.1918669375341625e-06, random_state=0),\n",
       " DecisionTreeRegressor(ccp_alpha=1.196367397179861e-06, random_state=0),\n",
       " DecisionTreeRegressor(ccp_alpha=1.2094194561304747e-06, random_state=0),\n",
       " DecisionTreeRegressor(ccp_alpha=1.2475590194146256e-06, random_state=0),\n",
       " DecisionTreeRegressor(ccp_alpha=1.2591404406883687e-06, random_state=0),\n",
       " DecisionTreeRegressor(ccp_alpha=1.2594997166605455e-06, random_state=0),\n",
       " DecisionTreeRegressor(ccp_alpha=1.2605270792622072e-06, random_state=0),\n",
       " DecisionTreeRegressor(ccp_alpha=1.3081266684004475e-06, random_state=0),\n",
       " DecisionTreeRegressor(ccp_alpha=1.3565333880361465e-06, random_state=0),\n",
       " DecisionTreeRegressor(ccp_alpha=1.39713466563752e-06, random_state=0),\n",
       " DecisionTreeRegressor(ccp_alpha=1.4428151533827905e-06, random_state=0),\n",
       " DecisionTreeRegressor(ccp_alpha=1.4702495534284545e-06, random_state=0),\n",
       " DecisionTreeRegressor(ccp_alpha=1.4965356299273587e-06, random_state=0),\n",
       " DecisionTreeRegressor(ccp_alpha=1.5120483554851547e-06, random_state=0),\n",
       " DecisionTreeRegressor(ccp_alpha=1.5409119210810385e-06, random_state=0),\n",
       " DecisionTreeRegressor(ccp_alpha=1.5744450409359572e-06, random_state=0),\n",
       " DecisionTreeRegressor(ccp_alpha=1.6985512248985044e-06, random_state=0),\n",
       " DecisionTreeRegressor(ccp_alpha=1.7143780887107896e-06, random_state=0),\n",
       " DecisionTreeRegressor(ccp_alpha=1.7379803783669426e-06, random_state=0),\n",
       " DecisionTreeRegressor(ccp_alpha=1.7495358388075779e-06, random_state=0),\n",
       " DecisionTreeRegressor(ccp_alpha=1.7502400217875376e-06, random_state=0),\n",
       " DecisionTreeRegressor(ccp_alpha=1.7550742919563616e-06, random_state=0),\n",
       " DecisionTreeRegressor(ccp_alpha=1.7840387861261625e-06, random_state=0),\n",
       " DecisionTreeRegressor(ccp_alpha=1.8023450880311009e-06, random_state=0),\n",
       " DecisionTreeRegressor(ccp_alpha=1.84246838488326e-06, random_state=0),\n",
       " DecisionTreeRegressor(ccp_alpha=1.8836500625598314e-06, random_state=0),\n",
       " DecisionTreeRegressor(ccp_alpha=1.8923975833081714e-06, random_state=0),\n",
       " DecisionTreeRegressor(ccp_alpha=1.9055372926520578e-06, random_state=0),\n",
       " DecisionTreeRegressor(ccp_alpha=1.910947603196016e-06, random_state=0),\n",
       " DecisionTreeRegressor(ccp_alpha=1.937663374773715e-06, random_state=0),\n",
       " DecisionTreeRegressor(ccp_alpha=1.9549183067781305e-06, random_state=0),\n",
       " DecisionTreeRegressor(ccp_alpha=1.9673969177552897e-06, random_state=0),\n",
       " DecisionTreeRegressor(ccp_alpha=1.9684825456193674e-06, random_state=0),\n",
       " DecisionTreeRegressor(ccp_alpha=2.0756521036084194e-06, random_state=0),\n",
       " DecisionTreeRegressor(ccp_alpha=2.0799627056697724e-06, random_state=0),\n",
       " DecisionTreeRegressor(ccp_alpha=2.08569656571597e-06, random_state=0),\n",
       " DecisionTreeRegressor(ccp_alpha=2.097135865576555e-06, random_state=0),\n",
       " DecisionTreeRegressor(ccp_alpha=2.1749871689141785e-06, random_state=0),\n",
       " DecisionTreeRegressor(ccp_alpha=2.2250635949676114e-06, random_state=0),\n",
       " DecisionTreeRegressor(ccp_alpha=2.2386327310287088e-06, random_state=0),\n",
       " DecisionTreeRegressor(ccp_alpha=2.239874387100621e-06, random_state=0),\n",
       " DecisionTreeRegressor(ccp_alpha=2.2438403323260516e-06, random_state=0),\n",
       " DecisionTreeRegressor(ccp_alpha=2.2607467901968427e-06, random_state=0),\n",
       " DecisionTreeRegressor(ccp_alpha=2.276491478765231e-06, random_state=0),\n",
       " DecisionTreeRegressor(ccp_alpha=2.2848822740643108e-06, random_state=0),\n",
       " DecisionTreeRegressor(ccp_alpha=2.3405441957441356e-06, random_state=0),\n",
       " DecisionTreeRegressor(ccp_alpha=2.359550890236883e-06, random_state=0),\n",
       " DecisionTreeRegressor(ccp_alpha=2.3654001469333233e-06, random_state=0),\n",
       " DecisionTreeRegressor(ccp_alpha=2.4147840211288207e-06, random_state=0),\n",
       " DecisionTreeRegressor(ccp_alpha=2.4865028653127385e-06, random_state=0),\n",
       " DecisionTreeRegressor(ccp_alpha=2.507352061235193e-06, random_state=0),\n",
       " DecisionTreeRegressor(ccp_alpha=2.6038500435464594e-06, random_state=0),\n",
       " DecisionTreeRegressor(ccp_alpha=2.607371687774049e-06, random_state=0),\n",
       " DecisionTreeRegressor(ccp_alpha=2.6552527636850985e-06, random_state=0),\n",
       " DecisionTreeRegressor(ccp_alpha=2.6670462562891336e-06, random_state=0),\n",
       " DecisionTreeRegressor(ccp_alpha=2.6692381582691256e-06, random_state=0),\n",
       " DecisionTreeRegressor(ccp_alpha=2.6901162097689413e-06, random_state=0),\n",
       " DecisionTreeRegressor(ccp_alpha=2.6982661090704772e-06, random_state=0),\n",
       " DecisionTreeRegressor(ccp_alpha=2.70300182674342e-06, random_state=0),\n",
       " DecisionTreeRegressor(ccp_alpha=2.706421461447015e-06, random_state=0),\n",
       " DecisionTreeRegressor(ccp_alpha=2.718529730149344e-06, random_state=0),\n",
       " DecisionTreeRegressor(ccp_alpha=2.7311979269828603e-06, random_state=0),\n",
       " DecisionTreeRegressor(ccp_alpha=2.7399687554217177e-06, random_state=0),\n",
       " DecisionTreeRegressor(ccp_alpha=2.754898663131683e-06, random_state=0),\n",
       " DecisionTreeRegressor(ccp_alpha=2.7713925890770457e-06, random_state=0),\n",
       " DecisionTreeRegressor(ccp_alpha=2.8785846733137923e-06, random_state=0),\n",
       " DecisionTreeRegressor(ccp_alpha=2.934859880220124e-06, random_state=0),\n",
       " DecisionTreeRegressor(ccp_alpha=2.9391148360564513e-06, random_state=0),\n",
       " DecisionTreeRegressor(ccp_alpha=2.941060428821104e-06, random_state=0),\n",
       " DecisionTreeRegressor(ccp_alpha=3.0982276262146948e-06, random_state=0),\n",
       " DecisionTreeRegressor(ccp_alpha=3.10435598616641e-06, random_state=0),\n",
       " DecisionTreeRegressor(ccp_alpha=3.1141889163736663e-06, random_state=0),\n",
       " DecisionTreeRegressor(ccp_alpha=3.1670550455068522e-06, random_state=0),\n",
       " DecisionTreeRegressor(ccp_alpha=3.1781675368253852e-06, random_state=0),\n",
       " DecisionTreeRegressor(ccp_alpha=3.1854992205588875e-06, random_state=0),\n",
       " DecisionTreeRegressor(ccp_alpha=3.2021732761546454e-06, random_state=0),\n",
       " DecisionTreeRegressor(ccp_alpha=3.244420947163801e-06, random_state=0),\n",
       " DecisionTreeRegressor(ccp_alpha=3.253487369025815e-06, random_state=0),\n",
       " DecisionTreeRegressor(ccp_alpha=3.292597394944872e-06, random_state=0),\n",
       " DecisionTreeRegressor(ccp_alpha=3.348073527250858e-06, random_state=0),\n",
       " DecisionTreeRegressor(ccp_alpha=3.355202257994611e-06, random_state=0),\n",
       " DecisionTreeRegressor(ccp_alpha=3.3723197334124197e-06, random_state=0),\n",
       " DecisionTreeRegressor(ccp_alpha=3.376790509859081e-06, random_state=0),\n",
       " DecisionTreeRegressor(ccp_alpha=3.3967920519140043e-06, random_state=0),\n",
       " DecisionTreeRegressor(ccp_alpha=3.440124988037825e-06, random_state=0),\n",
       " DecisionTreeRegressor(ccp_alpha=3.4439343874899252e-06, random_state=0),\n",
       " DecisionTreeRegressor(ccp_alpha=3.454119293354562e-06, random_state=0),\n",
       " DecisionTreeRegressor(ccp_alpha=3.4984199880677422e-06, random_state=0),\n",
       " DecisionTreeRegressor(ccp_alpha=3.504538128076422e-06, random_state=0),\n",
       " DecisionTreeRegressor(ccp_alpha=3.5187682466844957e-06, random_state=0),\n",
       " DecisionTreeRegressor(ccp_alpha=3.5369124093800014e-06, random_state=0),\n",
       " DecisionTreeRegressor(ccp_alpha=3.566974188670515e-06, random_state=0),\n",
       " DecisionTreeRegressor(ccp_alpha=3.6155692597583902e-06, random_state=0),\n",
       " DecisionTreeRegressor(ccp_alpha=3.6514764021510364e-06, random_state=0),\n",
       " DecisionTreeRegressor(ccp_alpha=3.670997036367599e-06, random_state=0),\n",
       " DecisionTreeRegressor(ccp_alpha=3.6937386109159615e-06, random_state=0),\n",
       " DecisionTreeRegressor(ccp_alpha=3.7569454313421426e-06, random_state=0),\n",
       " DecisionTreeRegressor(ccp_alpha=3.830123432905272e-06, random_state=0),\n",
       " DecisionTreeRegressor(ccp_alpha=3.832930556090167e-06, random_state=0),\n",
       " DecisionTreeRegressor(ccp_alpha=3.8531861441814585e-06, random_state=0),\n",
       " DecisionTreeRegressor(ccp_alpha=3.861733256068501e-06, random_state=0),\n",
       " DecisionTreeRegressor(ccp_alpha=3.897122741712257e-06, random_state=0),\n",
       " DecisionTreeRegressor(ccp_alpha=3.964854099623317e-06, random_state=0),\n",
       " DecisionTreeRegressor(ccp_alpha=4.010444967744027e-06, random_state=0),\n",
       " DecisionTreeRegressor(ccp_alpha=4.018484625363595e-06, random_state=0),\n",
       " DecisionTreeRegressor(ccp_alpha=4.029470398644819e-06, random_state=0),\n",
       " DecisionTreeRegressor(ccp_alpha=4.055269581374699e-06, random_state=0),\n",
       " DecisionTreeRegressor(ccp_alpha=4.068419336649319e-06, random_state=0),\n",
       " DecisionTreeRegressor(ccp_alpha=4.106704509182059e-06, random_state=0),\n",
       " DecisionTreeRegressor(ccp_alpha=4.123614119035853e-06, random_state=0),\n",
       " DecisionTreeRegressor(ccp_alpha=4.197697427075342e-06, random_state=0),\n",
       " DecisionTreeRegressor(ccp_alpha=4.254802402428507e-06, random_state=0),\n",
       " DecisionTreeRegressor(ccp_alpha=4.265269917607836e-06, random_state=0),\n",
       " DecisionTreeRegressor(ccp_alpha=4.296233390978009e-06, random_state=0),\n",
       " DecisionTreeRegressor(ccp_alpha=4.345973858260091e-06, random_state=0),\n",
       " DecisionTreeRegressor(ccp_alpha=4.36549374647102e-06, random_state=0),\n",
       " DecisionTreeRegressor(ccp_alpha=4.383975914255986e-06, random_state=0),\n",
       " DecisionTreeRegressor(ccp_alpha=4.400010285527748e-06, random_state=0),\n",
       " DecisionTreeRegressor(ccp_alpha=4.41142198005139e-06, random_state=0),\n",
       " DecisionTreeRegressor(ccp_alpha=4.421065276501686e-06, random_state=0),\n",
       " DecisionTreeRegressor(ccp_alpha=4.450159642477784e-06, random_state=0),\n",
       " DecisionTreeRegressor(ccp_alpha=4.527418883896527e-06, random_state=0),\n",
       " DecisionTreeRegressor(ccp_alpha=4.545288206952941e-06, random_state=0),\n",
       " DecisionTreeRegressor(ccp_alpha=4.56415195465084e-06, random_state=0),\n",
       " DecisionTreeRegressor(ccp_alpha=4.665050359026204e-06, random_state=0),\n",
       " DecisionTreeRegressor(ccp_alpha=4.6790991788005935e-06, random_state=0),\n",
       " DecisionTreeRegressor(ccp_alpha=4.7562133222531385e-06, random_state=0),\n",
       " DecisionTreeRegressor(ccp_alpha=4.848271495741634e-06, random_state=0),\n",
       " DecisionTreeRegressor(ccp_alpha=4.944131049263058e-06, random_state=0),\n",
       " DecisionTreeRegressor(ccp_alpha=4.966434708318528e-06, random_state=0),\n",
       " DecisionTreeRegressor(ccp_alpha=4.9747059167696496e-06, random_state=0),\n",
       " DecisionTreeRegressor(ccp_alpha=5.018462142654357e-06, random_state=0),\n",
       " DecisionTreeRegressor(ccp_alpha=5.018462142731451e-06, random_state=0),\n",
       " DecisionTreeRegressor(ccp_alpha=5.038806871197147e-06, random_state=0),\n",
       " DecisionTreeRegressor(ccp_alpha=5.0594218757030925e-06, random_state=0),\n",
       " DecisionTreeRegressor(ccp_alpha=5.131188308261883e-06, random_state=0),\n",
       " DecisionTreeRegressor(ccp_alpha=5.153706595012514e-06, random_state=0),\n",
       " DecisionTreeRegressor(ccp_alpha=5.1868354373028225e-06, random_state=0),\n",
       " DecisionTreeRegressor(ccp_alpha=5.234392611601088e-06, random_state=0),\n",
       " DecisionTreeRegressor(ccp_alpha=5.457711380352205e-06, random_state=0),\n",
       " DecisionTreeRegressor(ccp_alpha=5.488890549152551e-06, random_state=0),\n",
       " DecisionTreeRegressor(ccp_alpha=5.58154477354427e-06, random_state=0),\n",
       " DecisionTreeRegressor(ccp_alpha=5.69863386396125e-06, random_state=0),\n",
       " DecisionTreeRegressor(ccp_alpha=5.7508882120856235e-06, random_state=0),\n",
       " DecisionTreeRegressor(ccp_alpha=5.76158151135479e-06, random_state=0),\n",
       " DecisionTreeRegressor(ccp_alpha=5.820411312681786e-06, random_state=0),\n",
       " DecisionTreeRegressor(ccp_alpha=5.829288544111542e-06, random_state=0),\n",
       " DecisionTreeRegressor(ccp_alpha=5.860469275514858e-06, random_state=0),\n",
       " DecisionTreeRegressor(ccp_alpha=5.874241569299672e-06, random_state=0),\n",
       " DecisionTreeRegressor(ccp_alpha=5.892263956495709e-06, random_state=0),\n",
       " DecisionTreeRegressor(ccp_alpha=6.023753781479336e-06, random_state=0),\n",
       " DecisionTreeRegressor(ccp_alpha=6.0438433526866415e-06, random_state=0),\n",
       " DecisionTreeRegressor(ccp_alpha=6.048732443553175e-06, random_state=0),\n",
       " DecisionTreeRegressor(ccp_alpha=6.163173467883877e-06, random_state=0),\n",
       " DecisionTreeRegressor(ccp_alpha=6.199471465419027e-06, random_state=0),\n",
       " DecisionTreeRegressor(ccp_alpha=6.2125885606417685e-06, random_state=0),\n",
       " DecisionTreeRegressor(ccp_alpha=6.2734141890469464e-06, random_state=0),\n",
       " DecisionTreeRegressor(ccp_alpha=6.28837366450025e-06, random_state=0),\n",
       " DecisionTreeRegressor(ccp_alpha=6.336014325501299e-06, random_state=0),\n",
       " DecisionTreeRegressor(ccp_alpha=6.390051844916827e-06, random_state=0),\n",
       " DecisionTreeRegressor(ccp_alpha=6.3922589211858095e-06, random_state=0),\n",
       " DecisionTreeRegressor(ccp_alpha=6.693876951408865e-06, random_state=0),\n",
       " DecisionTreeRegressor(ccp_alpha=6.71058635642863e-06, random_state=0),\n",
       " DecisionTreeRegressor(ccp_alpha=6.75607227141255e-06, random_state=0),\n",
       " DecisionTreeRegressor(ccp_alpha=6.78456713829733e-06, random_state=0),\n",
       " DecisionTreeRegressor(ccp_alpha=6.791246983616364e-06, random_state=0),\n",
       " DecisionTreeRegressor(ccp_alpha=6.817750714157135e-06, random_state=0),\n",
       " DecisionTreeRegressor(ccp_alpha=7.022972868910294e-06, random_state=0),\n",
       " DecisionTreeRegressor(ccp_alpha=7.068474123252681e-06, random_state=0),\n",
       " DecisionTreeRegressor(ccp_alpha=7.103954526385766e-06, random_state=0),\n",
       " DecisionTreeRegressor(ccp_alpha=7.104775154612581e-06, random_state=0),\n",
       " DecisionTreeRegressor(ccp_alpha=7.106328012174627e-06, random_state=0),\n",
       " DecisionTreeRegressor(ccp_alpha=7.196058164535826e-06, random_state=0),\n",
       " DecisionTreeRegressor(ccp_alpha=7.231937720048936e-06, random_state=0),\n",
       " DecisionTreeRegressor(ccp_alpha=7.239573433082466e-06, random_state=0),\n",
       " DecisionTreeRegressor(ccp_alpha=7.249778410545896e-06, random_state=0),\n",
       " DecisionTreeRegressor(ccp_alpha=7.2555603898695935e-06, random_state=0),\n",
       " DecisionTreeRegressor(ccp_alpha=7.286535272725138e-06, random_state=0),\n",
       " DecisionTreeRegressor(ccp_alpha=7.35980710883178e-06, random_state=0),\n",
       " DecisionTreeRegressor(ccp_alpha=7.361092325798983e-06, random_state=0),\n",
       " DecisionTreeRegressor(ccp_alpha=7.365110002865651e-06, random_state=0),\n",
       " DecisionTreeRegressor(ccp_alpha=7.37169168944255e-06, random_state=0),\n",
       " DecisionTreeRegressor(ccp_alpha=7.396887612973758e-06, random_state=0),\n",
       " DecisionTreeRegressor(ccp_alpha=7.436237489878583e-06, random_state=0),\n",
       " DecisionTreeRegressor(ccp_alpha=7.453173020665448e-06, random_state=0),\n",
       " DecisionTreeRegressor(ccp_alpha=7.573092825455399e-06, random_state=0),\n",
       " DecisionTreeRegressor(ccp_alpha=7.585894719886011e-06, random_state=0),\n",
       " DecisionTreeRegressor(ccp_alpha=7.692279052061017e-06, random_state=0),\n",
       " DecisionTreeRegressor(ccp_alpha=7.731070041452116e-06, random_state=0),\n",
       " DecisionTreeRegressor(ccp_alpha=7.790787502926627e-06, random_state=0),\n",
       " DecisionTreeRegressor(ccp_alpha=7.919769338501578e-06, random_state=0),\n",
       " DecisionTreeRegressor(ccp_alpha=7.922078857147425e-06, random_state=0),\n",
       " DecisionTreeRegressor(ccp_alpha=8.011794762741306e-06, random_state=0),\n",
       " DecisionTreeRegressor(ccp_alpha=8.071655365606862e-06, random_state=0),\n",
       " DecisionTreeRegressor(ccp_alpha=8.14780067791029e-06, random_state=0),\n",
       " DecisionTreeRegressor(ccp_alpha=8.166397524761579e-06, random_state=0),\n",
       " DecisionTreeRegressor(ccp_alpha=8.18674960667645e-06, random_state=0),\n",
       " DecisionTreeRegressor(ccp_alpha=8.188294645454503e-06, random_state=0),\n",
       " DecisionTreeRegressor(ccp_alpha=8.25133839637422e-06, random_state=0),\n",
       " DecisionTreeRegressor(ccp_alpha=8.38690566956212e-06, random_state=0),\n",
       " DecisionTreeRegressor(ccp_alpha=8.389402712950737e-06, random_state=0),\n",
       " DecisionTreeRegressor(ccp_alpha=8.411523172104505e-06, random_state=0),\n",
       " DecisionTreeRegressor(ccp_alpha=8.446017665223724e-06, random_state=0),\n",
       " DecisionTreeRegressor(ccp_alpha=8.487925492932102e-06, random_state=0),\n",
       " DecisionTreeRegressor(ccp_alpha=8.571352063639858e-06, random_state=0),\n",
       " DecisionTreeRegressor(ccp_alpha=8.649733839424645e-06, random_state=0),\n",
       " DecisionTreeRegressor(ccp_alpha=8.772090014930781e-06, random_state=0),\n",
       " DecisionTreeRegressor(ccp_alpha=8.847157021834246e-06, random_state=0),\n",
       " DecisionTreeRegressor(ccp_alpha=8.984943064100598e-06, random_state=0),\n",
       " DecisionTreeRegressor(ccp_alpha=9.000015801796295e-06, random_state=0),\n",
       " DecisionTreeRegressor(ccp_alpha=9.044508064227564e-06, random_state=0),\n",
       " DecisionTreeRegressor(ccp_alpha=9.151958754887304e-06, random_state=0),\n",
       " DecisionTreeRegressor(ccp_alpha=9.169337891374465e-06, random_state=0),\n",
       " DecisionTreeRegressor(ccp_alpha=9.276647569052726e-06, random_state=0),\n",
       " DecisionTreeRegressor(ccp_alpha=9.442112302959931e-06, random_state=0),\n",
       " DecisionTreeRegressor(ccp_alpha=9.463735798772013e-06, random_state=0),\n",
       " DecisionTreeRegressor(ccp_alpha=9.46937483863757e-06, random_state=0),\n",
       " DecisionTreeRegressor(ccp_alpha=9.471459616188084e-06, random_state=0),\n",
       " DecisionTreeRegressor(ccp_alpha=9.509800071297008e-06, random_state=0),\n",
       " DecisionTreeRegressor(ccp_alpha=9.580492695195565e-06, random_state=0),\n",
       " DecisionTreeRegressor(ccp_alpha=9.58492390562891e-06, random_state=0),\n",
       " DecisionTreeRegressor(ccp_alpha=9.603578694349303e-06, random_state=0),\n",
       " DecisionTreeRegressor(ccp_alpha=9.637949835193773e-06, random_state=0),\n",
       " DecisionTreeRegressor(ccp_alpha=9.720748750263005e-06, random_state=0),\n",
       " DecisionTreeRegressor(ccp_alpha=9.759743130533483e-06, random_state=0),\n",
       " DecisionTreeRegressor(ccp_alpha=9.796122035591226e-06, random_state=0),\n",
       " DecisionTreeRegressor(ccp_alpha=9.803104017301314e-06, random_state=0),\n",
       " DecisionTreeRegressor(ccp_alpha=1.0038127901286746e-05, random_state=0),\n",
       " DecisionTreeRegressor(ccp_alpha=1.0130001307079617e-05, random_state=0),\n",
       " DecisionTreeRegressor(ccp_alpha=1.0181477925731445e-05, random_state=0),\n",
       " DecisionTreeRegressor(ccp_alpha=1.0198618389506708e-05, random_state=0),\n",
       " DecisionTreeRegressor(ccp_alpha=1.0240761443107297e-05, random_state=0),\n",
       " DecisionTreeRegressor(ccp_alpha=1.0335622708228015e-05, random_state=0),\n",
       " DecisionTreeRegressor(ccp_alpha=1.0357877651432762e-05, random_state=0),\n",
       " DecisionTreeRegressor(ccp_alpha=1.035863527908596e-05, random_state=0),\n",
       " DecisionTreeRegressor(ccp_alpha=1.0753580193253071e-05, random_state=0),\n",
       " DecisionTreeRegressor(ccp_alpha=1.0767125993433223e-05, random_state=0),\n",
       " DecisionTreeRegressor(ccp_alpha=1.0809189085098403e-05, random_state=0),\n",
       " DecisionTreeRegressor(ccp_alpha=1.1208307010803602e-05, random_state=0),\n",
       " DecisionTreeRegressor(ccp_alpha=1.1234255324041707e-05, random_state=0),\n",
       " DecisionTreeRegressor(ccp_alpha=1.126596327155064e-05, random_state=0),\n",
       " DecisionTreeRegressor(ccp_alpha=1.1317001678941334e-05, random_state=0),\n",
       " DecisionTreeRegressor(ccp_alpha=1.1400908388263913e-05, random_state=0),\n",
       " DecisionTreeRegressor(ccp_alpha=1.1434336626524564e-05, random_state=0),\n",
       " DecisionTreeRegressor(ccp_alpha=1.1575858819664426e-05, random_state=0),\n",
       " DecisionTreeRegressor(ccp_alpha=1.1589893436666035e-05, random_state=0),\n",
       " DecisionTreeRegressor(ccp_alpha=1.1626914448825044e-05, random_state=0),\n",
       " DecisionTreeRegressor(ccp_alpha=1.1664671383689589e-05, random_state=0),\n",
       " DecisionTreeRegressor(ccp_alpha=1.1776084632110453e-05, random_state=0),\n",
       " DecisionTreeRegressor(ccp_alpha=1.1815475203313922e-05, random_state=0),\n",
       " DecisionTreeRegressor(ccp_alpha=1.2055764281137037e-05, random_state=0),\n",
       " DecisionTreeRegressor(ccp_alpha=1.2118113289652106e-05, random_state=0),\n",
       " DecisionTreeRegressor(ccp_alpha=1.2152158513936211e-05, random_state=0),\n",
       " DecisionTreeRegressor(ccp_alpha=1.2153675612272254e-05, random_state=0),\n",
       " DecisionTreeRegressor(ccp_alpha=1.2309308667735211e-05, random_state=0),\n",
       " DecisionTreeRegressor(ccp_alpha=1.2401866295743638e-05, random_state=0),\n",
       " DecisionTreeRegressor(ccp_alpha=1.249217328920253e-05, random_state=0),\n",
       " DecisionTreeRegressor(ccp_alpha=1.2507447531864849e-05, random_state=0),\n",
       " DecisionTreeRegressor(ccp_alpha=1.2758264420348182e-05, random_state=0),\n",
       " DecisionTreeRegressor(ccp_alpha=1.2821006019432502e-05, random_state=0),\n",
       " DecisionTreeRegressor(ccp_alpha=1.2992372074868801e-05, random_state=0),\n",
       " DecisionTreeRegressor(ccp_alpha=1.3073897373589615e-05, random_state=0),\n",
       " DecisionTreeRegressor(ccp_alpha=1.3128243127703097e-05, random_state=0),\n",
       " DecisionTreeRegressor(ccp_alpha=1.3160534452949554e-05, random_state=0),\n",
       " DecisionTreeRegressor(ccp_alpha=1.3278707210402487e-05, random_state=0),\n",
       " DecisionTreeRegressor(ccp_alpha=1.3475516716928421e-05, random_state=0),\n",
       " DecisionTreeRegressor(ccp_alpha=1.3486054998258175e-05, random_state=0),\n",
       " DecisionTreeRegressor(ccp_alpha=1.3637725133261993e-05, random_state=0),\n",
       " DecisionTreeRegressor(ccp_alpha=1.3672594412484109e-05, random_state=0),\n",
       " DecisionTreeRegressor(ccp_alpha=1.4010242421916283e-05, random_state=0),\n",
       " DecisionTreeRegressor(ccp_alpha=1.4056908376350716e-05, random_state=0),\n",
       " DecisionTreeRegressor(ccp_alpha=1.415373106268053e-05, random_state=0),\n",
       " DecisionTreeRegressor(ccp_alpha=1.4228686169375784e-05, random_state=0),\n",
       " DecisionTreeRegressor(ccp_alpha=1.4385822950272246e-05, random_state=0),\n",
       " DecisionTreeRegressor(ccp_alpha=1.440387596166746e-05, random_state=0),\n",
       " DecisionTreeRegressor(ccp_alpha=1.4496706033372582e-05, random_state=0),\n",
       " DecisionTreeRegressor(ccp_alpha=1.472619073557528e-05, random_state=0),\n",
       " DecisionTreeRegressor(ccp_alpha=1.4817449560319856e-05, random_state=0),\n",
       " DecisionTreeRegressor(ccp_alpha=1.4896321010010245e-05, random_state=0),\n",
       " DecisionTreeRegressor(ccp_alpha=1.489766407750391e-05, random_state=0),\n",
       " DecisionTreeRegressor(ccp_alpha=1.4952002838681931e-05, random_state=0),\n",
       " DecisionTreeRegressor(ccp_alpha=1.5110869129435806e-05, random_state=0),\n",
       " DecisionTreeRegressor(ccp_alpha=1.5245869329156559e-05, random_state=0),\n",
       " DecisionTreeRegressor(ccp_alpha=1.535361753355508e-05, random_state=0),\n",
       " DecisionTreeRegressor(ccp_alpha=1.545761255231269e-05, random_state=0),\n",
       " DecisionTreeRegressor(ccp_alpha=1.5572906854553036e-05, random_state=0),\n",
       " DecisionTreeRegressor(ccp_alpha=1.5814298402293802e-05, random_state=0),\n",
       " DecisionTreeRegressor(ccp_alpha=1.5829931918369232e-05, random_state=0),\n",
       " DecisionTreeRegressor(ccp_alpha=1.5991588346777476e-05, random_state=0),\n",
       " DecisionTreeRegressor(ccp_alpha=1.600730080296875e-05, random_state=0),\n",
       " DecisionTreeRegressor(ccp_alpha=1.60322832729863e-05, random_state=0),\n",
       " DecisionTreeRegressor(ccp_alpha=1.6267811230828937e-05, random_state=0),\n",
       " DecisionTreeRegressor(ccp_alpha=1.6288234355723223e-05, random_state=0),\n",
       " DecisionTreeRegressor(ccp_alpha=1.635301908961976e-05, random_state=0),\n",
       " DecisionTreeRegressor(ccp_alpha=1.6366864417599714e-05, random_state=0),\n",
       " DecisionTreeRegressor(ccp_alpha=1.664888883248979e-05, random_state=0),\n",
       " DecisionTreeRegressor(ccp_alpha=1.6686293989877987e-05, random_state=0),\n",
       " DecisionTreeRegressor(ccp_alpha=1.6776664012711244e-05, random_state=0),\n",
       " DecisionTreeRegressor(ccp_alpha=1.6785589403378496e-05, random_state=0),\n",
       " DecisionTreeRegressor(ccp_alpha=1.6962544049131054e-05, random_state=0),\n",
       " DecisionTreeRegressor(ccp_alpha=1.7263742232802378e-05, random_state=0),\n",
       " DecisionTreeRegressor(ccp_alpha=1.744833647578382e-05, random_state=0),\n",
       " DecisionTreeRegressor(ccp_alpha=1.754341338247865e-05, random_state=0),\n",
       " DecisionTreeRegressor(ccp_alpha=1.7805359209693772e-05, random_state=0),\n",
       " DecisionTreeRegressor(ccp_alpha=1.7989667973191882e-05, random_state=0),\n",
       " DecisionTreeRegressor(ccp_alpha=1.825875631339914e-05, random_state=0),\n",
       " DecisionTreeRegressor(ccp_alpha=1.853302758160919e-05, random_state=0),\n",
       " DecisionTreeRegressor(ccp_alpha=1.857683422190153e-05, random_state=0),\n",
       " DecisionTreeRegressor(ccp_alpha=1.859045848854948e-05, random_state=0),\n",
       " DecisionTreeRegressor(ccp_alpha=1.8710595960808374e-05, random_state=0),\n",
       " DecisionTreeRegressor(ccp_alpha=1.882906451892395e-05, random_state=0),\n",
       " DecisionTreeRegressor(ccp_alpha=1.8836516048829954e-05, random_state=0),\n",
       " DecisionTreeRegressor(ccp_alpha=1.906136186720733e-05, random_state=0),\n",
       " DecisionTreeRegressor(ccp_alpha=1.915550423434852e-05, random_state=0),\n",
       " DecisionTreeRegressor(ccp_alpha=1.9261976319688517e-05, random_state=0),\n",
       " DecisionTreeRegressor(ccp_alpha=1.971289410003526e-05, random_state=0),\n",
       " DecisionTreeRegressor(ccp_alpha=1.985178142807345e-05, random_state=0),\n",
       " DecisionTreeRegressor(ccp_alpha=1.9927616882840417e-05, random_state=0),\n",
       " DecisionTreeRegressor(ccp_alpha=1.998824997851711e-05, random_state=0),\n",
       " DecisionTreeRegressor(ccp_alpha=2.002704591701182e-05, random_state=0),\n",
       " DecisionTreeRegressor(ccp_alpha=2.0208844002699212e-05, random_state=0),\n",
       " DecisionTreeRegressor(ccp_alpha=2.0520454400490576e-05, random_state=0),\n",
       " DecisionTreeRegressor(ccp_alpha=2.060026288874424e-05, random_state=0),\n",
       " DecisionTreeRegressor(ccp_alpha=2.0656523323762614e-05, random_state=0),\n",
       " DecisionTreeRegressor(ccp_alpha=2.082336502356415e-05, random_state=0),\n",
       " DecisionTreeRegressor(ccp_alpha=2.1001196379949267e-05, random_state=0),\n",
       " DecisionTreeRegressor(ccp_alpha=2.1020677303988162e-05, random_state=0),\n",
       " DecisionTreeRegressor(ccp_alpha=2.1048597311707632e-05, random_state=0),\n",
       " DecisionTreeRegressor(ccp_alpha=2.1333928586264655e-05, random_state=0),\n",
       " DecisionTreeRegressor(ccp_alpha=2.1571245387951485e-05, random_state=0),\n",
       " DecisionTreeRegressor(ccp_alpha=2.1658088260030837e-05, random_state=0),\n",
       " DecisionTreeRegressor(ccp_alpha=2.174269420370517e-05, random_state=0),\n",
       " DecisionTreeRegressor(ccp_alpha=2.192840306727051e-05, random_state=0),\n",
       " DecisionTreeRegressor(ccp_alpha=2.2131665775410265e-05, random_state=0),\n",
       " DecisionTreeRegressor(ccp_alpha=2.2544081973120447e-05, random_state=0),\n",
       " DecisionTreeRegressor(ccp_alpha=2.2663540166035693e-05, random_state=0),\n",
       " DecisionTreeRegressor(ccp_alpha=2.274843685079444e-05, random_state=0),\n",
       " DecisionTreeRegressor(ccp_alpha=2.2752899493723925e-05, random_state=0),\n",
       " DecisionTreeRegressor(ccp_alpha=2.2834897753659246e-05, random_state=0),\n",
       " DecisionTreeRegressor(ccp_alpha=2.2882417293547555e-05, random_state=0),\n",
       " DecisionTreeRegressor(ccp_alpha=2.2884249242286935e-05, random_state=0),\n",
       " DecisionTreeRegressor(ccp_alpha=2.296313093097524e-05, random_state=0),\n",
       " DecisionTreeRegressor(ccp_alpha=2.3096207674434138e-05, random_state=0),\n",
       " DecisionTreeRegressor(ccp_alpha=2.3644488239632347e-05, random_state=0),\n",
       " DecisionTreeRegressor(ccp_alpha=2.3872224841532804e-05, random_state=0),\n",
       " DecisionTreeRegressor(ccp_alpha=2.4697139546480647e-05, random_state=0),\n",
       " DecisionTreeRegressor(ccp_alpha=2.5185572651798096e-05, random_state=0),\n",
       " DecisionTreeRegressor(ccp_alpha=2.557989393216559e-05, random_state=0),\n",
       " DecisionTreeRegressor(ccp_alpha=2.5596744973754794e-05, random_state=0),\n",
       " DecisionTreeRegressor(ccp_alpha=2.5677951697337895e-05, random_state=0),\n",
       " DecisionTreeRegressor(ccp_alpha=2.580842965262238e-05, random_state=0),\n",
       " DecisionTreeRegressor(ccp_alpha=2.584506917095591e-05, random_state=0),\n",
       " DecisionTreeRegressor(ccp_alpha=2.5952164776081036e-05, random_state=0),\n",
       " DecisionTreeRegressor(ccp_alpha=2.604786358661593e-05, random_state=0),\n",
       " DecisionTreeRegressor(ccp_alpha=2.613929664125121e-05, random_state=0),\n",
       " DecisionTreeRegressor(ccp_alpha=2.6191188507380194e-05, random_state=0),\n",
       " DecisionTreeRegressor(ccp_alpha=2.6845599493733008e-05, random_state=0),\n",
       " DecisionTreeRegressor(ccp_alpha=2.7233698488519616e-05, random_state=0),\n",
       " DecisionTreeRegressor(ccp_alpha=2.757556860569297e-05, random_state=0),\n",
       " DecisionTreeRegressor(ccp_alpha=2.768047024239222e-05, random_state=0),\n",
       " DecisionTreeRegressor(ccp_alpha=2.771720308680078e-05, random_state=0),\n",
       " DecisionTreeRegressor(ccp_alpha=2.7721713610262842e-05, random_state=0),\n",
       " DecisionTreeRegressor(ccp_alpha=2.7733454031376346e-05, random_state=0),\n",
       " DecisionTreeRegressor(ccp_alpha=2.776633219215935e-05, random_state=0),\n",
       " DecisionTreeRegressor(ccp_alpha=2.875175704180453e-05, random_state=0),\n",
       " DecisionTreeRegressor(ccp_alpha=2.8955150830135785e-05, random_state=0),\n",
       " DecisionTreeRegressor(ccp_alpha=2.9131891588519596e-05, random_state=0),\n",
       " DecisionTreeRegressor(ccp_alpha=2.9205472832709092e-05, random_state=0),\n",
       " DecisionTreeRegressor(ccp_alpha=2.9240901786200765e-05, random_state=0),\n",
       " DecisionTreeRegressor(ccp_alpha=2.9514198324703383e-05, random_state=0),\n",
       " DecisionTreeRegressor(ccp_alpha=2.9608698311543347e-05, random_state=0),\n",
       " DecisionTreeRegressor(ccp_alpha=2.9902908562387942e-05, random_state=0),\n",
       " DecisionTreeRegressor(ccp_alpha=3.0726975065001224e-05, random_state=0),\n",
       " DecisionTreeRegressor(ccp_alpha=3.092818317311139e-05, random_state=0),\n",
       " DecisionTreeRegressor(ccp_alpha=3.108757151427378e-05, random_state=0),\n",
       " DecisionTreeRegressor(ccp_alpha=3.119737738967274e-05, random_state=0),\n",
       " DecisionTreeRegressor(ccp_alpha=3.130767584367087e-05, random_state=0),\n",
       " DecisionTreeRegressor(ccp_alpha=3.1507589805899956e-05, random_state=0),\n",
       " DecisionTreeRegressor(ccp_alpha=3.15898607340896e-05, random_state=0),\n",
       " DecisionTreeRegressor(ccp_alpha=3.1855728882677494e-05, random_state=0),\n",
       " DecisionTreeRegressor(ccp_alpha=3.25489775029437e-05, random_state=0),\n",
       " DecisionTreeRegressor(ccp_alpha=3.312310263324918e-05, random_state=0),\n",
       " DecisionTreeRegressor(ccp_alpha=3.323710768821599e-05, random_state=0),\n",
       " DecisionTreeRegressor(ccp_alpha=3.342546839462711e-05, random_state=0),\n",
       " DecisionTreeRegressor(ccp_alpha=3.3634178722063926e-05, random_state=0),\n",
       " DecisionTreeRegressor(ccp_alpha=3.394806313551595e-05, random_state=0),\n",
       " DecisionTreeRegressor(ccp_alpha=3.402002402510628e-05, random_state=0),\n",
       " DecisionTreeRegressor(ccp_alpha=3.407581459053129e-05, random_state=0),\n",
       " DecisionTreeRegressor(ccp_alpha=3.4121565263726405e-05, random_state=0),\n",
       " DecisionTreeRegressor(ccp_alpha=3.4338073300252595e-05, random_state=0),\n",
       " DecisionTreeRegressor(ccp_alpha=3.4403153276194135e-05, random_state=0),\n",
       " DecisionTreeRegressor(ccp_alpha=3.4489702643743185e-05, random_state=0),\n",
       " DecisionTreeRegressor(ccp_alpha=3.4824856213354086e-05, random_state=0),\n",
       " DecisionTreeRegressor(ccp_alpha=3.4968042376827383e-05, random_state=0),\n",
       " DecisionTreeRegressor(ccp_alpha=3.497974784847663e-05, random_state=0),\n",
       " DecisionTreeRegressor(ccp_alpha=3.509899255895539e-05, random_state=0),\n",
       " DecisionTreeRegressor(ccp_alpha=3.5282619900874914e-05, random_state=0),\n",
       " DecisionTreeRegressor(ccp_alpha=3.532742910204986e-05, random_state=0),\n",
       " DecisionTreeRegressor(ccp_alpha=3.5385225015866374e-05, random_state=0),\n",
       " DecisionTreeRegressor(ccp_alpha=3.547637199835118e-05, random_state=0),\n",
       " DecisionTreeRegressor(ccp_alpha=3.663019140957437e-05, random_state=0),\n",
       " DecisionTreeRegressor(ccp_alpha=3.665730279568456e-05, random_state=0),\n",
       " DecisionTreeRegressor(ccp_alpha=3.774119942687075e-05, random_state=0),\n",
       " DecisionTreeRegressor(ccp_alpha=3.775897951614145e-05, random_state=0),\n",
       " DecisionTreeRegressor(ccp_alpha=3.7929195381333713e-05, random_state=0),\n",
       " DecisionTreeRegressor(ccp_alpha=3.81479909414562e-05, random_state=0),\n",
       " DecisionTreeRegressor(ccp_alpha=3.83532704805851e-05, random_state=0),\n",
       " DecisionTreeRegressor(ccp_alpha=3.856306767986473e-05, random_state=0),\n",
       " DecisionTreeRegressor(ccp_alpha=3.859993262714522e-05, random_state=0),\n",
       " DecisionTreeRegressor(ccp_alpha=3.866707710994517e-05, random_state=0),\n",
       " DecisionTreeRegressor(ccp_alpha=3.904185301391875e-05, random_state=0),\n",
       " DecisionTreeRegressor(ccp_alpha=4.004991426229166e-05, random_state=0),\n",
       " DecisionTreeRegressor(ccp_alpha=4.0072838421601885e-05, random_state=0),\n",
       " DecisionTreeRegressor(ccp_alpha=4.0891766903579716e-05, random_state=0),\n",
       " DecisionTreeRegressor(ccp_alpha=4.1110069146254245e-05, random_state=0),\n",
       " DecisionTreeRegressor(ccp_alpha=4.1317733166088446e-05, random_state=0),\n",
       " DecisionTreeRegressor(ccp_alpha=4.140396647691762e-05, random_state=0),\n",
       " DecisionTreeRegressor(ccp_alpha=4.146465317379253e-05, random_state=0),\n",
       " DecisionTreeRegressor(ccp_alpha=4.165037360000823e-05, random_state=0),\n",
       " DecisionTreeRegressor(ccp_alpha=4.173884928870689e-05, random_state=0),\n",
       " DecisionTreeRegressor(ccp_alpha=4.17903603973601e-05, random_state=0),\n",
       " DecisionTreeRegressor(ccp_alpha=4.241527485978672e-05, random_state=0),\n",
       " DecisionTreeRegressor(ccp_alpha=4.248913504709595e-05, random_state=0),\n",
       " DecisionTreeRegressor(ccp_alpha=4.263854480661966e-05, random_state=0),\n",
       " DecisionTreeRegressor(ccp_alpha=4.2742777758283116e-05, random_state=0),\n",
       " DecisionTreeRegressor(ccp_alpha=4.29595626216681e-05, random_state=0),\n",
       " DecisionTreeRegressor(ccp_alpha=4.3220294344414256e-05, random_state=0),\n",
       " DecisionTreeRegressor(ccp_alpha=4.3833671798462697e-05, random_state=0),\n",
       " DecisionTreeRegressor(ccp_alpha=4.385301145319148e-05, random_state=0),\n",
       " DecisionTreeRegressor(ccp_alpha=4.395015619807232e-05, random_state=0),\n",
       " DecisionTreeRegressor(ccp_alpha=4.402070178027842e-05, random_state=0),\n",
       " DecisionTreeRegressor(ccp_alpha=4.428366236321681e-05, random_state=0),\n",
       " DecisionTreeRegressor(ccp_alpha=4.493243150933694e-05, random_state=0),\n",
       " DecisionTreeRegressor(ccp_alpha=4.5847348100892095e-05, random_state=0),\n",
       " DecisionTreeRegressor(ccp_alpha=4.590535888995663e-05, random_state=0),\n",
       " DecisionTreeRegressor(ccp_alpha=4.635563330254768e-05, random_state=0),\n",
       " DecisionTreeRegressor(ccp_alpha=4.643797409721813e-05, random_state=0),\n",
       " DecisionTreeRegressor(ccp_alpha=4.648975753978725e-05, random_state=0),\n",
       " DecisionTreeRegressor(ccp_alpha=4.743194491169282e-05, random_state=0),\n",
       " DecisionTreeRegressor(ccp_alpha=4.8598858325268565e-05, random_state=0),\n",
       " DecisionTreeRegressor(ccp_alpha=4.882073384664316e-05, random_state=0),\n",
       " DecisionTreeRegressor(ccp_alpha=4.8926923169169377e-05, random_state=0),\n",
       " DecisionTreeRegressor(ccp_alpha=4.9673387478612113e-05, random_state=0),\n",
       " DecisionTreeRegressor(ccp_alpha=5.047454995227185e-05, random_state=0),\n",
       " DecisionTreeRegressor(ccp_alpha=5.096334118801155e-05, random_state=0),\n",
       " DecisionTreeRegressor(ccp_alpha=5.180276035511152e-05, random_state=0),\n",
       " DecisionTreeRegressor(ccp_alpha=5.298508693778959e-05, random_state=0),\n",
       " DecisionTreeRegressor(ccp_alpha=5.304172206964328e-05, random_state=0),\n",
       " DecisionTreeRegressor(ccp_alpha=5.314459271692855e-05, random_state=0),\n",
       " DecisionTreeRegressor(ccp_alpha=5.3611648227825976e-05, random_state=0),\n",
       " DecisionTreeRegressor(ccp_alpha=5.400394931107558e-05, random_state=0),\n",
       " DecisionTreeRegressor(ccp_alpha=5.502333695692081e-05, random_state=0),\n",
       " DecisionTreeRegressor(ccp_alpha=5.508200551190664e-05, random_state=0),\n",
       " DecisionTreeRegressor(ccp_alpha=5.5197711708562696e-05, random_state=0),\n",
       " DecisionTreeRegressor(ccp_alpha=5.547637180924238e-05, random_state=0),\n",
       " DecisionTreeRegressor(ccp_alpha=5.570183446793269e-05, random_state=0),\n",
       " DecisionTreeRegressor(ccp_alpha=5.605530616686281e-05, random_state=0),\n",
       " DecisionTreeRegressor(ccp_alpha=5.7041391987182606e-05, random_state=0),\n",
       " DecisionTreeRegressor(ccp_alpha=5.759320520650022e-05, random_state=0),\n",
       " DecisionTreeRegressor(ccp_alpha=5.8212621609921865e-05, random_state=0),\n",
       " DecisionTreeRegressor(ccp_alpha=5.8765486822366935e-05, random_state=0),\n",
       " DecisionTreeRegressor(ccp_alpha=5.9005185068839954e-05, random_state=0),\n",
       " DecisionTreeRegressor(ccp_alpha=5.932557477774904e-05, random_state=0),\n",
       " DecisionTreeRegressor(ccp_alpha=6.001980020363177e-05, random_state=0),\n",
       " DecisionTreeRegressor(ccp_alpha=6.0273479532234075e-05, random_state=0),\n",
       " DecisionTreeRegressor(ccp_alpha=6.060797120179845e-05, random_state=0),\n",
       " DecisionTreeRegressor(ccp_alpha=6.090839915897518e-05, random_state=0),\n",
       " DecisionTreeRegressor(ccp_alpha=6.14960970259432e-05, random_state=0),\n",
       " DecisionTreeRegressor(ccp_alpha=6.196761098799198e-05, random_state=0),\n",
       " DecisionTreeRegressor(ccp_alpha=6.287373949743461e-05, random_state=0),\n",
       " DecisionTreeRegressor(ccp_alpha=6.289481160243425e-05, random_state=0),\n",
       " DecisionTreeRegressor(ccp_alpha=6.319016895186535e-05, random_state=0),\n",
       " DecisionTreeRegressor(ccp_alpha=6.409921444255885e-05, random_state=0),\n",
       " DecisionTreeRegressor(ccp_alpha=6.45005655936107e-05, random_state=0),\n",
       " DecisionTreeRegressor(ccp_alpha=6.48903054223607e-05, random_state=0),\n",
       " DecisionTreeRegressor(ccp_alpha=6.529473461070635e-05, random_state=0),\n",
       " DecisionTreeRegressor(ccp_alpha=6.534685253953374e-05, random_state=0),\n",
       " DecisionTreeRegressor(ccp_alpha=6.633943702614177e-05, random_state=0),\n",
       " DecisionTreeRegressor(ccp_alpha=6.692286584867576e-05, random_state=0),\n",
       " DecisionTreeRegressor(ccp_alpha=6.770236542569522e-05, random_state=0),\n",
       " DecisionTreeRegressor(ccp_alpha=6.879665116568714e-05, random_state=0),\n",
       " DecisionTreeRegressor(ccp_alpha=6.906838235678974e-05, random_state=0),\n",
       " DecisionTreeRegressor(ccp_alpha=6.962939324330744e-05, random_state=0),\n",
       " DecisionTreeRegressor(ccp_alpha=6.994638522053245e-05, random_state=0),\n",
       " DecisionTreeRegressor(ccp_alpha=7.001583719427174e-05, random_state=0),\n",
       " DecisionTreeRegressor(ccp_alpha=7.021213528053249e-05, random_state=0),\n",
       " DecisionTreeRegressor(ccp_alpha=7.059805688732445e-05, random_state=0),\n",
       " DecisionTreeRegressor(ccp_alpha=7.129612287169923e-05, random_state=0),\n",
       " DecisionTreeRegressor(ccp_alpha=7.152929333565439e-05, random_state=0),\n",
       " DecisionTreeRegressor(ccp_alpha=7.160408652889493e-05, random_state=0),\n",
       " DecisionTreeRegressor(ccp_alpha=7.225413564196445e-05, random_state=0),\n",
       " DecisionTreeRegressor(ccp_alpha=7.316636166046694e-05, random_state=0),\n",
       " DecisionTreeRegressor(ccp_alpha=7.514387046274059e-05, random_state=0),\n",
       " DecisionTreeRegressor(ccp_alpha=7.666898066659218e-05, random_state=0),\n",
       " DecisionTreeRegressor(ccp_alpha=7.67742186224159e-05, random_state=0),\n",
       " DecisionTreeRegressor(ccp_alpha=7.70348282974806e-05, random_state=0),\n",
       " DecisionTreeRegressor(ccp_alpha=7.903325322894806e-05, random_state=0),\n",
       " DecisionTreeRegressor(ccp_alpha=7.998992416536572e-05, random_state=0),\n",
       " DecisionTreeRegressor(ccp_alpha=8.204378570289952e-05, random_state=0),\n",
       " DecisionTreeRegressor(ccp_alpha=8.274001255728209e-05, random_state=0),\n",
       " DecisionTreeRegressor(ccp_alpha=8.584425378422444e-05, random_state=0),\n",
       " DecisionTreeRegressor(ccp_alpha=8.659130764390749e-05, random_state=0),\n",
       " DecisionTreeRegressor(ccp_alpha=8.664237270232354e-05, random_state=0),\n",
       " DecisionTreeRegressor(ccp_alpha=8.80338153310385e-05, random_state=0),\n",
       " DecisionTreeRegressor(ccp_alpha=8.947339711056808e-05, random_state=0),\n",
       " DecisionTreeRegressor(ccp_alpha=8.948259497976537e-05, random_state=0),\n",
       " DecisionTreeRegressor(ccp_alpha=8.969626691433428e-05, random_state=0),\n",
       " DecisionTreeRegressor(ccp_alpha=9.006401556800999e-05, random_state=0),\n",
       " DecisionTreeRegressor(ccp_alpha=9.03169882660632e-05, random_state=0),\n",
       " DecisionTreeRegressor(ccp_alpha=9.317358677177236e-05, random_state=0),\n",
       " DecisionTreeRegressor(ccp_alpha=9.475167143131443e-05, random_state=0),\n",
       " DecisionTreeRegressor(ccp_alpha=9.594254845143792e-05, random_state=0),\n",
       " DecisionTreeRegressor(ccp_alpha=9.819885850226667e-05, random_state=0),\n",
       " DecisionTreeRegressor(ccp_alpha=9.85249524176846e-05, random_state=0),\n",
       " DecisionTreeRegressor(ccp_alpha=0.00010092017482733387, random_state=0),\n",
       " DecisionTreeRegressor(ccp_alpha=0.00010224899196738895, random_state=0),\n",
       " DecisionTreeRegressor(ccp_alpha=0.00010239610506373236, random_state=0),\n",
       " DecisionTreeRegressor(ccp_alpha=0.00010403105184661379, random_state=0),\n",
       " DecisionTreeRegressor(ccp_alpha=0.00010575360540609552, random_state=0),\n",
       " DecisionTreeRegressor(ccp_alpha=0.00010772969018624896, random_state=0),\n",
       " DecisionTreeRegressor(ccp_alpha=0.00010820715763351879, random_state=0),\n",
       " DecisionTreeRegressor(ccp_alpha=0.00010879400400460458, random_state=0),\n",
       " DecisionTreeRegressor(ccp_alpha=0.00010914395854132416, random_state=0),\n",
       " DecisionTreeRegressor(ccp_alpha=0.00011288576174013913, random_state=0),\n",
       " DecisionTreeRegressor(ccp_alpha=0.00011311295997835371, random_state=0),\n",
       " DecisionTreeRegressor(ccp_alpha=0.0001131266501630277, random_state=0),\n",
       " DecisionTreeRegressor(ccp_alpha=0.00011332641986795822, random_state=0),\n",
       " DecisionTreeRegressor(ccp_alpha=0.000116842197192139, random_state=0),\n",
       " DecisionTreeRegressor(ccp_alpha=0.00011840091702927164, random_state=0),\n",
       " DecisionTreeRegressor(ccp_alpha=0.0001184361000694603, random_state=0),\n",
       " DecisionTreeRegressor(ccp_alpha=0.00012171222841991897, random_state=0),\n",
       " DecisionTreeRegressor(ccp_alpha=0.00012376334594315966, random_state=0),\n",
       " DecisionTreeRegressor(ccp_alpha=0.0001247806530476896, random_state=0),\n",
       " DecisionTreeRegressor(ccp_alpha=0.00012496148279530342, random_state=0),\n",
       " DecisionTreeRegressor(ccp_alpha=0.00012520266957594762, random_state=0),\n",
       " DecisionTreeRegressor(ccp_alpha=0.00012535979119677448, random_state=0),\n",
       " DecisionTreeRegressor(ccp_alpha=0.0001258081573966524, random_state=0),\n",
       " DecisionTreeRegressor(ccp_alpha=0.00012844596501949905, random_state=0),\n",
       " DecisionTreeRegressor(ccp_alpha=0.00013039953063170037, random_state=0),\n",
       " DecisionTreeRegressor(ccp_alpha=0.00013067393700801847, random_state=0),\n",
       " DecisionTreeRegressor(ccp_alpha=0.00013148094896709095, random_state=0),\n",
       " DecisionTreeRegressor(ccp_alpha=0.00013582901731595647, random_state=0),\n",
       " DecisionTreeRegressor(ccp_alpha=0.0001378077250605652, random_state=0),\n",
       " DecisionTreeRegressor(ccp_alpha=0.0001394344745374406, random_state=0),\n",
       " DecisionTreeRegressor(ccp_alpha=0.00014126556889363187, random_state=0),\n",
       " DecisionTreeRegressor(ccp_alpha=0.0001420909891675898, random_state=0),\n",
       " DecisionTreeRegressor(ccp_alpha=0.0001422862452375877, random_state=0),\n",
       " DecisionTreeRegressor(ccp_alpha=0.00014232756243083138, random_state=0),\n",
       " DecisionTreeRegressor(ccp_alpha=0.00014288998772469543, random_state=0),\n",
       " DecisionTreeRegressor(ccp_alpha=0.000144366304961298, random_state=0),\n",
       " DecisionTreeRegressor(ccp_alpha=0.00014580805630617073, random_state=0),\n",
       " DecisionTreeRegressor(ccp_alpha=0.00014751196111678936, random_state=0),\n",
       " DecisionTreeRegressor(ccp_alpha=0.00014767949477407285, random_state=0),\n",
       " DecisionTreeRegressor(ccp_alpha=0.0001533256173671646, random_state=0),\n",
       " DecisionTreeRegressor(ccp_alpha=0.00015383566447712638, random_state=0),\n",
       " DecisionTreeRegressor(ccp_alpha=0.00015395887974106005, random_state=0),\n",
       " DecisionTreeRegressor(ccp_alpha=0.00015418074118196386, random_state=0),\n",
       " DecisionTreeRegressor(ccp_alpha=0.00015452064791727344, random_state=0),\n",
       " DecisionTreeRegressor(ccp_alpha=0.000155177597911656, random_state=0),\n",
       " DecisionTreeRegressor(ccp_alpha=0.00015729455949063065, random_state=0),\n",
       " DecisionTreeRegressor(ccp_alpha=0.00016173557153142408, random_state=0),\n",
       " DecisionTreeRegressor(ccp_alpha=0.00016418524448023463, random_state=0),\n",
       " DecisionTreeRegressor(ccp_alpha=0.00016429941974436467, random_state=0),\n",
       " DecisionTreeRegressor(ccp_alpha=0.00016601572454921234, random_state=0),\n",
       " DecisionTreeRegressor(ccp_alpha=0.0001667795836482381, random_state=0),\n",
       " DecisionTreeRegressor(ccp_alpha=0.00016723863474374194, random_state=0),\n",
       " DecisionTreeRegressor(ccp_alpha=0.0001808355350049921, random_state=0),\n",
       " DecisionTreeRegressor(ccp_alpha=0.00018777307389750348, random_state=0),\n",
       " DecisionTreeRegressor(ccp_alpha=0.0001930433958408088, random_state=0),\n",
       " DecisionTreeRegressor(ccp_alpha=0.00019546431561526004, random_state=0),\n",
       " DecisionTreeRegressor(ccp_alpha=0.0001974900846797666, random_state=0),\n",
       " DecisionTreeRegressor(ccp_alpha=0.00020075820278929338, random_state=0),\n",
       " DecisionTreeRegressor(ccp_alpha=0.00020897396004101453, random_state=0),\n",
       " DecisionTreeRegressor(ccp_alpha=0.00021090050514612548, random_state=0),\n",
       " DecisionTreeRegressor(ccp_alpha=0.00021757438796614462, random_state=0),\n",
       " DecisionTreeRegressor(ccp_alpha=0.00022116131112606165, random_state=0),\n",
       " DecisionTreeRegressor(ccp_alpha=0.000243325920913788, random_state=0),\n",
       " DecisionTreeRegressor(ccp_alpha=0.00024348371193563286, random_state=0),\n",
       " DecisionTreeRegressor(ccp_alpha=0.00024986578389594365, random_state=0),\n",
       " DecisionTreeRegressor(ccp_alpha=0.00025017650814849503, random_state=0),\n",
       " DecisionTreeRegressor(ccp_alpha=0.0002524396672339784, random_state=0),\n",
       " DecisionTreeRegressor(ccp_alpha=0.00025373199860623556, random_state=0),\n",
       " DecisionTreeRegressor(ccp_alpha=0.0002594725620865863, random_state=0),\n",
       " DecisionTreeRegressor(ccp_alpha=0.0002606914133745184, random_state=0),\n",
       " DecisionTreeRegressor(ccp_alpha=0.0002621006432271749, random_state=0),\n",
       " DecisionTreeRegressor(ccp_alpha=0.0002642846066596117, random_state=0),\n",
       " DecisionTreeRegressor(ccp_alpha=0.0002679757590530365, random_state=0),\n",
       " DecisionTreeRegressor(ccp_alpha=0.0002701379997392917, random_state=0),\n",
       " DecisionTreeRegressor(ccp_alpha=0.00027204386678865336, random_state=0),\n",
       " DecisionTreeRegressor(ccp_alpha=0.0002731107761519628, random_state=0),\n",
       " DecisionTreeRegressor(ccp_alpha=0.00027381283149663794, random_state=0),\n",
       " DecisionTreeRegressor(ccp_alpha=0.0002769974437468347, random_state=0),\n",
       " DecisionTreeRegressor(ccp_alpha=0.00027729506738245925, random_state=0),\n",
       " DecisionTreeRegressor(ccp_alpha=0.00028013409444244814, random_state=0),\n",
       " DecisionTreeRegressor(ccp_alpha=0.0002836394304851415, random_state=0),\n",
       " DecisionTreeRegressor(ccp_alpha=0.0002862962610393461, random_state=0),\n",
       " DecisionTreeRegressor(ccp_alpha=0.0002916605336746903, random_state=0),\n",
       " DecisionTreeRegressor(ccp_alpha=0.0003034763207313047, random_state=0),\n",
       " DecisionTreeRegressor(ccp_alpha=0.00030926263227091274, random_state=0),\n",
       " DecisionTreeRegressor(ccp_alpha=0.0003128672129460691, random_state=0),\n",
       " DecisionTreeRegressor(ccp_alpha=0.0003136598111998228, random_state=0),\n",
       " DecisionTreeRegressor(ccp_alpha=0.0003150745711420393, random_state=0),\n",
       " DecisionTreeRegressor(ccp_alpha=0.00031655888632195505, random_state=0),\n",
       " DecisionTreeRegressor(ccp_alpha=0.00031951063299098977, random_state=0),\n",
       " DecisionTreeRegressor(ccp_alpha=0.0003238591577209146, random_state=0),\n",
       " DecisionTreeRegressor(ccp_alpha=0.00032752649060673213, random_state=0),\n",
       " DecisionTreeRegressor(ccp_alpha=0.0003303881738862376, random_state=0),\n",
       " DecisionTreeRegressor(ccp_alpha=0.0003306697971845274, random_state=0),\n",
       " DecisionTreeRegressor(ccp_alpha=0.00033081044876780857, random_state=0),\n",
       " DecisionTreeRegressor(ccp_alpha=0.0003481661213480845, random_state=0),\n",
       " DecisionTreeRegressor(ccp_alpha=0.0003663063073945848, random_state=0),\n",
       " DecisionTreeRegressor(ccp_alpha=0.000370679090183475, random_state=0),\n",
       " DecisionTreeRegressor(ccp_alpha=0.0003868293010799727, random_state=0),\n",
       " DecisionTreeRegressor(ccp_alpha=0.0003917504205230711, random_state=0),\n",
       " DecisionTreeRegressor(ccp_alpha=0.00041907886735305854, random_state=0),\n",
       " DecisionTreeRegressor(ccp_alpha=0.00042241130195479356, random_state=0),\n",
       " DecisionTreeRegressor(ccp_alpha=0.0004258711503562052, random_state=0),\n",
       " DecisionTreeRegressor(ccp_alpha=0.00042627189908705143, random_state=0),\n",
       " DecisionTreeRegressor(ccp_alpha=0.0004316305651572368, random_state=0),\n",
       " DecisionTreeRegressor(ccp_alpha=0.00043381871078799, random_state=0),\n",
       " DecisionTreeRegressor(ccp_alpha=0.0004369813480638075, random_state=0),\n",
       " DecisionTreeRegressor(ccp_alpha=0.0004411286000064079, random_state=0),\n",
       " DecisionTreeRegressor(ccp_alpha=0.0004434522116181388, random_state=0),\n",
       " DecisionTreeRegressor(ccp_alpha=0.00044588103321211575, random_state=0),\n",
       " DecisionTreeRegressor(ccp_alpha=0.000453650364767068, random_state=0),\n",
       " DecisionTreeRegressor(ccp_alpha=0.00046272604155240746, random_state=0),\n",
       " DecisionTreeRegressor(ccp_alpha=0.00047999697052418077, random_state=0),\n",
       " DecisionTreeRegressor(ccp_alpha=0.0005069957882110274, random_state=0),\n",
       " DecisionTreeRegressor(ccp_alpha=0.0005110981734061291, random_state=0),\n",
       " DecisionTreeRegressor(ccp_alpha=0.0005329527285222593, random_state=0),\n",
       " DecisionTreeRegressor(ccp_alpha=0.00056459391719141, random_state=0),\n",
       " DecisionTreeRegressor(ccp_alpha=0.0005734533392797261, random_state=0),\n",
       " DecisionTreeRegressor(ccp_alpha=0.0006422782050604814, random_state=0),\n",
       " DecisionTreeRegressor(ccp_alpha=0.000654734497378013, random_state=0),\n",
       " DecisionTreeRegressor(ccp_alpha=0.0006627374717292044, random_state=0),\n",
       " DecisionTreeRegressor(ccp_alpha=0.0006835819331448122, random_state=0),\n",
       " DecisionTreeRegressor(ccp_alpha=0.0007036970612578149, random_state=0),\n",
       " DecisionTreeRegressor(ccp_alpha=0.0007375260359858454, random_state=0),\n",
       " DecisionTreeRegressor(ccp_alpha=0.0007468980745508292, random_state=0),\n",
       " DecisionTreeRegressor(ccp_alpha=0.0007839610664337436, random_state=0),\n",
       " DecisionTreeRegressor(ccp_alpha=0.0008278535662988463, random_state=0),\n",
       " DecisionTreeRegressor(ccp_alpha=0.0009146809601934445, random_state=0),\n",
       " DecisionTreeRegressor(ccp_alpha=0.0009266630229573056, random_state=0),\n",
       " DecisionTreeRegressor(ccp_alpha=0.0009329636308843181, random_state=0),\n",
       " DecisionTreeRegressor(ccp_alpha=0.0009621203336197203, random_state=0),\n",
       " DecisionTreeRegressor(ccp_alpha=0.0010152933421719267, random_state=0),\n",
       " DecisionTreeRegressor(ccp_alpha=0.001094688233258645, random_state=0),\n",
       " DecisionTreeRegressor(ccp_alpha=0.0012482537425196148, random_state=0),\n",
       " DecisionTreeRegressor(ccp_alpha=0.0015689725995397062, random_state=0),\n",
       " DecisionTreeRegressor(ccp_alpha=0.0015916817230853956, random_state=0),\n",
       " DecisionTreeRegressor(ccp_alpha=0.0017239766904684215, random_state=0),\n",
       " DecisionTreeRegressor(ccp_alpha=0.0017666417542275149, random_state=0),\n",
       " DecisionTreeRegressor(ccp_alpha=0.0019305389528572175, random_state=0),\n",
       " DecisionTreeRegressor(ccp_alpha=0.002422687528945349, random_state=0),\n",
       " DecisionTreeRegressor(ccp_alpha=0.0027043610030981838, random_state=0),\n",
       " DecisionTreeRegressor(ccp_alpha=0.0033824803783107, random_state=0),\n",
       " DecisionTreeRegressor(ccp_alpha=0.004007993055980706, random_state=0),\n",
       " DecisionTreeRegressor(ccp_alpha=0.004601336238299943, random_state=0),\n",
       " DecisionTreeRegressor(ccp_alpha=0.00827533524770277, random_state=0),\n",
       " DecisionTreeRegressor(ccp_alpha=0.010318988521136468, random_state=0),\n",
       " DecisionTreeRegressor(ccp_alpha=0.01962755945281082, random_state=0),\n",
       " DecisionTreeRegressor(ccp_alpha=0.024839938739328285, random_state=0),\n",
       " DecisionTreeRegressor(ccp_alpha=0.04471946191082507, random_state=0),\n",
       " DecisionTreeRegressor(ccp_alpha=0.18217589570304196, random_state=0)]"
      ]
     },
     "execution_count": 36,
     "metadata": {},
     "output_type": "execute_result"
    }
   ],
   "source": [
    "alphalist"
   ]
  },
  {
   "cell_type": "raw",
   "id": "0d0d5d0c",
   "metadata": {},
   "source": [
    " DecisionTreeRegressor(ccp_alpha=1.6703536283691324e-16, random_state=0),"
   ]
  },
  {
   "cell_type": "code",
   "execution_count": 37,
   "id": "9a540628",
   "metadata": {},
   "outputs": [
    {
     "data": {
      "image/png": "[encoded data removed]",
      "text/plain": [
       "<Figure size 432x288 with 1 Axes>"
      ]
     },
     "metadata": {
      "needs_background": "light"
     },
     "output_type": "display_data"
    }
   ],
   "source": [
    "train_score = [regressor.score(x_train,y_train) for regressor in alphalist]\n",
    "test_score = [regressor.score(x_test,y_test) for regressor in alphalist]\n",
    "plt.xlabel('ccp alpha')\n",
    "plt.ylabel('Accuracy')\n",
    "\n",
    "plt.plot(ccp_alphas,train_score,marker='o',\n",
    "        label='training')\n",
    "plt.plot(ccp_alphas,test_score,marker='+',\n",
    "        label='test',drawstyle='steps-post')\n",
    "plt.legend()\n",
    "plt.show()"
   ]
  },
  {
   "cell_type": "code",
   "execution_count": 38,
   "id": "196e8764",
   "metadata": {},
   "outputs": [],
   "source": [
    "# we can see that most of the crowding happens in the range (less than 0.01)\n",
    "# finding after what suddend test score, the test score rapidly decreased down.\n",
    "# so we look into the crowded portion only.\n"
   ]
  },
  {
   "cell_type": "raw",
   "id": "bb66bf49",
   "metadata": {},
   "source": [
    "possible value of alpha lies in (0.0025 -> 0.0075)"
   ]
  },
  {
   "cell_type": "code",
   "execution_count": 39,
   "id": "02a60c91",
   "metadata": {
    "collapsed": true
   },
   "outputs": [
    {
     "data": {
      "text/plain": [
       "[Text(0.5, 0.9, 'Ram <= 7.0\\nsquared_error = 0.39\\nsamples = 1106\\nvalue = 10.821'),\n",
       " Text(0.25, 0.7, 'CpuName_Other Intel Processor <= 0.5\\nsquared_error = 0.192\\nsamples = 362\\nvalue = 10.209'),\n",
       " Text(0.125, 0.5, 'squared_error = 0.13\\nsamples = 256\\nvalue = 10.387'),\n",
       " Text(0.375, 0.5, 'squared_error = 0.084\\nsamples = 106\\nvalue = 9.781'),\n",
       " Text(0.75, 0.7, 'Ram <= 14.0\\nsquared_error = 0.215\\nsamples = 744\\nvalue = 11.119'),\n",
       " Text(0.625, 0.5, 'TypeName_Notebook <= 0.5\\nsquared_error = 0.159\\nsamples = 553\\nvalue = 10.967'),\n",
       " Text(0.5, 0.3, 'squared_error = 0.107\\nsamples = 268\\nvalue = 11.172'),\n",
       " Text(0.75, 0.3, 'PPI <= 114.881\\nsquared_error = 0.131\\nsamples = 285\\nvalue = 10.775'),\n",
       " Text(0.625, 0.1, 'squared_error = 0.072\\nsamples = 59\\nvalue = 10.384'),\n",
       " Text(0.875, 0.1, 'squared_error = 0.096\\nsamples = 226\\nvalue = 10.877'),\n",
       " Text(0.875, 0.5, 'squared_error = 0.12\\nsamples = 191\\nvalue = 11.558')]"
      ]
     },
     "execution_count": 39,
     "metadata": {},
     "output_type": "execute_result"
    },
    {
     "data": {
      "image/png": "[encoded data removed]",
      "text/plain": [
       "<Figure size 1152x648 with 1 Axes>"
      ]
     },
     "metadata": {
      "needs_background": "light"
     },
     "output_type": "display_data"
    }
   ],
   "source": [
    "#plotting decision tree with alpha = 0.0085\n",
    "regressor = DecisionTreeRegressor(random_state=0,ccp_alpha=0.0085)\n",
    "regressor.fit(x_train,y_train)\n",
    "plt.figure(figsize=(16,9))\n",
    "tree.plot_tree(regressor,filled=True,feature_names=x.columns)"
   ]
  },
  {
   "cell_type": "markdown",
   "id": "78c84564",
   "metadata": {},
   "source": [
    "we see that mse is falling down,\n",
    "thus we found an optimal depth."
   ]
  },
  {
   "cell_type": "code",
   "execution_count": 40,
   "id": "b4da3b4a",
   "metadata": {},
   "outputs": [],
   "source": [
    "# now lets have some hyperparameter tuning.( setting the parameters for both the tree models.)\n",
    "# linspace(100,1200,10)--> choose any 10 values in the linear space b/w 100 to 1200\n",
    "# chose the ccp_alpha in the range we got above (but only 5 random values.)\n",
    "params = {\n",
    "    'RandomForest':{\n",
    "        'model': RandomForestRegressor(),\n",
    "        'params':{\n",
    "            'n_estimators':[int(x) for x in np.linspace(100,1200,10)],\n",
    "            'criterion':['mse','mae'],\n",
    "            'max_depth':[int(x) for x in np.linspace(1,30,5)],\n",
    "            'max_features':['auto','sqrt','log2'],\n",
    "            'ccp_alpha':[x for x in np.linspace(0.0025, 0.0125,5)],\n",
    "            'min_samples_split':[2,5,10,14],\n",
    "            'min_samples_leaf':[2,5,10,14],\n",
    "        }\n",
    "        \n",
    "    },\n",
    "    'Decision Tree':{\n",
    "        'model':DecisionTreeRegressor(),\n",
    "        'params':{\n",
    "            'criterion':['mse','mae'],\n",
    "            'max_depth':[int(x) for x in np.linspace(1,30,5)],\n",
    "            'max_features':['auto','sqrt','log2'],\n",
    "            'ccp_alpha':[x for x in np.linspace(0.0025,0.0125,5)],\n",
    "            'min_samples_split':[2,5,10,14],\n",
    "            'min_samples_leaf':[2,5,10,14],\n",
    "        }\n",
    "    }\n",
    "    \n",
    "}"
   ]
  },
  {
   "cell_type": "raw",
   "id": "e9c25265",
   "metadata": {},
   "source": [
    "The params dictionary contains two keys, 'RandomForest' and 'Decision Tree', representing the two models to be considered."
   ]
  },
  {
   "cell_type": "raw",
   "id": "e66d3d8d",
   "metadata": {},
   "source": [
    "this param dictionary can be used to select the best parameters combinations \n",
    "using techniques like GridSearchCV or RandomizedSearchCV."
   ]
  },
  {
   "cell_type": "code",
   "execution_count": 41,
   "id": "bafca0a1",
   "metadata": {
    "scrolled": true
   },
   "outputs": [
    {
     "name": "stdout",
     "output_type": "stream",
     "text": [
      "Fitting 5 folds for each of 10 candidates, totalling 50 fits\n"
     ]
    },
    {
     "name": "stderr",
     "output_type": "stream",
     "text": [
      "C:\\Users\\HP\\AppData\\Local\\Programs\\Python\\Python310\\lib\\site-packages\\sklearn\\ensemble\\_forest.py:400: FutureWarning: Criterion 'mse' was deprecated in v1.0 and will be removed in version 1.2. Use `criterion='squared_error'` which is equivalent.\n",
      "  warn(\n"
     ]
    },
    {
     "name": "stdout",
     "output_type": "stream",
     "text": [
      "[CV] END ccp_alpha=0.0075, criterion=mse, max_depth=22, max_features=sqrt, min_samples_leaf=14, min_samples_split=10, n_estimators=588; total time=   0.8s\n"
     ]
    },
    {
     "name": "stderr",
     "output_type": "stream",
     "text": [
      "C:\\Users\\HP\\AppData\\Local\\Programs\\Python\\Python310\\lib\\site-packages\\sklearn\\ensemble\\_forest.py:400: FutureWarning: Criterion 'mse' was deprecated in v1.0 and will be removed in version 1.2. Use `criterion='squared_error'` which is equivalent.\n",
      "  warn(\n"
     ]
    },
    {
     "name": "stdout",
     "output_type": "stream",
     "text": [
      "[CV] END ccp_alpha=0.0075, criterion=mse, max_depth=22, max_features=sqrt, min_samples_leaf=14, min_samples_split=10, n_estimators=588; total time=   0.8s\n"
     ]
    },
    {
     "name": "stderr",
     "output_type": "stream",
     "text": [
      "C:\\Users\\HP\\AppData\\Local\\Programs\\Python\\Python310\\lib\\site-packages\\sklearn\\ensemble\\_forest.py:400: FutureWarning: Criterion 'mse' was deprecated in v1.0 and will be removed in version 1.2. Use `criterion='squared_error'` which is equivalent.\n",
      "  warn(\n"
     ]
    },
    {
     "name": "stdout",
     "output_type": "stream",
     "text": [
      "[CV] END ccp_alpha=0.0075, criterion=mse, max_depth=22, max_features=sqrt, min_samples_leaf=14, min_samples_split=10, n_estimators=588; total time=   0.7s\n"
     ]
    },
    {
     "name": "stderr",
     "output_type": "stream",
     "text": [
      "C:\\Users\\HP\\AppData\\Local\\Programs\\Python\\Python310\\lib\\site-packages\\sklearn\\ensemble\\_forest.py:400: FutureWarning: Criterion 'mse' was deprecated in v1.0 and will be removed in version 1.2. Use `criterion='squared_error'` which is equivalent.\n",
      "  warn(\n"
     ]
    },
    {
     "name": "stdout",
     "output_type": "stream",
     "text": [
      "[CV] END ccp_alpha=0.0075, criterion=mse, max_depth=22, max_features=sqrt, min_samples_leaf=14, min_samples_split=10, n_estimators=588; total time=   0.7s\n"
     ]
    },
    {
     "name": "stderr",
     "output_type": "stream",
     "text": [
      "C:\\Users\\HP\\AppData\\Local\\Programs\\Python\\Python310\\lib\\site-packages\\sklearn\\ensemble\\_forest.py:400: FutureWarning: Criterion 'mse' was deprecated in v1.0 and will be removed in version 1.2. Use `criterion='squared_error'` which is equivalent.\n",
      "  warn(\n"
     ]
    },
    {
     "name": "stdout",
     "output_type": "stream",
     "text": [
      "[CV] END ccp_alpha=0.0075, criterion=mse, max_depth=22, max_features=sqrt, min_samples_leaf=14, min_samples_split=10, n_estimators=588; total time=   0.9s\n"
     ]
    },
    {
     "name": "stderr",
     "output_type": "stream",
     "text": [
      "C:\\Users\\HP\\AppData\\Local\\Programs\\Python\\Python310\\lib\\site-packages\\sklearn\\ensemble\\_forest.py:407: FutureWarning: Criterion 'mae' was deprecated in v1.0 and will be removed in version 1.2. Use `criterion='absolute_error'` which is equivalent.\n",
      "  warn(\n"
     ]
    },
    {
     "name": "stdout",
     "output_type": "stream",
     "text": [
      "[CV] END ccp_alpha=0.0025, criterion=mae, max_depth=1, max_features=sqrt, min_samples_leaf=14, min_samples_split=14, n_estimators=1077; total time=   3.6s\n"
     ]
    },
    {
     "name": "stderr",
     "output_type": "stream",
     "text": [
      "C:\\Users\\HP\\AppData\\Local\\Programs\\Python\\Python310\\lib\\site-packages\\sklearn\\ensemble\\_forest.py:407: FutureWarning: Criterion 'mae' was deprecated in v1.0 and will be removed in version 1.2. Use `criterion='absolute_error'` which is equivalent.\n",
      "  warn(\n"
     ]
    },
    {
     "name": "stdout",
     "output_type": "stream",
     "text": [
      "[CV] END ccp_alpha=0.0025, criterion=mae, max_depth=1, max_features=sqrt, min_samples_leaf=14, min_samples_split=14, n_estimators=1077; total time=   3.2s\n"
     ]
    },
    {
     "name": "stderr",
     "output_type": "stream",
     "text": [
      "C:\\Users\\HP\\AppData\\Local\\Programs\\Python\\Python310\\lib\\site-packages\\sklearn\\ensemble\\_forest.py:407: FutureWarning: Criterion 'mae' was deprecated in v1.0 and will be removed in version 1.2. Use `criterion='absolute_error'` which is equivalent.\n",
      "  warn(\n"
     ]
    },
    {
     "name": "stdout",
     "output_type": "stream",
     "text": [
      "[CV] END ccp_alpha=0.0025, criterion=mae, max_depth=1, max_features=sqrt, min_samples_leaf=14, min_samples_split=14, n_estimators=1077; total time=   3.2s\n"
     ]
    },
    {
     "name": "stderr",
     "output_type": "stream",
     "text": [
      "C:\\Users\\HP\\AppData\\Local\\Programs\\Python\\Python310\\lib\\site-packages\\sklearn\\ensemble\\_forest.py:407: FutureWarning: Criterion 'mae' was deprecated in v1.0 and will be removed in version 1.2. Use `criterion='absolute_error'` which is equivalent.\n",
      "  warn(\n"
     ]
    },
    {
     "name": "stdout",
     "output_type": "stream",
     "text": [
      "[CV] END ccp_alpha=0.0025, criterion=mae, max_depth=1, max_features=sqrt, min_samples_leaf=14, min_samples_split=14, n_estimators=1077; total time=   3.3s\n"
     ]
    },
    {
     "name": "stderr",
     "output_type": "stream",
     "text": [
      "C:\\Users\\HP\\AppData\\Local\\Programs\\Python\\Python310\\lib\\site-packages\\sklearn\\ensemble\\_forest.py:407: FutureWarning: Criterion 'mae' was deprecated in v1.0 and will be removed in version 1.2. Use `criterion='absolute_error'` which is equivalent.\n",
      "  warn(\n"
     ]
    },
    {
     "name": "stdout",
     "output_type": "stream",
     "text": [
      "[CV] END ccp_alpha=0.0025, criterion=mae, max_depth=1, max_features=sqrt, min_samples_leaf=14, min_samples_split=14, n_estimators=1077; total time=   3.3s\n"
     ]
    },
    {
     "name": "stderr",
     "output_type": "stream",
     "text": [
      "C:\\Users\\HP\\AppData\\Local\\Programs\\Python\\Python310\\lib\\site-packages\\sklearn\\ensemble\\_forest.py:400: FutureWarning: Criterion 'mse' was deprecated in v1.0 and will be removed in version 1.2. Use `criterion='squared_error'` which is equivalent.\n",
      "  warn(\n"
     ]
    },
    {
     "name": "stdout",
     "output_type": "stream",
     "text": [
      "[CV] END ccp_alpha=0.005, criterion=mse, max_depth=1, max_features=sqrt, min_samples_leaf=2, min_samples_split=10, n_estimators=466; total time=   0.5s\n"
     ]
    },
    {
     "name": "stderr",
     "output_type": "stream",
     "text": [
      "C:\\Users\\HP\\AppData\\Local\\Programs\\Python\\Python310\\lib\\site-packages\\sklearn\\ensemble\\_forest.py:400: FutureWarning: Criterion 'mse' was deprecated in v1.0 and will be removed in version 1.2. Use `criterion='squared_error'` which is equivalent.\n",
      "  warn(\n"
     ]
    },
    {
     "name": "stdout",
     "output_type": "stream",
     "text": [
      "[CV] END ccp_alpha=0.005, criterion=mse, max_depth=1, max_features=sqrt, min_samples_leaf=2, min_samples_split=10, n_estimators=466; total time=   0.5s\n"
     ]
    },
    {
     "name": "stderr",
     "output_type": "stream",
     "text": [
      "C:\\Users\\HP\\AppData\\Local\\Programs\\Python\\Python310\\lib\\site-packages\\sklearn\\ensemble\\_forest.py:400: FutureWarning: Criterion 'mse' was deprecated in v1.0 and will be removed in version 1.2. Use `criterion='squared_error'` which is equivalent.\n",
      "  warn(\n"
     ]
    },
    {
     "name": "stdout",
     "output_type": "stream",
     "text": [
      "[CV] END ccp_alpha=0.005, criterion=mse, max_depth=1, max_features=sqrt, min_samples_leaf=2, min_samples_split=10, n_estimators=466; total time=   0.5s\n"
     ]
    },
    {
     "name": "stderr",
     "output_type": "stream",
     "text": [
      "C:\\Users\\HP\\AppData\\Local\\Programs\\Python\\Python310\\lib\\site-packages\\sklearn\\ensemble\\_forest.py:400: FutureWarning: Criterion 'mse' was deprecated in v1.0 and will be removed in version 1.2. Use `criterion='squared_error'` which is equivalent.\n",
      "  warn(\n"
     ]
    },
    {
     "name": "stdout",
     "output_type": "stream",
     "text": [
      "[CV] END ccp_alpha=0.005, criterion=mse, max_depth=1, max_features=sqrt, min_samples_leaf=2, min_samples_split=10, n_estimators=466; total time=   0.4s\n"
     ]
    },
    {
     "name": "stderr",
     "output_type": "stream",
     "text": [
      "C:\\Users\\HP\\AppData\\Local\\Programs\\Python\\Python310\\lib\\site-packages\\sklearn\\ensemble\\_forest.py:400: FutureWarning: Criterion 'mse' was deprecated in v1.0 and will be removed in version 1.2. Use `criterion='squared_error'` which is equivalent.\n",
      "  warn(\n"
     ]
    },
    {
     "name": "stdout",
     "output_type": "stream",
     "text": [
      "[CV] END ccp_alpha=0.005, criterion=mse, max_depth=1, max_features=sqrt, min_samples_leaf=2, min_samples_split=10, n_estimators=466; total time=   0.5s\n"
     ]
    },
    {
     "name": "stderr",
     "output_type": "stream",
     "text": [
      "C:\\Users\\HP\\AppData\\Local\\Programs\\Python\\Python310\\lib\\site-packages\\sklearn\\ensemble\\_forest.py:407: FutureWarning: Criterion 'mae' was deprecated in v1.0 and will be removed in version 1.2. Use `criterion='absolute_error'` which is equivalent.\n",
      "  warn(\n"
     ]
    },
    {
     "name": "stdout",
     "output_type": "stream",
     "text": [
      "[CV] END ccp_alpha=0.0025, criterion=mae, max_depth=30, max_features=sqrt, min_samples_leaf=5, min_samples_split=10, n_estimators=833; total time=   6.3s\n"
     ]
    },
    {
     "name": "stderr",
     "output_type": "stream",
     "text": [
      "C:\\Users\\HP\\AppData\\Local\\Programs\\Python\\Python310\\lib\\site-packages\\sklearn\\ensemble\\_forest.py:407: FutureWarning: Criterion 'mae' was deprecated in v1.0 and will be removed in version 1.2. Use `criterion='absolute_error'` which is equivalent.\n",
      "  warn(\n"
     ]
    },
    {
     "name": "stdout",
     "output_type": "stream",
     "text": [
      "[CV] END ccp_alpha=0.0025, criterion=mae, max_depth=30, max_features=sqrt, min_samples_leaf=5, min_samples_split=10, n_estimators=833; total time=   6.6s\n"
     ]
    },
    {
     "name": "stderr",
     "output_type": "stream",
     "text": [
      "C:\\Users\\HP\\AppData\\Local\\Programs\\Python\\Python310\\lib\\site-packages\\sklearn\\ensemble\\_forest.py:407: FutureWarning: Criterion 'mae' was deprecated in v1.0 and will be removed in version 1.2. Use `criterion='absolute_error'` which is equivalent.\n",
      "  warn(\n"
     ]
    },
    {
     "name": "stdout",
     "output_type": "stream",
     "text": [
      "[CV] END ccp_alpha=0.0025, criterion=mae, max_depth=30, max_features=sqrt, min_samples_leaf=5, min_samples_split=10, n_estimators=833; total time=   6.5s\n"
     ]
    },
    {
     "name": "stderr",
     "output_type": "stream",
     "text": [
      "C:\\Users\\HP\\AppData\\Local\\Programs\\Python\\Python310\\lib\\site-packages\\sklearn\\ensemble\\_forest.py:407: FutureWarning: Criterion 'mae' was deprecated in v1.0 and will be removed in version 1.2. Use `criterion='absolute_error'` which is equivalent.\n",
      "  warn(\n"
     ]
    },
    {
     "name": "stdout",
     "output_type": "stream",
     "text": [
      "[CV] END ccp_alpha=0.0025, criterion=mae, max_depth=30, max_features=sqrt, min_samples_leaf=5, min_samples_split=10, n_estimators=833; total time=   6.5s\n"
     ]
    },
    {
     "name": "stderr",
     "output_type": "stream",
     "text": [
      "C:\\Users\\HP\\AppData\\Local\\Programs\\Python\\Python310\\lib\\site-packages\\sklearn\\ensemble\\_forest.py:407: FutureWarning: Criterion 'mae' was deprecated in v1.0 and will be removed in version 1.2. Use `criterion='absolute_error'` which is equivalent.\n",
      "  warn(\n"
     ]
    },
    {
     "name": "stdout",
     "output_type": "stream",
     "text": [
      "[CV] END ccp_alpha=0.0025, criterion=mae, max_depth=30, max_features=sqrt, min_samples_leaf=5, min_samples_split=10, n_estimators=833; total time=   6.4s\n"
     ]
    },
    {
     "name": "stderr",
     "output_type": "stream",
     "text": [
      "C:\\Users\\HP\\AppData\\Local\\Programs\\Python\\Python310\\lib\\site-packages\\sklearn\\ensemble\\_forest.py:407: FutureWarning: Criterion 'mae' was deprecated in v1.0 and will be removed in version 1.2. Use `criterion='absolute_error'` which is equivalent.\n",
      "  warn(\n",
      "C:\\Users\\HP\\AppData\\Local\\Programs\\Python\\Python310\\lib\\site-packages\\sklearn\\ensemble\\_forest.py:416: FutureWarning: `max_features='auto'` has been deprecated in 1.1 and will be removed in 1.3. To keep the past behaviour, explicitly set `max_features=1.0` or remove this parameter as it is also the default value for RandomForestRegressors and ExtraTreesRegressors.\n",
      "  warn(\n"
     ]
    },
    {
     "name": "stdout",
     "output_type": "stream",
     "text": [
      "[CV] END ccp_alpha=0.005, criterion=mae, max_depth=8, max_features=auto, min_samples_leaf=14, min_samples_split=14, n_estimators=588; total time=  17.1s\n"
     ]
    },
    {
     "name": "stderr",
     "output_type": "stream",
     "text": [
      "C:\\Users\\HP\\AppData\\Local\\Programs\\Python\\Python310\\lib\\site-packages\\sklearn\\ensemble\\_forest.py:407: FutureWarning: Criterion 'mae' was deprecated in v1.0 and will be removed in version 1.2. Use `criterion='absolute_error'` which is equivalent.\n",
      "  warn(\n",
      "C:\\Users\\HP\\AppData\\Local\\Programs\\Python\\Python310\\lib\\site-packages\\sklearn\\ensemble\\_forest.py:416: FutureWarning: `max_features='auto'` has been deprecated in 1.1 and will be removed in 1.3. To keep the past behaviour, explicitly set `max_features=1.0` or remove this parameter as it is also the default value for RandomForestRegressors and ExtraTreesRegressors.\n",
      "  warn(\n"
     ]
    },
    {
     "name": "stdout",
     "output_type": "stream",
     "text": [
      "[CV] END ccp_alpha=0.005, criterion=mae, max_depth=8, max_features=auto, min_samples_leaf=14, min_samples_split=14, n_estimators=588; total time=  23.9s\n"
     ]
    },
    {
     "name": "stderr",
     "output_type": "stream",
     "text": [
      "C:\\Users\\HP\\AppData\\Local\\Programs\\Python\\Python310\\lib\\site-packages\\sklearn\\ensemble\\_forest.py:407: FutureWarning: Criterion 'mae' was deprecated in v1.0 and will be removed in version 1.2. Use `criterion='absolute_error'` which is equivalent.\n",
      "  warn(\n",
      "C:\\Users\\HP\\AppData\\Local\\Programs\\Python\\Python310\\lib\\site-packages\\sklearn\\ensemble\\_forest.py:416: FutureWarning: `max_features='auto'` has been deprecated in 1.1 and will be removed in 1.3. To keep the past behaviour, explicitly set `max_features=1.0` or remove this parameter as it is also the default value for RandomForestRegressors and ExtraTreesRegressors.\n",
      "  warn(\n"
     ]
    },
    {
     "name": "stdout",
     "output_type": "stream",
     "text": [
      "[CV] END ccp_alpha=0.005, criterion=mae, max_depth=8, max_features=auto, min_samples_leaf=14, min_samples_split=14, n_estimators=588; total time=  24.9s\n"
     ]
    },
    {
     "name": "stderr",
     "output_type": "stream",
     "text": [
      "C:\\Users\\HP\\AppData\\Local\\Programs\\Python\\Python310\\lib\\site-packages\\sklearn\\ensemble\\_forest.py:407: FutureWarning: Criterion 'mae' was deprecated in v1.0 and will be removed in version 1.2. Use `criterion='absolute_error'` which is equivalent.\n",
      "  warn(\n",
      "C:\\Users\\HP\\AppData\\Local\\Programs\\Python\\Python310\\lib\\site-packages\\sklearn\\ensemble\\_forest.py:416: FutureWarning: `max_features='auto'` has been deprecated in 1.1 and will be removed in 1.3. To keep the past behaviour, explicitly set `max_features=1.0` or remove this parameter as it is also the default value for RandomForestRegressors and ExtraTreesRegressors.\n",
      "  warn(\n"
     ]
    },
    {
     "name": "stdout",
     "output_type": "stream",
     "text": [
      "[CV] END ccp_alpha=0.005, criterion=mae, max_depth=8, max_features=auto, min_samples_leaf=14, min_samples_split=14, n_estimators=588; total time=  22.5s\n"
     ]
    },
    {
     "name": "stderr",
     "output_type": "stream",
     "text": [
      "C:\\Users\\HP\\AppData\\Local\\Programs\\Python\\Python310\\lib\\site-packages\\sklearn\\ensemble\\_forest.py:407: FutureWarning: Criterion 'mae' was deprecated in v1.0 and will be removed in version 1.2. Use `criterion='absolute_error'` which is equivalent.\n",
      "  warn(\n",
      "C:\\Users\\HP\\AppData\\Local\\Programs\\Python\\Python310\\lib\\site-packages\\sklearn\\ensemble\\_forest.py:416: FutureWarning: `max_features='auto'` has been deprecated in 1.1 and will be removed in 1.3. To keep the past behaviour, explicitly set `max_features=1.0` or remove this parameter as it is also the default value for RandomForestRegressors and ExtraTreesRegressors.\n",
      "  warn(\n"
     ]
    },
    {
     "name": "stdout",
     "output_type": "stream",
     "text": [
      "[CV] END ccp_alpha=0.005, criterion=mae, max_depth=8, max_features=auto, min_samples_leaf=14, min_samples_split=14, n_estimators=588; total time=  23.8s\n"
     ]
    },
    {
     "name": "stderr",
     "output_type": "stream",
     "text": [
      "C:\\Users\\HP\\AppData\\Local\\Programs\\Python\\Python310\\lib\\site-packages\\sklearn\\ensemble\\_forest.py:407: FutureWarning: Criterion 'mae' was deprecated in v1.0 and will be removed in version 1.2. Use `criterion='absolute_error'` which is equivalent.\n",
      "  warn(\n"
     ]
    },
    {
     "name": "stdout",
     "output_type": "stream",
     "text": [
      "[CV] END ccp_alpha=0.01, criterion=mae, max_depth=1, max_features=log2, min_samples_leaf=5, min_samples_split=10, n_estimators=1077; total time=   5.6s\n"
     ]
    },
    {
     "name": "stderr",
     "output_type": "stream",
     "text": [
      "C:\\Users\\HP\\AppData\\Local\\Programs\\Python\\Python310\\lib\\site-packages\\sklearn\\ensemble\\_forest.py:407: FutureWarning: Criterion 'mae' was deprecated in v1.0 and will be removed in version 1.2. Use `criterion='absolute_error'` which is equivalent.\n",
      "  warn(\n"
     ]
    },
    {
     "name": "stdout",
     "output_type": "stream",
     "text": [
      "[CV] END ccp_alpha=0.01, criterion=mae, max_depth=1, max_features=log2, min_samples_leaf=5, min_samples_split=10, n_estimators=1077; total time=   4.6s\n"
     ]
    },
    {
     "name": "stderr",
     "output_type": "stream",
     "text": [
      "C:\\Users\\HP\\AppData\\Local\\Programs\\Python\\Python310\\lib\\site-packages\\sklearn\\ensemble\\_forest.py:407: FutureWarning: Criterion 'mae' was deprecated in v1.0 and will be removed in version 1.2. Use `criterion='absolute_error'` which is equivalent.\n",
      "  warn(\n"
     ]
    },
    {
     "name": "stdout",
     "output_type": "stream",
     "text": [
      "[CV] END ccp_alpha=0.01, criterion=mae, max_depth=1, max_features=log2, min_samples_leaf=5, min_samples_split=10, n_estimators=1077; total time=   4.9s\n"
     ]
    },
    {
     "name": "stderr",
     "output_type": "stream",
     "text": [
      "C:\\Users\\HP\\AppData\\Local\\Programs\\Python\\Python310\\lib\\site-packages\\sklearn\\ensemble\\_forest.py:407: FutureWarning: Criterion 'mae' was deprecated in v1.0 and will be removed in version 1.2. Use `criterion='absolute_error'` which is equivalent.\n",
      "  warn(\n"
     ]
    },
    {
     "name": "stdout",
     "output_type": "stream",
     "text": [
      "[CV] END ccp_alpha=0.01, criterion=mae, max_depth=1, max_features=log2, min_samples_leaf=5, min_samples_split=10, n_estimators=1077; total time=   4.5s\n"
     ]
    },
    {
     "name": "stderr",
     "output_type": "stream",
     "text": [
      "C:\\Users\\HP\\AppData\\Local\\Programs\\Python\\Python310\\lib\\site-packages\\sklearn\\ensemble\\_forest.py:407: FutureWarning: Criterion 'mae' was deprecated in v1.0 and will be removed in version 1.2. Use `criterion='absolute_error'` which is equivalent.\n",
      "  warn(\n"
     ]
    },
    {
     "name": "stdout",
     "output_type": "stream",
     "text": [
      "[CV] END ccp_alpha=0.01, criterion=mae, max_depth=1, max_features=log2, min_samples_leaf=5, min_samples_split=10, n_estimators=1077; total time=   5.2s\n"
     ]
    },
    {
     "name": "stderr",
     "output_type": "stream",
     "text": [
      "C:\\Users\\HP\\AppData\\Local\\Programs\\Python\\Python310\\lib\\site-packages\\sklearn\\ensemble\\_forest.py:400: FutureWarning: Criterion 'mse' was deprecated in v1.0 and will be removed in version 1.2. Use `criterion='squared_error'` which is equivalent.\n",
      "  warn(\n"
     ]
    },
    {
     "name": "stdout",
     "output_type": "stream",
     "text": [
      "[CV] END ccp_alpha=0.01, criterion=mse, max_depth=22, max_features=log2, min_samples_leaf=14, min_samples_split=2, n_estimators=466; total time=   1.1s\n"
     ]
    },
    {
     "name": "stderr",
     "output_type": "stream",
     "text": [
      "C:\\Users\\HP\\AppData\\Local\\Programs\\Python\\Python310\\lib\\site-packages\\sklearn\\ensemble\\_forest.py:400: FutureWarning: Criterion 'mse' was deprecated in v1.0 and will be removed in version 1.2. Use `criterion='squared_error'` which is equivalent.\n",
      "  warn(\n"
     ]
    },
    {
     "name": "stdout",
     "output_type": "stream",
     "text": [
      "[CV] END ccp_alpha=0.01, criterion=mse, max_depth=22, max_features=log2, min_samples_leaf=14, min_samples_split=2, n_estimators=466; total time=   1.3s\n"
     ]
    },
    {
     "name": "stderr",
     "output_type": "stream",
     "text": [
      "C:\\Users\\HP\\AppData\\Local\\Programs\\Python\\Python310\\lib\\site-packages\\sklearn\\ensemble\\_forest.py:400: FutureWarning: Criterion 'mse' was deprecated in v1.0 and will be removed in version 1.2. Use `criterion='squared_error'` which is equivalent.\n",
      "  warn(\n"
     ]
    },
    {
     "name": "stdout",
     "output_type": "stream",
     "text": [
      "[CV] END ccp_alpha=0.01, criterion=mse, max_depth=22, max_features=log2, min_samples_leaf=14, min_samples_split=2, n_estimators=466; total time=   1.2s\n"
     ]
    },
    {
     "name": "stderr",
     "output_type": "stream",
     "text": [
      "C:\\Users\\HP\\AppData\\Local\\Programs\\Python\\Python310\\lib\\site-packages\\sklearn\\ensemble\\_forest.py:400: FutureWarning: Criterion 'mse' was deprecated in v1.0 and will be removed in version 1.2. Use `criterion='squared_error'` which is equivalent.\n",
      "  warn(\n"
     ]
    },
    {
     "name": "stdout",
     "output_type": "stream",
     "text": [
      "[CV] END ccp_alpha=0.01, criterion=mse, max_depth=22, max_features=log2, min_samples_leaf=14, min_samples_split=2, n_estimators=466; total time=   1.2s\n"
     ]
    },
    {
     "name": "stderr",
     "output_type": "stream",
     "text": [
      "C:\\Users\\HP\\AppData\\Local\\Programs\\Python\\Python310\\lib\\site-packages\\sklearn\\ensemble\\_forest.py:400: FutureWarning: Criterion 'mse' was deprecated in v1.0 and will be removed in version 1.2. Use `criterion='squared_error'` which is equivalent.\n",
      "  warn(\n"
     ]
    },
    {
     "name": "stdout",
     "output_type": "stream",
     "text": [
      "[CV] END ccp_alpha=0.01, criterion=mse, max_depth=22, max_features=log2, min_samples_leaf=14, min_samples_split=2, n_estimators=466; total time=   1.3s\n"
     ]
    },
    {
     "name": "stderr",
     "output_type": "stream",
     "text": [
      "C:\\Users\\HP\\AppData\\Local\\Programs\\Python\\Python310\\lib\\site-packages\\sklearn\\ensemble\\_forest.py:407: FutureWarning: Criterion 'mae' was deprecated in v1.0 and will be removed in version 1.2. Use `criterion='absolute_error'` which is equivalent.\n",
      "  warn(\n"
     ]
    },
    {
     "name": "stdout",
     "output_type": "stream",
     "text": [
      "[CV] END ccp_alpha=0.0025, criterion=mae, max_depth=1, max_features=sqrt, min_samples_leaf=2, min_samples_split=14, n_estimators=711; total time=   4.1s\n"
     ]
    },
    {
     "name": "stderr",
     "output_type": "stream",
     "text": [
      "C:\\Users\\HP\\AppData\\Local\\Programs\\Python\\Python310\\lib\\site-packages\\sklearn\\ensemble\\_forest.py:407: FutureWarning: Criterion 'mae' was deprecated in v1.0 and will be removed in version 1.2. Use `criterion='absolute_error'` which is equivalent.\n",
      "  warn(\n"
     ]
    },
    {
     "name": "stdout",
     "output_type": "stream",
     "text": [
      "[CV] END ccp_alpha=0.0025, criterion=mae, max_depth=1, max_features=sqrt, min_samples_leaf=2, min_samples_split=14, n_estimators=711; total time=   4.6s\n"
     ]
    },
    {
     "name": "stderr",
     "output_type": "stream",
     "text": [
      "C:\\Users\\HP\\AppData\\Local\\Programs\\Python\\Python310\\lib\\site-packages\\sklearn\\ensemble\\_forest.py:407: FutureWarning: Criterion 'mae' was deprecated in v1.0 and will be removed in version 1.2. Use `criterion='absolute_error'` which is equivalent.\n",
      "  warn(\n"
     ]
    },
    {
     "name": "stdout",
     "output_type": "stream",
     "text": [
      "[CV] END ccp_alpha=0.0025, criterion=mae, max_depth=1, max_features=sqrt, min_samples_leaf=2, min_samples_split=14, n_estimators=711; total time=   4.4s\n"
     ]
    },
    {
     "name": "stderr",
     "output_type": "stream",
     "text": [
      "C:\\Users\\HP\\AppData\\Local\\Programs\\Python\\Python310\\lib\\site-packages\\sklearn\\ensemble\\_forest.py:407: FutureWarning: Criterion 'mae' was deprecated in v1.0 and will be removed in version 1.2. Use `criterion='absolute_error'` which is equivalent.\n",
      "  warn(\n"
     ]
    },
    {
     "name": "stdout",
     "output_type": "stream",
     "text": [
      "[CV] END ccp_alpha=0.0025, criterion=mae, max_depth=1, max_features=sqrt, min_samples_leaf=2, min_samples_split=14, n_estimators=711; total time=   3.5s\n"
     ]
    },
    {
     "name": "stderr",
     "output_type": "stream",
     "text": [
      "C:\\Users\\HP\\AppData\\Local\\Programs\\Python\\Python310\\lib\\site-packages\\sklearn\\ensemble\\_forest.py:407: FutureWarning: Criterion 'mae' was deprecated in v1.0 and will be removed in version 1.2. Use `criterion='absolute_error'` which is equivalent.\n",
      "  warn(\n"
     ]
    },
    {
     "name": "stdout",
     "output_type": "stream",
     "text": [
      "[CV] END ccp_alpha=0.0025, criterion=mae, max_depth=1, max_features=sqrt, min_samples_leaf=2, min_samples_split=14, n_estimators=711; total time=   4.0s\n"
     ]
    },
    {
     "name": "stderr",
     "output_type": "stream",
     "text": [
      "C:\\Users\\HP\\AppData\\Local\\Programs\\Python\\Python310\\lib\\site-packages\\sklearn\\ensemble\\_forest.py:407: FutureWarning: Criterion 'mae' was deprecated in v1.0 and will be removed in version 1.2. Use `criterion='absolute_error'` which is equivalent.\n",
      "  warn(\n",
      "C:\\Users\\HP\\AppData\\Local\\Programs\\Python\\Python310\\lib\\site-packages\\sklearn\\ensemble\\_forest.py:416: FutureWarning: `max_features='auto'` has been deprecated in 1.1 and will be removed in 1.3. To keep the past behaviour, explicitly set `max_features=1.0` or remove this parameter as it is also the default value for RandomForestRegressors and ExtraTreesRegressors.\n",
      "  warn(\n"
     ]
    },
    {
     "name": "stdout",
     "output_type": "stream",
     "text": [
      "[CV] END ccp_alpha=0.005, criterion=mae, max_depth=22, max_features=auto, min_samples_leaf=5, min_samples_split=10, n_estimators=1200; total time=  36.3s\n"
     ]
    },
    {
     "name": "stderr",
     "output_type": "stream",
     "text": [
      "C:\\Users\\HP\\AppData\\Local\\Programs\\Python\\Python310\\lib\\site-packages\\sklearn\\ensemble\\_forest.py:407: FutureWarning: Criterion 'mae' was deprecated in v1.0 and will be removed in version 1.2. Use `criterion='absolute_error'` which is equivalent.\n",
      "  warn(\n",
      "C:\\Users\\HP\\AppData\\Local\\Programs\\Python\\Python310\\lib\\site-packages\\sklearn\\ensemble\\_forest.py:416: FutureWarning: `max_features='auto'` has been deprecated in 1.1 and will be removed in 1.3. To keep the past behaviour, explicitly set `max_features=1.0` or remove this parameter as it is also the default value for RandomForestRegressors and ExtraTreesRegressors.\n",
      "  warn(\n"
     ]
    },
    {
     "name": "stdout",
     "output_type": "stream",
     "text": [
      "[CV] END ccp_alpha=0.005, criterion=mae, max_depth=22, max_features=auto, min_samples_leaf=5, min_samples_split=10, n_estimators=1200; total time=  41.3s\n"
     ]
    },
    {
     "name": "stderr",
     "output_type": "stream",
     "text": [
      "C:\\Users\\HP\\AppData\\Local\\Programs\\Python\\Python310\\lib\\site-packages\\sklearn\\ensemble\\_forest.py:407: FutureWarning: Criterion 'mae' was deprecated in v1.0 and will be removed in version 1.2. Use `criterion='absolute_error'` which is equivalent.\n",
      "  warn(\n",
      "C:\\Users\\HP\\AppData\\Local\\Programs\\Python\\Python310\\lib\\site-packages\\sklearn\\ensemble\\_forest.py:416: FutureWarning: `max_features='auto'` has been deprecated in 1.1 and will be removed in 1.3. To keep the past behaviour, explicitly set `max_features=1.0` or remove this parameter as it is also the default value for RandomForestRegressors and ExtraTreesRegressors.\n",
      "  warn(\n"
     ]
    },
    {
     "name": "stdout",
     "output_type": "stream",
     "text": [
      "[CV] END ccp_alpha=0.005, criterion=mae, max_depth=22, max_features=auto, min_samples_leaf=5, min_samples_split=10, n_estimators=1200; total time=  37.5s\n"
     ]
    },
    {
     "name": "stderr",
     "output_type": "stream",
     "text": [
      "C:\\Users\\HP\\AppData\\Local\\Programs\\Python\\Python310\\lib\\site-packages\\sklearn\\ensemble\\_forest.py:407: FutureWarning: Criterion 'mae' was deprecated in v1.0 and will be removed in version 1.2. Use `criterion='absolute_error'` which is equivalent.\n",
      "  warn(\n",
      "C:\\Users\\HP\\AppData\\Local\\Programs\\Python\\Python310\\lib\\site-packages\\sklearn\\ensemble\\_forest.py:416: FutureWarning: `max_features='auto'` has been deprecated in 1.1 and will be removed in 1.3. To keep the past behaviour, explicitly set `max_features=1.0` or remove this parameter as it is also the default value for RandomForestRegressors and ExtraTreesRegressors.\n",
      "  warn(\n"
     ]
    },
    {
     "name": "stdout",
     "output_type": "stream",
     "text": [
      "[CV] END ccp_alpha=0.005, criterion=mae, max_depth=22, max_features=auto, min_samples_leaf=5, min_samples_split=10, n_estimators=1200; total time=  34.7s\n"
     ]
    },
    {
     "name": "stderr",
     "output_type": "stream",
     "text": [
      "C:\\Users\\HP\\AppData\\Local\\Programs\\Python\\Python310\\lib\\site-packages\\sklearn\\ensemble\\_forest.py:407: FutureWarning: Criterion 'mae' was deprecated in v1.0 and will be removed in version 1.2. Use `criterion='absolute_error'` which is equivalent.\n",
      "  warn(\n",
      "C:\\Users\\HP\\AppData\\Local\\Programs\\Python\\Python310\\lib\\site-packages\\sklearn\\ensemble\\_forest.py:416: FutureWarning: `max_features='auto'` has been deprecated in 1.1 and will be removed in 1.3. To keep the past behaviour, explicitly set `max_features=1.0` or remove this parameter as it is also the default value for RandomForestRegressors and ExtraTreesRegressors.\n",
      "  warn(\n"
     ]
    },
    {
     "name": "stdout",
     "output_type": "stream",
     "text": [
      "[CV] END ccp_alpha=0.005, criterion=mae, max_depth=22, max_features=auto, min_samples_leaf=5, min_samples_split=10, n_estimators=1200; total time=  35.6s\n"
     ]
    },
    {
     "name": "stderr",
     "output_type": "stream",
     "text": [
      "C:\\Users\\HP\\AppData\\Local\\Programs\\Python\\Python310\\lib\\site-packages\\sklearn\\ensemble\\_forest.py:407: FutureWarning: Criterion 'mae' was deprecated in v1.0 and will be removed in version 1.2. Use `criterion='absolute_error'` which is equivalent.\n",
      "  warn(\n",
      "C:\\Users\\HP\\AppData\\Local\\Programs\\Python\\Python310\\lib\\site-packages\\sklearn\\ensemble\\_forest.py:416: FutureWarning: `max_features='auto'` has been deprecated in 1.1 and will be removed in 1.3. To keep the past behaviour, explicitly set `max_features=1.0` or remove this parameter as it is also the default value for RandomForestRegressors and ExtraTreesRegressors.\n",
      "  warn(\n"
     ]
    },
    {
     "name": "stdout",
     "output_type": "stream",
     "text": [
      "[CV] END ccp_alpha=0.005, criterion=mae, max_depth=1, max_features=auto, min_samples_leaf=14, min_samples_split=5, n_estimators=955; total time=   9.9s\n"
     ]
    },
    {
     "name": "stderr",
     "output_type": "stream",
     "text": [
      "C:\\Users\\HP\\AppData\\Local\\Programs\\Python\\Python310\\lib\\site-packages\\sklearn\\ensemble\\_forest.py:407: FutureWarning: Criterion 'mae' was deprecated in v1.0 and will be removed in version 1.2. Use `criterion='absolute_error'` which is equivalent.\n",
      "  warn(\n",
      "C:\\Users\\HP\\AppData\\Local\\Programs\\Python\\Python310\\lib\\site-packages\\sklearn\\ensemble\\_forest.py:416: FutureWarning: `max_features='auto'` has been deprecated in 1.1 and will be removed in 1.3. To keep the past behaviour, explicitly set `max_features=1.0` or remove this parameter as it is also the default value for RandomForestRegressors and ExtraTreesRegressors.\n",
      "  warn(\n"
     ]
    },
    {
     "name": "stdout",
     "output_type": "stream",
     "text": [
      "[CV] END ccp_alpha=0.005, criterion=mae, max_depth=1, max_features=auto, min_samples_leaf=14, min_samples_split=5, n_estimators=955; total time=  10.4s\n"
     ]
    },
    {
     "name": "stderr",
     "output_type": "stream",
     "text": [
      "C:\\Users\\HP\\AppData\\Local\\Programs\\Python\\Python310\\lib\\site-packages\\sklearn\\ensemble\\_forest.py:407: FutureWarning: Criterion 'mae' was deprecated in v1.0 and will be removed in version 1.2. Use `criterion='absolute_error'` which is equivalent.\n",
      "  warn(\n",
      "C:\\Users\\HP\\AppData\\Local\\Programs\\Python\\Python310\\lib\\site-packages\\sklearn\\ensemble\\_forest.py:416: FutureWarning: `max_features='auto'` has been deprecated in 1.1 and will be removed in 1.3. To keep the past behaviour, explicitly set `max_features=1.0` or remove this parameter as it is also the default value for RandomForestRegressors and ExtraTreesRegressors.\n",
      "  warn(\n"
     ]
    },
    {
     "name": "stdout",
     "output_type": "stream",
     "text": [
      "[CV] END ccp_alpha=0.005, criterion=mae, max_depth=1, max_features=auto, min_samples_leaf=14, min_samples_split=5, n_estimators=955; total time=  10.6s\n"
     ]
    },
    {
     "name": "stderr",
     "output_type": "stream",
     "text": [
      "C:\\Users\\HP\\AppData\\Local\\Programs\\Python\\Python310\\lib\\site-packages\\sklearn\\ensemble\\_forest.py:407: FutureWarning: Criterion 'mae' was deprecated in v1.0 and will be removed in version 1.2. Use `criterion='absolute_error'` which is equivalent.\n",
      "  warn(\n",
      "C:\\Users\\HP\\AppData\\Local\\Programs\\Python\\Python310\\lib\\site-packages\\sklearn\\ensemble\\_forest.py:416: FutureWarning: `max_features='auto'` has been deprecated in 1.1 and will be removed in 1.3. To keep the past behaviour, explicitly set `max_features=1.0` or remove this parameter as it is also the default value for RandomForestRegressors and ExtraTreesRegressors.\n",
      "  warn(\n"
     ]
    },
    {
     "name": "stdout",
     "output_type": "stream",
     "text": [
      "[CV] END ccp_alpha=0.005, criterion=mae, max_depth=1, max_features=auto, min_samples_leaf=14, min_samples_split=5, n_estimators=955; total time=   9.9s\n"
     ]
    },
    {
     "name": "stderr",
     "output_type": "stream",
     "text": [
      "C:\\Users\\HP\\AppData\\Local\\Programs\\Python\\Python310\\lib\\site-packages\\sklearn\\ensemble\\_forest.py:407: FutureWarning: Criterion 'mae' was deprecated in v1.0 and will be removed in version 1.2. Use `criterion='absolute_error'` which is equivalent.\n",
      "  warn(\n",
      "C:\\Users\\HP\\AppData\\Local\\Programs\\Python\\Python310\\lib\\site-packages\\sklearn\\ensemble\\_forest.py:416: FutureWarning: `max_features='auto'` has been deprecated in 1.1 and will be removed in 1.3. To keep the past behaviour, explicitly set `max_features=1.0` or remove this parameter as it is also the default value for RandomForestRegressors and ExtraTreesRegressors.\n",
      "  warn(\n"
     ]
    },
    {
     "name": "stdout",
     "output_type": "stream",
     "text": [
      "[CV] END ccp_alpha=0.005, criterion=mae, max_depth=1, max_features=auto, min_samples_leaf=14, min_samples_split=5, n_estimators=955; total time=  10.5s\n"
     ]
    },
    {
     "name": "stderr",
     "output_type": "stream",
     "text": [
      "C:\\Users\\HP\\AppData\\Local\\Programs\\Python\\Python310\\lib\\site-packages\\sklearn\\ensemble\\_forest.py:407: FutureWarning: Criterion 'mae' was deprecated in v1.0 and will be removed in version 1.2. Use `criterion='absolute_error'` which is equivalent.\n",
      "  warn(\n"
     ]
    },
    {
     "name": "stdout",
     "output_type": "stream",
     "text": [
      "Fitting 5 folds for each of 10 candidates, totalling 50 fits\n",
      "[CV] END ccp_alpha=0.005, criterion=mse, max_depth=22, max_features=auto, min_samples_leaf=14, min_samples_split=14; total time=   0.0s\n",
      "[CV] END ccp_alpha=0.005, criterion=mse, max_depth=22, max_features=auto, min_samples_leaf=14, min_samples_split=14; total time=   0.0s\n",
      "[CV] END ccp_alpha=0.005, criterion=mse, max_depth=22, max_features=auto, min_samples_leaf=14, min_samples_split=14; total time=   0.0s\n",
      "[CV] END ccp_alpha=0.005, criterion=mse, max_depth=22, max_features=auto, min_samples_leaf=14, min_samples_split=14; total time=   0.0s\n",
      "[CV] END ccp_alpha=0.005, criterion=mse, max_depth=22, max_features=auto, min_samples_leaf=14, min_samples_split=14; total time=   0.0s\n",
      "[CV] END ccp_alpha=0.01, criterion=mae, max_depth=22, max_features=log2, min_samples_leaf=2, min_samples_split=5; total time=   0.0s\n",
      "[CV] END ccp_alpha=0.01, criterion=mae, max_depth=22, max_features=log2, min_samples_leaf=2, min_samples_split=5; total time=   0.0s\n",
      "[CV] END ccp_alpha=0.01, criterion=mae, max_depth=22, max_features=log2, min_samples_leaf=2, min_samples_split=5; total time=   0.0s\n",
      "[CV] END ccp_alpha=0.01, criterion=mae, max_depth=22, max_features=log2, min_samples_leaf=2, min_samples_split=5; total time=   0.0s\n",
      "[CV] END ccp_alpha=0.01, criterion=mae, max_depth=22, max_features=log2, min_samples_leaf=2, min_samples_split=5; total time=   0.0s\n",
      "[CV] END ccp_alpha=0.0075, criterion=mse, max_depth=1, max_features=sqrt, min_samples_leaf=10, min_samples_split=2; total time=   0.0s\n",
      "[CV] END ccp_alpha=0.0075, criterion=mse, max_depth=1, max_features=sqrt, min_samples_leaf=10, min_samples_split=2; total time=   0.0s\n",
      "[CV] END ccp_alpha=0.0075, criterion=mse, max_depth=1, max_features=sqrt, min_samples_leaf=10, min_samples_split=2; total time=   0.0s\n",
      "[CV] END ccp_alpha=0.0075, criterion=mse, max_depth=1, max_features=sqrt, min_samples_leaf=10, min_samples_split=2; total time=   0.0s\n",
      "[CV] END ccp_alpha=0.0075, criterion=mse, max_depth=1, max_features=sqrt, min_samples_leaf=10, min_samples_split=2; total time=   0.0s\n"
     ]
    },
    {
     "name": "stderr",
     "output_type": "stream",
     "text": [
      "C:\\Users\\HP\\AppData\\Local\\Programs\\Python\\Python310\\lib\\site-packages\\sklearn\\tree\\_classes.py:306: FutureWarning: `max_features='auto'` has been deprecated in 1.1 and will be removed in 1.3. To keep the past behaviour, explicitly set `max_features=1.0'`.\n",
      "  warnings.warn(\n",
      "C:\\Users\\HP\\AppData\\Local\\Programs\\Python\\Python310\\lib\\site-packages\\sklearn\\tree\\_classes.py:397: FutureWarning: Criterion 'mse' was deprecated in v1.0 and will be removed in version 1.2. Use `criterion='squared_error'` which is equivalent.\n",
      "  warnings.warn(\n",
      "C:\\Users\\HP\\AppData\\Local\\Programs\\Python\\Python310\\lib\\site-packages\\sklearn\\tree\\_classes.py:306: FutureWarning: `max_features='auto'` has been deprecated in 1.1 and will be removed in 1.3. To keep the past behaviour, explicitly set `max_features=1.0'`.\n",
      "  warnings.warn(\n",
      "C:\\Users\\HP\\AppData\\Local\\Programs\\Python\\Python310\\lib\\site-packages\\sklearn\\tree\\_classes.py:397: FutureWarning: Criterion 'mse' was deprecated in v1.0 and will be removed in version 1.2. Use `criterion='squared_error'` which is equivalent.\n",
      "  warnings.warn(\n",
      "C:\\Users\\HP\\AppData\\Local\\Programs\\Python\\Python310\\lib\\site-packages\\sklearn\\tree\\_classes.py:306: FutureWarning: `max_features='auto'` has been deprecated in 1.1 and will be removed in 1.3. To keep the past behaviour, explicitly set `max_features=1.0'`.\n",
      "  warnings.warn(\n",
      "C:\\Users\\HP\\AppData\\Local\\Programs\\Python\\Python310\\lib\\site-packages\\sklearn\\tree\\_classes.py:397: FutureWarning: Criterion 'mse' was deprecated in v1.0 and will be removed in version 1.2. Use `criterion='squared_error'` which is equivalent.\n",
      "  warnings.warn(\n",
      "C:\\Users\\HP\\AppData\\Local\\Programs\\Python\\Python310\\lib\\site-packages\\sklearn\\tree\\_classes.py:306: FutureWarning: `max_features='auto'` has been deprecated in 1.1 and will be removed in 1.3. To keep the past behaviour, explicitly set `max_features=1.0'`.\n",
      "  warnings.warn(\n",
      "C:\\Users\\HP\\AppData\\Local\\Programs\\Python\\Python310\\lib\\site-packages\\sklearn\\tree\\_classes.py:397: FutureWarning: Criterion 'mse' was deprecated in v1.0 and will be removed in version 1.2. Use `criterion='squared_error'` which is equivalent.\n",
      "  warnings.warn(\n",
      "C:\\Users\\HP\\AppData\\Local\\Programs\\Python\\Python310\\lib\\site-packages\\sklearn\\tree\\_classes.py:306: FutureWarning: `max_features='auto'` has been deprecated in 1.1 and will be removed in 1.3. To keep the past behaviour, explicitly set `max_features=1.0'`.\n",
      "  warnings.warn(\n",
      "C:\\Users\\HP\\AppData\\Local\\Programs\\Python\\Python310\\lib\\site-packages\\sklearn\\tree\\_classes.py:397: FutureWarning: Criterion 'mse' was deprecated in v1.0 and will be removed in version 1.2. Use `criterion='squared_error'` which is equivalent.\n",
      "  warnings.warn(\n",
      "C:\\Users\\HP\\AppData\\Local\\Programs\\Python\\Python310\\lib\\site-packages\\sklearn\\tree\\_classes.py:404: FutureWarning: Criterion 'mae' was deprecated in v1.0 and will be removed in version 1.2. Use `criterion='absolute_error'` which is equivalent.\n",
      "  warnings.warn(\n",
      "C:\\Users\\HP\\AppData\\Local\\Programs\\Python\\Python310\\lib\\site-packages\\sklearn\\tree\\_classes.py:404: FutureWarning: Criterion 'mae' was deprecated in v1.0 and will be removed in version 1.2. Use `criterion='absolute_error'` which is equivalent.\n",
      "  warnings.warn(\n",
      "C:\\Users\\HP\\AppData\\Local\\Programs\\Python\\Python310\\lib\\site-packages\\sklearn\\tree\\_classes.py:404: FutureWarning: Criterion 'mae' was deprecated in v1.0 and will be removed in version 1.2. Use `criterion='absolute_error'` which is equivalent.\n",
      "  warnings.warn(\n",
      "C:\\Users\\HP\\AppData\\Local\\Programs\\Python\\Python310\\lib\\site-packages\\sklearn\\tree\\_classes.py:404: FutureWarning: Criterion 'mae' was deprecated in v1.0 and will be removed in version 1.2. Use `criterion='absolute_error'` which is equivalent.\n",
      "  warnings.warn(\n",
      "C:\\Users\\HP\\AppData\\Local\\Programs\\Python\\Python310\\lib\\site-packages\\sklearn\\tree\\_classes.py:404: FutureWarning: Criterion 'mae' was deprecated in v1.0 and will be removed in version 1.2. Use `criterion='absolute_error'` which is equivalent.\n",
      "  warnings.warn(\n",
      "C:\\Users\\HP\\AppData\\Local\\Programs\\Python\\Python310\\lib\\site-packages\\sklearn\\tree\\_classes.py:397: FutureWarning: Criterion 'mse' was deprecated in v1.0 and will be removed in version 1.2. Use `criterion='squared_error'` which is equivalent.\n",
      "  warnings.warn(\n",
      "C:\\Users\\HP\\AppData\\Local\\Programs\\Python\\Python310\\lib\\site-packages\\sklearn\\tree\\_classes.py:397: FutureWarning: Criterion 'mse' was deprecated in v1.0 and will be removed in version 1.2. Use `criterion='squared_error'` which is equivalent.\n",
      "  warnings.warn(\n",
      "C:\\Users\\HP\\AppData\\Local\\Programs\\Python\\Python310\\lib\\site-packages\\sklearn\\tree\\_classes.py:397: FutureWarning: Criterion 'mse' was deprecated in v1.0 and will be removed in version 1.2. Use `criterion='squared_error'` which is equivalent.\n",
      "  warnings.warn(\n",
      "C:\\Users\\HP\\AppData\\Local\\Programs\\Python\\Python310\\lib\\site-packages\\sklearn\\tree\\_classes.py:397: FutureWarning: Criterion 'mse' was deprecated in v1.0 and will be removed in version 1.2. Use `criterion='squared_error'` which is equivalent.\n",
      "  warnings.warn(\n",
      "C:\\Users\\HP\\AppData\\Local\\Programs\\Python\\Python310\\lib\\site-packages\\sklearn\\tree\\_classes.py:397: FutureWarning: Criterion 'mse' was deprecated in v1.0 and will be removed in version 1.2. Use `criterion='squared_error'` which is equivalent.\n",
      "  warnings.warn(\n",
      "C:\\Users\\HP\\AppData\\Local\\Programs\\Python\\Python310\\lib\\site-packages\\sklearn\\tree\\_classes.py:404: FutureWarning: Criterion 'mae' was deprecated in v1.0 and will be removed in version 1.2. Use `criterion='absolute_error'` which is equivalent.\n",
      "  warnings.warn(\n",
      "C:\\Users\\HP\\AppData\\Local\\Programs\\Python\\Python310\\lib\\site-packages\\sklearn\\tree\\_classes.py:404: FutureWarning: Criterion 'mae' was deprecated in v1.0 and will be removed in version 1.2. Use `criterion='absolute_error'` which is equivalent.\n",
      "  warnings.warn(\n",
      "C:\\Users\\HP\\AppData\\Local\\Programs\\Python\\Python310\\lib\\site-packages\\sklearn\\tree\\_classes.py:404: FutureWarning: Criterion 'mae' was deprecated in v1.0 and will be removed in version 1.2. Use `criterion='absolute_error'` which is equivalent.\n",
      "  warnings.warn(\n",
      "C:\\Users\\HP\\AppData\\Local\\Programs\\Python\\Python310\\lib\\site-packages\\sklearn\\tree\\_classes.py:404: FutureWarning: Criterion 'mae' was deprecated in v1.0 and will be removed in version 1.2. Use `criterion='absolute_error'` which is equivalent.\n",
      "  warnings.warn(\n"
     ]
    },
    {
     "name": "stdout",
     "output_type": "stream",
     "text": [
      "[CV] END ccp_alpha=0.005, criterion=mae, max_depth=8, max_features=sqrt, min_samples_leaf=10, min_samples_split=2; total time=   0.0s\n",
      "[CV] END ccp_alpha=0.005, criterion=mae, max_depth=8, max_features=sqrt, min_samples_leaf=10, min_samples_split=2; total time=   0.0s\n",
      "[CV] END ccp_alpha=0.005, criterion=mae, max_depth=8, max_features=sqrt, min_samples_leaf=10, min_samples_split=2; total time=   0.0s\n",
      "[CV] END ccp_alpha=0.005, criterion=mae, max_depth=8, max_features=sqrt, min_samples_leaf=10, min_samples_split=2; total time=   0.0s\n",
      "[CV] END ccp_alpha=0.005, criterion=mae, max_depth=8, max_features=sqrt, min_samples_leaf=10, min_samples_split=2; total time=   0.0s\n",
      "[CV] END ccp_alpha=0.0025, criterion=mae, max_depth=22, max_features=auto, min_samples_leaf=10, min_samples_split=14; total time=   0.0s\n",
      "[CV] END ccp_alpha=0.0025, criterion=mae, max_depth=22, max_features=auto, min_samples_leaf=10, min_samples_split=14; total time=   0.0s\n"
     ]
    },
    {
     "name": "stderr",
     "output_type": "stream",
     "text": [
      "C:\\Users\\HP\\AppData\\Local\\Programs\\Python\\Python310\\lib\\site-packages\\sklearn\\tree\\_classes.py:404: FutureWarning: Criterion 'mae' was deprecated in v1.0 and will be removed in version 1.2. Use `criterion='absolute_error'` which is equivalent.\n",
      "  warnings.warn(\n",
      "C:\\Users\\HP\\AppData\\Local\\Programs\\Python\\Python310\\lib\\site-packages\\sklearn\\tree\\_classes.py:306: FutureWarning: `max_features='auto'` has been deprecated in 1.1 and will be removed in 1.3. To keep the past behaviour, explicitly set `max_features=1.0'`.\n",
      "  warnings.warn(\n",
      "C:\\Users\\HP\\AppData\\Local\\Programs\\Python\\Python310\\lib\\site-packages\\sklearn\\tree\\_classes.py:404: FutureWarning: Criterion 'mae' was deprecated in v1.0 and will be removed in version 1.2. Use `criterion='absolute_error'` which is equivalent.\n",
      "  warnings.warn(\n",
      "C:\\Users\\HP\\AppData\\Local\\Programs\\Python\\Python310\\lib\\site-packages\\sklearn\\tree\\_classes.py:306: FutureWarning: `max_features='auto'` has been deprecated in 1.1 and will be removed in 1.3. To keep the past behaviour, explicitly set `max_features=1.0'`.\n",
      "  warnings.warn(\n",
      "C:\\Users\\HP\\AppData\\Local\\Programs\\Python\\Python310\\lib\\site-packages\\sklearn\\tree\\_classes.py:404: FutureWarning: Criterion 'mae' was deprecated in v1.0 and will be removed in version 1.2. Use `criterion='absolute_error'` which is equivalent.\n",
      "  warnings.warn(\n",
      "C:\\Users\\HP\\AppData\\Local\\Programs\\Python\\Python310\\lib\\site-packages\\sklearn\\tree\\_classes.py:306: FutureWarning: `max_features='auto'` has been deprecated in 1.1 and will be removed in 1.3. To keep the past behaviour, explicitly set `max_features=1.0'`.\n",
      "  warnings.warn(\n",
      "C:\\Users\\HP\\AppData\\Local\\Programs\\Python\\Python310\\lib\\site-packages\\sklearn\\tree\\_classes.py:404: FutureWarning: Criterion 'mae' was deprecated in v1.0 and will be removed in version 1.2. Use `criterion='absolute_error'` which is equivalent.\n",
      "  warnings.warn(\n"
     ]
    },
    {
     "name": "stdout",
     "output_type": "stream",
     "text": [
      "[CV] END ccp_alpha=0.0025, criterion=mae, max_depth=22, max_features=auto, min_samples_leaf=10, min_samples_split=14; total time=   0.0s\n",
      "[CV] END ccp_alpha=0.0025, criterion=mae, max_depth=22, max_features=auto, min_samples_leaf=10, min_samples_split=14; total time=   0.0s\n",
      "[CV] END ccp_alpha=0.0025, criterion=mae, max_depth=22, max_features=auto, min_samples_leaf=10, min_samples_split=14; total time=   0.0s\n",
      "[CV] END ccp_alpha=0.0025, criterion=mse, max_depth=1, max_features=auto, min_samples_leaf=2, min_samples_split=5; total time=   0.0s\n",
      "[CV] END ccp_alpha=0.0025, criterion=mse, max_depth=1, max_features=auto, min_samples_leaf=2, min_samples_split=5; total time=   0.0s\n",
      "[CV] END ccp_alpha=0.0025, criterion=mse, max_depth=1, max_features=auto, min_samples_leaf=2, min_samples_split=5; total time=   0.0s\n",
      "[CV] END ccp_alpha=0.0025, criterion=mse, max_depth=1, max_features=auto, min_samples_leaf=2, min_samples_split=5; total time=   0.0s\n",
      "[CV] END ccp_alpha=0.0025, criterion=mse, max_depth=1, max_features=auto, min_samples_leaf=2, min_samples_split=5; total time=   0.0s\n",
      "[CV] END ccp_alpha=0.005, criterion=mse, max_depth=22, max_features=log2, min_samples_leaf=10, min_samples_split=10; total time=   0.0s\n",
      "[CV] END ccp_alpha=0.005, criterion=mse, max_depth=22, max_features=log2, min_samples_leaf=10, min_samples_split=10; total time=   0.0s\n",
      "[CV] END ccp_alpha=0.005, criterion=mse, max_depth=22, max_features=log2, min_samples_leaf=10, min_samples_split=10; total time=   0.0s\n",
      "[CV] END ccp_alpha=0.005, criterion=mse, max_depth=22, max_features=log2, min_samples_leaf=10, min_samples_split=10; total time=   0.0s\n",
      "[CV] END ccp_alpha=0.005, criterion=mse, max_depth=22, max_features=log2, min_samples_leaf=10, min_samples_split=10; total time=   0.0s\n",
      "[CV] END ccp_alpha=0.0125, criterion=mse, max_depth=30, max_features=sqrt, min_samples_leaf=10, min_samples_split=14; total time=   0.0s\n",
      "[CV] END ccp_alpha=0.0125, criterion=mse, max_depth=30, max_features=sqrt, min_samples_leaf=10, min_samples_split=14; total time=   0.0s\n"
     ]
    },
    {
     "name": "stderr",
     "output_type": "stream",
     "text": [
      "C:\\Users\\HP\\AppData\\Local\\Programs\\Python\\Python310\\lib\\site-packages\\sklearn\\tree\\_classes.py:306: FutureWarning: `max_features='auto'` has been deprecated in 1.1 and will be removed in 1.3. To keep the past behaviour, explicitly set `max_features=1.0'`.\n",
      "  warnings.warn(\n",
      "C:\\Users\\HP\\AppData\\Local\\Programs\\Python\\Python310\\lib\\site-packages\\sklearn\\tree\\_classes.py:404: FutureWarning: Criterion 'mae' was deprecated in v1.0 and will be removed in version 1.2. Use `criterion='absolute_error'` which is equivalent.\n",
      "  warnings.warn(\n",
      "C:\\Users\\HP\\AppData\\Local\\Programs\\Python\\Python310\\lib\\site-packages\\sklearn\\tree\\_classes.py:306: FutureWarning: `max_features='auto'` has been deprecated in 1.1 and will be removed in 1.3. To keep the past behaviour, explicitly set `max_features=1.0'`.\n",
      "  warnings.warn(\n",
      "C:\\Users\\HP\\AppData\\Local\\Programs\\Python\\Python310\\lib\\site-packages\\sklearn\\tree\\_classes.py:404: FutureWarning: Criterion 'mae' was deprecated in v1.0 and will be removed in version 1.2. Use `criterion='absolute_error'` which is equivalent.\n",
      "  warnings.warn(\n",
      "C:\\Users\\HP\\AppData\\Local\\Programs\\Python\\Python310\\lib\\site-packages\\sklearn\\tree\\_classes.py:306: FutureWarning: `max_features='auto'` has been deprecated in 1.1 and will be removed in 1.3. To keep the past behaviour, explicitly set `max_features=1.0'`.\n",
      "  warnings.warn(\n",
      "C:\\Users\\HP\\AppData\\Local\\Programs\\Python\\Python310\\lib\\site-packages\\sklearn\\tree\\_classes.py:397: FutureWarning: Criterion 'mse' was deprecated in v1.0 and will be removed in version 1.2. Use `criterion='squared_error'` which is equivalent.\n",
      "  warnings.warn(\n",
      "C:\\Users\\HP\\AppData\\Local\\Programs\\Python\\Python310\\lib\\site-packages\\sklearn\\tree\\_classes.py:306: FutureWarning: `max_features='auto'` has been deprecated in 1.1 and will be removed in 1.3. To keep the past behaviour, explicitly set `max_features=1.0'`.\n",
      "  warnings.warn(\n",
      "C:\\Users\\HP\\AppData\\Local\\Programs\\Python\\Python310\\lib\\site-packages\\sklearn\\tree\\_classes.py:397: FutureWarning: Criterion 'mse' was deprecated in v1.0 and will be removed in version 1.2. Use `criterion='squared_error'` which is equivalent.\n",
      "  warnings.warn(\n",
      "C:\\Users\\HP\\AppData\\Local\\Programs\\Python\\Python310\\lib\\site-packages\\sklearn\\tree\\_classes.py:306: FutureWarning: `max_features='auto'` has been deprecated in 1.1 and will be removed in 1.3. To keep the past behaviour, explicitly set `max_features=1.0'`.\n",
      "  warnings.warn(\n",
      "C:\\Users\\HP\\AppData\\Local\\Programs\\Python\\Python310\\lib\\site-packages\\sklearn\\tree\\_classes.py:397: FutureWarning: Criterion 'mse' was deprecated in v1.0 and will be removed in version 1.2. Use `criterion='squared_error'` which is equivalent.\n",
      "  warnings.warn(\n",
      "C:\\Users\\HP\\AppData\\Local\\Programs\\Python\\Python310\\lib\\site-packages\\sklearn\\tree\\_classes.py:306: FutureWarning: `max_features='auto'` has been deprecated in 1.1 and will be removed in 1.3. To keep the past behaviour, explicitly set `max_features=1.0'`.\n",
      "  warnings.warn(\n",
      "C:\\Users\\HP\\AppData\\Local\\Programs\\Python\\Python310\\lib\\site-packages\\sklearn\\tree\\_classes.py:397: FutureWarning: Criterion 'mse' was deprecated in v1.0 and will be removed in version 1.2. Use `criterion='squared_error'` which is equivalent.\n",
      "  warnings.warn(\n",
      "C:\\Users\\HP\\AppData\\Local\\Programs\\Python\\Python310\\lib\\site-packages\\sklearn\\tree\\_classes.py:306: FutureWarning: `max_features='auto'` has been deprecated in 1.1 and will be removed in 1.3. To keep the past behaviour, explicitly set `max_features=1.0'`.\n",
      "  warnings.warn(\n",
      "C:\\Users\\HP\\AppData\\Local\\Programs\\Python\\Python310\\lib\\site-packages\\sklearn\\tree\\_classes.py:397: FutureWarning: Criterion 'mse' was deprecated in v1.0 and will be removed in version 1.2. Use `criterion='squared_error'` which is equivalent.\n",
      "  warnings.warn(\n",
      "C:\\Users\\HP\\AppData\\Local\\Programs\\Python\\Python310\\lib\\site-packages\\sklearn\\tree\\_classes.py:397: FutureWarning: Criterion 'mse' was deprecated in v1.0 and will be removed in version 1.2. Use `criterion='squared_error'` which is equivalent.\n",
      "  warnings.warn(\n",
      "C:\\Users\\HP\\AppData\\Local\\Programs\\Python\\Python310\\lib\\site-packages\\sklearn\\tree\\_classes.py:397: FutureWarning: Criterion 'mse' was deprecated in v1.0 and will be removed in version 1.2. Use `criterion='squared_error'` which is equivalent.\n",
      "  warnings.warn(\n",
      "C:\\Users\\HP\\AppData\\Local\\Programs\\Python\\Python310\\lib\\site-packages\\sklearn\\tree\\_classes.py:397: FutureWarning: Criterion 'mse' was deprecated in v1.0 and will be removed in version 1.2. Use `criterion='squared_error'` which is equivalent.\n",
      "  warnings.warn(\n",
      "C:\\Users\\HP\\AppData\\Local\\Programs\\Python\\Python310\\lib\\site-packages\\sklearn\\tree\\_classes.py:397: FutureWarning: Criterion 'mse' was deprecated in v1.0 and will be removed in version 1.2. Use `criterion='squared_error'` which is equivalent.\n",
      "  warnings.warn(\n",
      "C:\\Users\\HP\\AppData\\Local\\Programs\\Python\\Python310\\lib\\site-packages\\sklearn\\tree\\_classes.py:397: FutureWarning: Criterion 'mse' was deprecated in v1.0 and will be removed in version 1.2. Use `criterion='squared_error'` which is equivalent.\n",
      "  warnings.warn(\n",
      "C:\\Users\\HP\\AppData\\Local\\Programs\\Python\\Python310\\lib\\site-packages\\sklearn\\tree\\_classes.py:397: FutureWarning: Criterion 'mse' was deprecated in v1.0 and will be removed in version 1.2. Use `criterion='squared_error'` which is equivalent.\n",
      "  warnings.warn(\n",
      "C:\\Users\\HP\\AppData\\Local\\Programs\\Python\\Python310\\lib\\site-packages\\sklearn\\tree\\_classes.py:397: FutureWarning: Criterion 'mse' was deprecated in v1.0 and will be removed in version 1.2. Use `criterion='squared_error'` which is equivalent.\n",
      "  warnings.warn(\n"
     ]
    },
    {
     "name": "stdout",
     "output_type": "stream",
     "text": [
      "[CV] END ccp_alpha=0.0125, criterion=mse, max_depth=30, max_features=sqrt, min_samples_leaf=10, min_samples_split=14; total time=   0.0s\n",
      "[CV] END ccp_alpha=0.0125, criterion=mse, max_depth=30, max_features=sqrt, min_samples_leaf=10, min_samples_split=14; total time=   0.0s\n",
      "[CV] END ccp_alpha=0.0125, criterion=mse, max_depth=30, max_features=sqrt, min_samples_leaf=10, min_samples_split=14; total time=   0.0s\n",
      "[CV] END ccp_alpha=0.0075, criterion=mse, max_depth=15, max_features=auto, min_samples_leaf=10, min_samples_split=5; total time=   0.0s\n",
      "[CV] END ccp_alpha=0.0075, criterion=mse, max_depth=15, max_features=auto, min_samples_leaf=10, min_samples_split=5; total time=   0.0s\n",
      "[CV] END ccp_alpha=0.0075, criterion=mse, max_depth=15, max_features=auto, min_samples_leaf=10, min_samples_split=5; total time=   0.0s\n",
      "[CV] END ccp_alpha=0.0075, criterion=mse, max_depth=15, max_features=auto, min_samples_leaf=10, min_samples_split=5; total time=   0.0s\n",
      "[CV] END ccp_alpha=0.0075, criterion=mse, max_depth=15, max_features=auto, min_samples_leaf=10, min_samples_split=5; total time=   0.0s\n",
      "[CV] END ccp_alpha=0.0075, criterion=mae, max_depth=1, max_features=sqrt, min_samples_leaf=5, min_samples_split=10; total time=   0.0s\n",
      "[CV] END ccp_alpha=0.0075, criterion=mae, max_depth=1, max_features=sqrt, min_samples_leaf=5, min_samples_split=10; total time=   0.0s\n",
      "[CV] END ccp_alpha=0.0075, criterion=mae, max_depth=1, max_features=sqrt, min_samples_leaf=5, min_samples_split=10; total time=   0.0s\n",
      "[CV] END ccp_alpha=0.0075, criterion=mae, max_depth=1, max_features=sqrt, min_samples_leaf=5, min_samples_split=10; total time=   0.0s\n",
      "[CV] END ccp_alpha=0.0075, criterion=mae, max_depth=1, max_features=sqrt, min_samples_leaf=5, min_samples_split=10; total time=   0.0s\n"
     ]
    },
    {
     "name": "stderr",
     "output_type": "stream",
     "text": [
      "C:\\Users\\HP\\AppData\\Local\\Programs\\Python\\Python310\\lib\\site-packages\\sklearn\\tree\\_classes.py:397: FutureWarning: Criterion 'mse' was deprecated in v1.0 and will be removed in version 1.2. Use `criterion='squared_error'` which is equivalent.\n",
      "  warnings.warn(\n",
      "C:\\Users\\HP\\AppData\\Local\\Programs\\Python\\Python310\\lib\\site-packages\\sklearn\\tree\\_classes.py:397: FutureWarning: Criterion 'mse' was deprecated in v1.0 and will be removed in version 1.2. Use `criterion='squared_error'` which is equivalent.\n",
      "  warnings.warn(\n",
      "C:\\Users\\HP\\AppData\\Local\\Programs\\Python\\Python310\\lib\\site-packages\\sklearn\\tree\\_classes.py:397: FutureWarning: Criterion 'mse' was deprecated in v1.0 and will be removed in version 1.2. Use `criterion='squared_error'` which is equivalent.\n",
      "  warnings.warn(\n",
      "C:\\Users\\HP\\AppData\\Local\\Programs\\Python\\Python310\\lib\\site-packages\\sklearn\\tree\\_classes.py:306: FutureWarning: `max_features='auto'` has been deprecated in 1.1 and will be removed in 1.3. To keep the past behaviour, explicitly set `max_features=1.0'`.\n",
      "  warnings.warn(\n",
      "C:\\Users\\HP\\AppData\\Local\\Programs\\Python\\Python310\\lib\\site-packages\\sklearn\\tree\\_classes.py:397: FutureWarning: Criterion 'mse' was deprecated in v1.0 and will be removed in version 1.2. Use `criterion='squared_error'` which is equivalent.\n",
      "  warnings.warn(\n",
      "C:\\Users\\HP\\AppData\\Local\\Programs\\Python\\Python310\\lib\\site-packages\\sklearn\\tree\\_classes.py:306: FutureWarning: `max_features='auto'` has been deprecated in 1.1 and will be removed in 1.3. To keep the past behaviour, explicitly set `max_features=1.0'`.\n",
      "  warnings.warn(\n",
      "C:\\Users\\HP\\AppData\\Local\\Programs\\Python\\Python310\\lib\\site-packages\\sklearn\\tree\\_classes.py:397: FutureWarning: Criterion 'mse' was deprecated in v1.0 and will be removed in version 1.2. Use `criterion='squared_error'` which is equivalent.\n",
      "  warnings.warn(\n",
      "C:\\Users\\HP\\AppData\\Local\\Programs\\Python\\Python310\\lib\\site-packages\\sklearn\\tree\\_classes.py:306: FutureWarning: `max_features='auto'` has been deprecated in 1.1 and will be removed in 1.3. To keep the past behaviour, explicitly set `max_features=1.0'`.\n",
      "  warnings.warn(\n",
      "C:\\Users\\HP\\AppData\\Local\\Programs\\Python\\Python310\\lib\\site-packages\\sklearn\\tree\\_classes.py:397: FutureWarning: Criterion 'mse' was deprecated in v1.0 and will be removed in version 1.2. Use `criterion='squared_error'` which is equivalent.\n",
      "  warnings.warn(\n",
      "C:\\Users\\HP\\AppData\\Local\\Programs\\Python\\Python310\\lib\\site-packages\\sklearn\\tree\\_classes.py:306: FutureWarning: `max_features='auto'` has been deprecated in 1.1 and will be removed in 1.3. To keep the past behaviour, explicitly set `max_features=1.0'`.\n",
      "  warnings.warn(\n",
      "C:\\Users\\HP\\AppData\\Local\\Programs\\Python\\Python310\\lib\\site-packages\\sklearn\\tree\\_classes.py:397: FutureWarning: Criterion 'mse' was deprecated in v1.0 and will be removed in version 1.2. Use `criterion='squared_error'` which is equivalent.\n",
      "  warnings.warn(\n",
      "C:\\Users\\HP\\AppData\\Local\\Programs\\Python\\Python310\\lib\\site-packages\\sklearn\\tree\\_classes.py:306: FutureWarning: `max_features='auto'` has been deprecated in 1.1 and will be removed in 1.3. To keep the past behaviour, explicitly set `max_features=1.0'`.\n",
      "  warnings.warn(\n",
      "C:\\Users\\HP\\AppData\\Local\\Programs\\Python\\Python310\\lib\\site-packages\\sklearn\\tree\\_classes.py:397: FutureWarning: Criterion 'mse' was deprecated in v1.0 and will be removed in version 1.2. Use `criterion='squared_error'` which is equivalent.\n",
      "  warnings.warn(\n",
      "C:\\Users\\HP\\AppData\\Local\\Programs\\Python\\Python310\\lib\\site-packages\\sklearn\\tree\\_classes.py:404: FutureWarning: Criterion 'mae' was deprecated in v1.0 and will be removed in version 1.2. Use `criterion='absolute_error'` which is equivalent.\n",
      "  warnings.warn(\n",
      "C:\\Users\\HP\\AppData\\Local\\Programs\\Python\\Python310\\lib\\site-packages\\sklearn\\tree\\_classes.py:404: FutureWarning: Criterion 'mae' was deprecated in v1.0 and will be removed in version 1.2. Use `criterion='absolute_error'` which is equivalent.\n",
      "  warnings.warn(\n",
      "C:\\Users\\HP\\AppData\\Local\\Programs\\Python\\Python310\\lib\\site-packages\\sklearn\\tree\\_classes.py:404: FutureWarning: Criterion 'mae' was deprecated in v1.0 and will be removed in version 1.2. Use `criterion='absolute_error'` which is equivalent.\n",
      "  warnings.warn(\n",
      "C:\\Users\\HP\\AppData\\Local\\Programs\\Python\\Python310\\lib\\site-packages\\sklearn\\tree\\_classes.py:404: FutureWarning: Criterion 'mae' was deprecated in v1.0 and will be removed in version 1.2. Use `criterion='absolute_error'` which is equivalent.\n",
      "  warnings.warn(\n",
      "C:\\Users\\HP\\AppData\\Local\\Programs\\Python\\Python310\\lib\\site-packages\\sklearn\\tree\\_classes.py:404: FutureWarning: Criterion 'mae' was deprecated in v1.0 and will be removed in version 1.2. Use `criterion='absolute_error'` which is equivalent.\n",
      "  warnings.warn(\n",
      "C:\\Users\\HP\\AppData\\Local\\Programs\\Python\\Python310\\lib\\site-packages\\sklearn\\tree\\_classes.py:306: FutureWarning: `max_features='auto'` has been deprecated in 1.1 and will be removed in 1.3. To keep the past behaviour, explicitly set `max_features=1.0'`.\n",
      "  warnings.warn(\n",
      "C:\\Users\\HP\\AppData\\Local\\Programs\\Python\\Python310\\lib\\site-packages\\sklearn\\tree\\_classes.py:404: FutureWarning: Criterion 'mae' was deprecated in v1.0 and will be removed in version 1.2. Use `criterion='absolute_error'` which is equivalent.\n",
      "  warnings.warn(\n"
     ]
    }
   ],
   "source": [
    "# for regresion we use neg-mean-sq-error, for classifiction we use-> accuracy\n",
    "scores = []\n",
    "for modelname, mp in params.items():\n",
    "    clf = RandomizedSearchCV(mp['model'],\n",
    "                            param_distributions = mp['params'],cv = 5,\n",
    "                            n_iter=10,scoring='neg_mean_squared_error',verbose=2)\n",
    "    clf.fit(x_train,y_train)\n",
    "    scores.append({\n",
    "        'model_name':modelname,\n",
    "        'best_score':clf.best_score_,\n",
    "        'best_estimator':clf.best_estimator_\n",
    "    })"
   ]
  },
  {
   "cell_type": "code",
   "execution_count": 42,
   "id": "cbdacdf4",
   "metadata": {},
   "outputs": [],
   "source": [
    "# here the scores list is a dictionary inside, we need to retrieve data from it.\n",
    "# unziping into pandas dataframe."
   ]
  },
  {
   "cell_type": "code",
   "execution_count": 49,
   "id": "d86bf230",
   "metadata": {},
   "outputs": [
    {
     "data": {
      "text/html": [
       "<div>\n",
       "<style scoped>\n",
       "    .dataframe tbody tr th:only-of-type {\n",
       "        vertical-align: middle;\n",
       "    }\n",
       "\n",
       "    .dataframe tbody tr th {\n",
       "        vertical-align: top;\n",
       "    }\n",
       "\n",
       "    .dataframe thead th {\n",
       "        text-align: right;\n",
       "    }\n",
       "</style>\n",
       "<table border=\"1\" class=\"dataframe\">\n",
       "  <thead>\n",
       "    <tr style=\"text-align: right;\">\n",
       "      <th></th>\n",
       "      <th>model_name</th>\n",
       "      <th>best_score</th>\n",
       "      <th>best_estimator</th>\n",
       "    </tr>\n",
       "  </thead>\n",
       "  <tbody>\n",
       "    <tr>\n",
       "      <th>0</th>\n",
       "      <td>RandomForest</td>\n",
       "      <td>-0.073169</td>\n",
       "      <td>(DecisionTreeRegressor(ccp_alpha=0.0025, crite...</td>\n",
       "    </tr>\n",
       "    <tr>\n",
       "      <th>1</th>\n",
       "      <td>Decision Tree</td>\n",
       "      <td>-0.085746</td>\n",
       "      <td>DecisionTreeRegressor(ccp_alpha=0.0025, criter...</td>\n",
       "    </tr>\n",
       "  </tbody>\n",
       "</table>\n",
       "</div>"
      ],
      "text/plain": [
       "      model_name  best_score  \\\n",
       "0   RandomForest   -0.073169   \n",
       "1  Decision Tree   -0.085746   \n",
       "\n",
       "                                      best_estimator  \n",
       "0  (DecisionTreeRegressor(ccp_alpha=0.0025, crite...  \n",
       "1  DecisionTreeRegressor(ccp_alpha=0.0025, criter...  "
      ]
     },
     "execution_count": 49,
     "metadata": {},
     "output_type": "execute_result"
    }
   ],
   "source": [
    "scores_df = pd.DataFrame(scores,columns=['model_name','best_score','best_estimator'])\n",
    "scores_df"
   ]
  },
  {
   "cell_type": "code",
   "execution_count": 50,
   "id": "d86c017f",
   "metadata": {},
   "outputs": [],
   "source": [
    "# here the error is very less 0.06 for randomforest. so prediction is high."
   ]
  },
  {
   "cell_type": "code",
   "execution_count": 51,
   "id": "3e80d287",
   "metadata": {},
   "outputs": [
    {
     "data": {
      "text/plain": [
       "[{'model_name': 'RandomForest',\n",
       "  'best_score': -0.07316920192245169,\n",
       "  'best_estimator': RandomForestRegressor(ccp_alpha=0.0025, criterion='mae', max_depth=30,\n",
       "                        max_features='sqrt', min_samples_leaf=5,\n",
       "                        min_samples_split=10, n_estimators=833)},\n",
       " {'model_name': 'Decision Tree',\n",
       "  'best_score': -0.08574562387751694,\n",
       "  'best_estimator': DecisionTreeRegressor(ccp_alpha=0.0025, criterion='mae', max_depth=22,\n",
       "                        max_features='auto', min_samples_leaf=10,\n",
       "                        min_samples_split=14)}]"
      ]
     },
     "execution_count": 51,
     "metadata": {},
     "output_type": "execute_result"
    }
   ],
   "source": [
    "# data for best parameteres for both the models.\n",
    "scores"
   ]
  },
  {
   "cell_type": "code",
   "execution_count": 52,
   "id": "3b741f19",
   "metadata": {},
   "outputs": [
    {
     "name": "stderr",
     "output_type": "stream",
     "text": [
      "C:\\Users\\HP\\AppData\\Local\\Programs\\Python\\Python310\\lib\\site-packages\\sklearn\\ensemble\\_forest.py:407: FutureWarning: Criterion 'mae' was deprecated in v1.0 and will be removed in version 1.2. Use `criterion='absolute_error'` which is equivalent.\n",
      "  warn(\n"
     ]
    },
    {
     "name": "stdout",
     "output_type": "stream",
     "text": [
      "0.885148335707028\n"
     ]
    }
   ],
   "source": [
    "# now we will take those parameters for random forest and see the changes.\n",
    "rf  = RandomForestRegressor(ccp_alpha=0.0025, criterion='mae', max_depth=30,\n",
    "                        max_features='sqrt', min_samples_leaf=5,\n",
    "                        min_samples_split=10, n_estimators=833)\n",
    "# training the model.\n",
    "rf.fit(x_train,y_train)\n",
    "# prediction on test data\n",
    "ypred = rf.predict(x_test)\n",
    "print(metrics.r2_score(y_test,y_pred))"
   ]
  },
  {
   "cell_type": "code",
   "execution_count": null,
   "id": "034d11d3",
   "metadata": {},
   "outputs": [],
   "source": [
    "# w can clearly see that there is almost no change in the accuracy of our model.\n",
    "#now we will do prediction on the whole dataset."
   ]
  },
  {
   "cell_type": "markdown",
   "id": "46e7fd72",
   "metadata": {},
   "source": [
    "# Prediction on the whole dataset"
   ]
  },
  {
   "cell_type": "code",
   "execution_count": null,
   "id": "b10cf7a3",
   "metadata": {},
   "outputs": [],
   "source": []
  }
 ],
 "metadata": {
  "kernelspec": {
   "display_name": "Python 3 (ipykernel)",
   "language": "python",
   "name": "python3"
  },
  "language_info": {
   "codemirror_mode": {
    "name": "ipython",
    "version": 3
   },
   "file_extension": ".py",
   "mimetype": "text/x-python",
   "name": "python",
   "nbconvert_exporter": "python",
   "pygments_lexer": "ipython3",
   "version": "3.10.5"
  }
 },
 "nbformat": 4,
 "nbformat_minor": 5
}
